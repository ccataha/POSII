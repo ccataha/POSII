{
  "nbformat": 4,
  "nbformat_minor": 0,
  "metadata": {
    "colab": {
      "provenance": [],
      "authorship_tag": "ABX9TyPTdesYWJXz+T9YP7wcSQ4U",
      "include_colab_link": true
    },
    "kernelspec": {
      "name": "python3",
      "display_name": "Python 3"
    },
    "language_info": {
      "name": "python"
    }
  },
  "cells": [
    {
      "cell_type": "markdown",
      "metadata": {
        "id": "view-in-github",
        "colab_type": "text"
      },
      "source": [
        "<a href=\"https://colab.research.google.com/github/koidula/POSII/blob/main/%D0%9B%D0%B0%D0%BD%D0%B4%D1%8B%D0%B7%D0%B8%D0%BD_%D0%9F%D0%9E%D0%A1%D0%98%D0%98_%D0%9F%D0%A01.ipynb\" target=\"_parent\"><img src=\"https://colab.research.google.com/assets/colab-badge.svg\" alt=\"Open In Colab\"/></a>"
      ]
    },
    {
      "cell_type": "markdown",
      "source": [
        "# Часть 1 **NumPy**\n",
        "\\\n",
        "Во всех заданиях данного раздела запрещено использовать циклы и list\n",
        "comprehensions. Под вектором и матрицей в данных заданиях понимается\n",
        "одномерный и двумерный numpy.array соответственно.\n",
        "\n"
      ],
      "metadata": {
        "id": "6VAcpewNANpJ"
      }
    },
    {
      "cell_type": "code",
      "execution_count": null,
      "metadata": {
        "id": "WuPwxybN9Hjq"
      },
      "outputs": [],
      "source": [
        "import numpy as np"
      ]
    },
    {
      "cell_type": "markdown",
      "source": [
        "#1 \n",
        "Реализуйте функцию, возвращающую максимальный элемент в векторе x\n",
        "среди элементов, перед которыми стоит нулевой. Для x = np.array([6, 2, 0, 3, 0,\n",
        "0, 5, 7, 0]) ответом является 5 Если нулевых элементов нет, функция должна\n",
        "возвращать None."
      ],
      "metadata": {
        "id": "4N1ieWSYIPB9"
      }
    },
    {
      "cell_type": "code",
      "source": [
        "def max_after0(arr):\n",
        "    x = arr == 0 # x - массив содержащий True для каждого нулевого элемента массива arr\n",
        "    #создаётся новый массив after_zero, который содержит все элементы arr, следующие за нулями. Для этого мы сначала берём \n",
        "    #подмассив arr[1:], содержащий все элементы arr, кроме первого, \n",
        "    #затем используем маску x[:-1], чтобы выбрать только те элементы arr[1:], которые следуют за нулевыми элементами arr.\n",
        "    after_zero = arr[1:][x[:-1]]\n",
        "    if after_zero.size > 0:\n",
        "        return after_zero.max()\n",
        "    else:\n",
        "        return None"
      ],
      "metadata": {
        "id": "Usex63CGIUwl"
      },
      "execution_count": null,
      "outputs": []
    },
    {
      "cell_type": "code",
      "source": [
        "a = np.array([6, 2, 0, 3, 0, 0, 5, 7, 0]) #5\n",
        "print(max_after0(a),\"\\n\")\n",
        "b = np.random.randint(10, size=10)\n",
        "print(max_after0(b))"
      ],
      "metadata": {
        "colab": {
          "base_uri": "https://localhost:8080/"
        },
        "id": "3UtllKreIVnk",
        "outputId": "968e7551-d365-4d41-82c1-f48c53946c8d"
      },
      "execution_count": null,
      "outputs": [
        {
          "output_type": "stream",
          "name": "stdout",
          "text": [
            "5 \n",
            "\n",
            "7\n"
          ]
        }
      ]
    },
    {
      "cell_type": "markdown",
      "source": [
        "#2 \n",
        "Реализуйте функцию, принимающую на вход матрицу и некоторое число и\n",
        "возвращающую ближайший к числу элемент матрицы. Например: для X =\n",
        "np.arange(0,10).reshape((2, 5)) и v = 3.6 ответом будет 4\n"
      ],
      "metadata": {
        "id": "I5wRp-MGAVng"
      }
    },
    {
      "cell_type": "code",
      "source": [
        "def nearest_value(matrix, v):\n",
        "    flattened_matrix = matrix.flatten()  # Превращаем матрицу в одномерный массив\n",
        "    idx = np.abs(flattened_matrix - v).argmin()  # Индекс ближайшего элемента\n",
        "    return flattened_matrix[idx]  # Возвращаем ближайший элемент"
      ],
      "metadata": {
        "id": "lyLRPB3eA_mi"
      },
      "execution_count": null,
      "outputs": []
    },
    {
      "cell_type": "code",
      "source": [
        "X = np.arange(0,10).reshape((2, 5)) \n",
        "v = 3.6\n",
        "nearest_value(X, v)"
      ],
      "metadata": {
        "colab": {
          "base_uri": "https://localhost:8080/"
        },
        "id": "k25hSOyHHpHz",
        "outputId": "6ba14de2-4fca-48b5-d4c7-7036e811fa59"
      },
      "execution_count": null,
      "outputs": [
        {
          "output_type": "execute_result",
          "data": {
            "text/plain": [
              "4"
            ]
          },
          "metadata": {},
          "execution_count": 15
        }
      ]
    },
    {
      "cell_type": "code",
      "source": [
        "A = np.arange(6).reshape(2,3) + 10\n",
        "v = 13.51\n",
        "nearest_value(A, v)"
      ],
      "metadata": {
        "colab": {
          "base_uri": "https://localhost:8080/"
        },
        "id": "LzCI-068t-9Y",
        "outputId": "234acc63-ecce-4d4d-d567-2ba4cc3311f5"
      },
      "execution_count": null,
      "outputs": [
        {
          "output_type": "execute_result",
          "data": {
            "text/plain": [
              "14"
            ]
          },
          "metadata": {},
          "execution_count": 16
        }
      ]
    },
    {
      "cell_type": "markdown",
      "source": [
        "#3\n",
        "Реализуйте функцию scale(X), которая принимает на вход матрицу и\n",
        "масштабирует каждый ее столбец (вычитает выборочное среднее и делит на\n",
        "стандартное отклонение). Убедитесь, что в функции не будет происходить\n",
        "деления на ноль. Протестируйте на случайной матрице (для её генерации\n",
        "можно использовать, например, функцию numpy.random.randint).\n"
      ],
      "metadata": {
        "id": "_gny72b8AY0w"
      }
    },
    {
      "cell_type": "code",
      "source": [
        "def scale(X):\n",
        "    # Вычисляем среднее и стандартное отклонение по каждому столбцу\n",
        "    col_mean = np.mean(X, axis=0)\n",
        "    col_std = np.std(X, axis=0)\n",
        "    \n",
        "    # Заменяем нулевые стандартные отклонения на единицу, чтобы избежать деления на ноль\n",
        "    col_std[col_std == 0] = 1\n",
        "    \n",
        "    # Масштабируем каждый столбец\n",
        "    scaled_X = (X - col_mean) / col_std\n",
        "    \n",
        "    return scaled_X"
      ],
      "metadata": {
        "id": "yABQsAVwA-si"
      },
      "execution_count": null,
      "outputs": []
    },
    {
      "cell_type": "code",
      "source": [
        "# Генерируем случайную матрицу\n",
        "X = np.random.randint(low=0, high=10, size=(5, 5))\n",
        "print(\"Matrix\")\n",
        "print(X)\n",
        "\n",
        "# Масштабируем каждый столбец матрицы\n",
        "scaled_X = scale(X)\n",
        "print(\"Scaled matrix\")\n",
        "print(scaled_X)"
      ],
      "metadata": {
        "colab": {
          "base_uri": "https://localhost:8080/"
        },
        "id": "MCVqTre6wErd",
        "outputId": "30371afb-4997-4d37-dc4e-3b6a1096c4a1"
      },
      "execution_count": null,
      "outputs": [
        {
          "output_type": "stream",
          "name": "stdout",
          "text": [
            "Matrix\n",
            "[[8 3 0 4 7]\n",
            " [3 4 5 9 6]\n",
            " [6 1 4 2 1]\n",
            " [9 9 7 9 6]\n",
            " [5 0 5 5 8]]\n",
            "Scaled matrix\n",
            "[[ 0.84292723 -0.12751534 -1.81412369 -0.64616234  0.57932412]\n",
            " [-1.4985373   0.19127301  0.34554737  1.14873305  0.16552118]\n",
            " [-0.09365858 -0.76509206 -0.08638684 -1.3641205  -1.90349354]\n",
            " [ 1.31122014  1.7852148   1.2094158   1.14873305  0.16552118]\n",
            " [-0.56195149 -1.08388041  0.34554737 -0.28718326  0.99312707]]\n"
          ]
        }
      ]
    },
    {
      "cell_type": "markdown",
      "source": [
        "#4 \n",
        "Реализуйте функцию, которая для заданной матрицы находит:\n",
        "\n",
        "*   определитель\n",
        "*   след\n",
        "*   наименьший и наибольший элементы\n",
        "*   норму Фробениуса\n",
        "*   собственные числа\n",
        "*   обратную матрицу\n",
        "\n",
        "Для тестирования сгенерируйте матрицу с элементами из нормального распределения N(10,1)"
      ],
      "metadata": {
        "id": "Yy5xd6qJAaYI"
      }
    },
    {
      "cell_type": "code",
      "source": [
        "def matrix_stats(X):\n",
        "    # Находим определитель\n",
        "    det_X = np.linalg.det(X)\n",
        "    \n",
        "    # Находим след\n",
        "    trace_X = np.trace(X)\n",
        "    \n",
        "    # Находим наименьший и наибольший элементы\n",
        "    min_X = np.min(X)\n",
        "    max_X = np.max(X)\n",
        "    \n",
        "    # Находим норму Фробениуса\n",
        "    frob_norm_X = np.linalg.norm(X, ord='fro')\n",
        "    \n",
        "    # Находим собственные числа\n",
        "    eigenvals_X = np.linalg.eigvals(X)\n",
        "    \n",
        "    # Находим обратную матрицу\n",
        "    inv_X = np.linalg.inv(X)\n",
        "    \n",
        "    # Возвращаем результаты\n",
        "    return det_X, trace_X, min_X, max_X, frob_norm_X, eigenvals_X, inv_X"
      ],
      "metadata": {
        "id": "HQXgML45wj7C"
      },
      "execution_count": null,
      "outputs": []
    },
    {
      "cell_type": "code",
      "source": [
        "# Генерируем матрицу размера 3x3 со значениями из нормального распределения N(10,1)\n",
        "X = np.random.normal(loc=10, scale=1, size=(3, 3))\n",
        "print(\"Исходная матрица:\")\n",
        "print(X)\n",
        "\n",
        "# Вычисляем статистики матрицы\n",
        "det_X, trace_X, min_X, max_X, frob_norm_X, eigenvals_X, inv_X = matrix_stats(X)\n",
        "\n",
        "# Выводим результаты на экран\n",
        "print(\"Определитель матрицы:\", det_X)\n",
        "print(\"След матрицы:\", trace_X)\n",
        "print(\"Наименьший элемент матрицы:\", min_X)\n",
        "print(\"Наибольший элемент матрицы:\", max_X)\n",
        "print(\"Норма Фробениуса матрицы:\", frob_norm_X)\n",
        "print(\"Собственные числа матрицы:\", eigenvals_X)\n",
        "print(\"Обратная матрица:\")\n",
        "print(inv_X)"
      ],
      "metadata": {
        "colab": {
          "base_uri": "https://localhost:8080/"
        },
        "id": "PBDJFiX9w25W",
        "outputId": "ec78f606-9813-4336-f5b7-09b8d76f17b1"
      },
      "execution_count": null,
      "outputs": [
        {
          "output_type": "stream",
          "name": "stdout",
          "text": [
            "Исходная матрица:\n",
            "[[10.51965592  9.12325022  9.12449412]\n",
            " [ 8.39286801 11.63950272  9.80385971]\n",
            " [ 9.2566364   9.24148047 10.49346564]]\n",
            "Определитель матрицы: 80.83007774435653\n",
            "След матрицы: 32.652624271976684\n",
            "Наименьший элемент матрицы: 8.392868012158518\n",
            "Наибольший элемент матрицы: 11.639502719157376\n",
            "Норма Фробениуса матрицы: 29.33240989343148\n",
            "Собственные числа матрицы: [29.20964677  2.16452869  1.27844881]\n",
            "Обратная матрица:\n",
            "[[ 0.39015852 -0.14116872 -0.20736722]\n",
            " [ 0.03316207  0.32074104 -0.32849846]\n",
            " [-0.37337733 -0.15794349  0.56752796]]\n"
          ]
        }
      ]
    },
    {
      "cell_type": "markdown",
      "source": [
        "#5\n",
        "Повторите 100 раз следующий эксперимент: сгенерируйте две матрицы\n",
        "размера 10×10 из стандартного нормального распределения, перемножьте их\n",
        "(как матрицы) и найдите максимальный элемент. Какое среднее значение по\n",
        "экспериментам у максимальных элементов? 95-процентная квантиль?"
      ],
      "metadata": {
        "id": "1N7YPK5_xE6z"
      }
    },
    {
      "cell_type": "markdown",
      "source": [
        "*Кванти́ль в математической статистике — значение, которое заданная случайная величина не превышает с фиксированной вероятностью. Если вероятность задана в процентах, то квантиль называется процентилем или перцентилем*\n",
        "\n",
        "*Например, фраза «90-й процентиль массы тела у новорожденных мальчиков составляет 4 кг»[1] означает, что 90 % мальчиков рождаются с весом, меньшим либо равным 4 кг, а 10 % мальчиков рождаются с весом, большим либо равным 4 кг.*"
      ],
      "metadata": {
        "id": "QPfYlZQBxlPh"
      }
    },
    {
      "cell_type": "code",
      "source": [
        "max_vals = []\n",
        "#Придется использовать циклы\n",
        "for i in range(100):\n",
        "    A = np.random.randn(10, 10)\n",
        "    B = np.random.randn(10, 10)\n",
        "    C = np.dot(A,B)\n",
        "    max_val = C.max()\n",
        "    max_vals.append(max_val)\n",
        "\n",
        "mean_max = np.mean(max_vals)\n",
        "quantile_95 = np.percentile(max_vals, 95)\n",
        "\n",
        "print(f\"Среднее значение максимальных элементов: {mean_max}\")\n",
        "print(f\"95-процентная квантиль: {quantile_95}\")"
      ],
      "metadata": {
        "colab": {
          "base_uri": "https://localhost:8080/"
        },
        "id": "vEDPoxC7xDkm",
        "outputId": "527c3f1e-7466-4d97-e237-b2f71fb8e387"
      },
      "execution_count": null,
      "outputs": [
        {
          "output_type": "stream",
          "name": "stdout",
          "text": [
            "Среднее значение максимальных элементов: 8.336163468484063\n",
            "95-процентная квантиль: 11.663774363529127\n"
          ]
        }
      ]
    },
    {
      "cell_type": "markdown",
      "source": [
        "# Часть 2 **Pandas**"
      ],
      "metadata": {
        "id": "U1TZbBk-y_lS"
      }
    },
    {
      "cell_type": "markdown",
      "source": [
        "Ответьте на вопросы о данных по авиарейсам в США за январь-апрель\n",
        "2008 года.\n",
        "* [Данные](https://www.dropbox.com/s/dvfitn93obn0rql/2008.csv?dl=0)\n",
        "\n",
        "* [описание](http://stat-computing.org/dataexpo/2009/the-data.html)"
      ],
      "metadata": {
        "id": "RXYVWblgzuEK"
      }
    },
    {
      "cell_type": "code",
      "source": [
        "from google.colab import drive\n",
        "drive.mount('/content/drive/')\n",
        "import pandas as pd\n",
        "\n",
        "data = pd.read_csv('/content/drive/MyDrive/Магистратура/4 cем/ПОСИИ/ПР1/2008.csv')"
      ],
      "metadata": {
        "colab": {
          "base_uri": "https://localhost:8080/"
        },
        "id": "YxEZgX3PJ4cs",
        "outputId": "7d2a935a-bcb4-4927-f2d3-0d9ed9ce8c21"
      },
      "execution_count": null,
      "outputs": [
        {
          "output_type": "stream",
          "name": "stdout",
          "text": [
            "Drive already mounted at /content/drive/; to attempt to forcibly remount, call drive.mount(\"/content/drive/\", force_remount=True).\n"
          ]
        }
      ]
    },
    {
      "cell_type": "code",
      "source": [
        "data.head() "
      ],
      "metadata": {
        "colab": {
          "base_uri": "https://localhost:8080/",
          "height": 300
        },
        "id": "no0TvFt3YcPs",
        "outputId": "1064f73c-f3ef-43ca-bb0e-ddc2f295756e"
      },
      "execution_count": null,
      "outputs": [
        {
          "output_type": "execute_result",
          "data": {
            "text/plain": [
              "   Year  Month  DayofMonth  DayOfWeek  DepTime  CRSDepTime  ArrTime  \\\n",
              "0  2008      6          18          3   2111.0        2055   2308.0   \n",
              "1  2008      6           4          3   1426.0        1410   1730.0   \n",
              "2  2008      8           3          7   1143.0        1145   1501.0   \n",
              "3  2008      1          23          3   1141.0        1144   1323.0   \n",
              "4  2008      5           4          7    815.0         820   1243.0   \n",
              "\n",
              "   CRSArrTime UniqueCarrier  FlightNum  ... TaxiIn  TaxiOut  Cancelled  \\\n",
              "0        2300            WN        242  ...    3.0      8.0          0   \n",
              "1        1728            XE       2380  ...    4.0     12.0          0   \n",
              "2        1520            WN       1769  ...    4.0      9.0          0   \n",
              "3        1335            OO       3802  ...    4.0     19.0          0   \n",
              "4        1300            WN        399  ...    4.0      8.0          0   \n",
              "\n",
              "   CancellationCode  Diverted  CarrierDelay WeatherDelay NASDelay  \\\n",
              "0               NaN         0           NaN          NaN      NaN   \n",
              "1               NaN         0           NaN          NaN      NaN   \n",
              "2               NaN         0           NaN          NaN      NaN   \n",
              "3               NaN         0           NaN          NaN      NaN   \n",
              "4               NaN         0           NaN          NaN      NaN   \n",
              "\n",
              "   SecurityDelay  LateAircraftDelay  \n",
              "0            NaN                NaN  \n",
              "1            NaN                NaN  \n",
              "2            NaN                NaN  \n",
              "3            NaN                NaN  \n",
              "4            NaN                NaN  \n",
              "\n",
              "[5 rows x 29 columns]"
            ],
            "text/html": [
              "\n",
              "  <div id=\"df-6b9d317f-2cdb-4fe6-84e4-7f20e4355bcf\">\n",
              "    <div class=\"colab-df-container\">\n",
              "      <div>\n",
              "<style scoped>\n",
              "    .dataframe tbody tr th:only-of-type {\n",
              "        vertical-align: middle;\n",
              "    }\n",
              "\n",
              "    .dataframe tbody tr th {\n",
              "        vertical-align: top;\n",
              "    }\n",
              "\n",
              "    .dataframe thead th {\n",
              "        text-align: right;\n",
              "    }\n",
              "</style>\n",
              "<table border=\"1\" class=\"dataframe\">\n",
              "  <thead>\n",
              "    <tr style=\"text-align: right;\">\n",
              "      <th></th>\n",
              "      <th>Year</th>\n",
              "      <th>Month</th>\n",
              "      <th>DayofMonth</th>\n",
              "      <th>DayOfWeek</th>\n",
              "      <th>DepTime</th>\n",
              "      <th>CRSDepTime</th>\n",
              "      <th>ArrTime</th>\n",
              "      <th>CRSArrTime</th>\n",
              "      <th>UniqueCarrier</th>\n",
              "      <th>FlightNum</th>\n",
              "      <th>...</th>\n",
              "      <th>TaxiIn</th>\n",
              "      <th>TaxiOut</th>\n",
              "      <th>Cancelled</th>\n",
              "      <th>CancellationCode</th>\n",
              "      <th>Diverted</th>\n",
              "      <th>CarrierDelay</th>\n",
              "      <th>WeatherDelay</th>\n",
              "      <th>NASDelay</th>\n",
              "      <th>SecurityDelay</th>\n",
              "      <th>LateAircraftDelay</th>\n",
              "    </tr>\n",
              "  </thead>\n",
              "  <tbody>\n",
              "    <tr>\n",
              "      <th>0</th>\n",
              "      <td>2008</td>\n",
              "      <td>6</td>\n",
              "      <td>18</td>\n",
              "      <td>3</td>\n",
              "      <td>2111.0</td>\n",
              "      <td>2055</td>\n",
              "      <td>2308.0</td>\n",
              "      <td>2300</td>\n",
              "      <td>WN</td>\n",
              "      <td>242</td>\n",
              "      <td>...</td>\n",
              "      <td>3.0</td>\n",
              "      <td>8.0</td>\n",
              "      <td>0</td>\n",
              "      <td>NaN</td>\n",
              "      <td>0</td>\n",
              "      <td>NaN</td>\n",
              "      <td>NaN</td>\n",
              "      <td>NaN</td>\n",
              "      <td>NaN</td>\n",
              "      <td>NaN</td>\n",
              "    </tr>\n",
              "    <tr>\n",
              "      <th>1</th>\n",
              "      <td>2008</td>\n",
              "      <td>6</td>\n",
              "      <td>4</td>\n",
              "      <td>3</td>\n",
              "      <td>1426.0</td>\n",
              "      <td>1410</td>\n",
              "      <td>1730.0</td>\n",
              "      <td>1728</td>\n",
              "      <td>XE</td>\n",
              "      <td>2380</td>\n",
              "      <td>...</td>\n",
              "      <td>4.0</td>\n",
              "      <td>12.0</td>\n",
              "      <td>0</td>\n",
              "      <td>NaN</td>\n",
              "      <td>0</td>\n",
              "      <td>NaN</td>\n",
              "      <td>NaN</td>\n",
              "      <td>NaN</td>\n",
              "      <td>NaN</td>\n",
              "      <td>NaN</td>\n",
              "    </tr>\n",
              "    <tr>\n",
              "      <th>2</th>\n",
              "      <td>2008</td>\n",
              "      <td>8</td>\n",
              "      <td>3</td>\n",
              "      <td>7</td>\n",
              "      <td>1143.0</td>\n",
              "      <td>1145</td>\n",
              "      <td>1501.0</td>\n",
              "      <td>1520</td>\n",
              "      <td>WN</td>\n",
              "      <td>1769</td>\n",
              "      <td>...</td>\n",
              "      <td>4.0</td>\n",
              "      <td>9.0</td>\n",
              "      <td>0</td>\n",
              "      <td>NaN</td>\n",
              "      <td>0</td>\n",
              "      <td>NaN</td>\n",
              "      <td>NaN</td>\n",
              "      <td>NaN</td>\n",
              "      <td>NaN</td>\n",
              "      <td>NaN</td>\n",
              "    </tr>\n",
              "    <tr>\n",
              "      <th>3</th>\n",
              "      <td>2008</td>\n",
              "      <td>1</td>\n",
              "      <td>23</td>\n",
              "      <td>3</td>\n",
              "      <td>1141.0</td>\n",
              "      <td>1144</td>\n",
              "      <td>1323.0</td>\n",
              "      <td>1335</td>\n",
              "      <td>OO</td>\n",
              "      <td>3802</td>\n",
              "      <td>...</td>\n",
              "      <td>4.0</td>\n",
              "      <td>19.0</td>\n",
              "      <td>0</td>\n",
              "      <td>NaN</td>\n",
              "      <td>0</td>\n",
              "      <td>NaN</td>\n",
              "      <td>NaN</td>\n",
              "      <td>NaN</td>\n",
              "      <td>NaN</td>\n",
              "      <td>NaN</td>\n",
              "    </tr>\n",
              "    <tr>\n",
              "      <th>4</th>\n",
              "      <td>2008</td>\n",
              "      <td>5</td>\n",
              "      <td>4</td>\n",
              "      <td>7</td>\n",
              "      <td>815.0</td>\n",
              "      <td>820</td>\n",
              "      <td>1243.0</td>\n",
              "      <td>1300</td>\n",
              "      <td>WN</td>\n",
              "      <td>399</td>\n",
              "      <td>...</td>\n",
              "      <td>4.0</td>\n",
              "      <td>8.0</td>\n",
              "      <td>0</td>\n",
              "      <td>NaN</td>\n",
              "      <td>0</td>\n",
              "      <td>NaN</td>\n",
              "      <td>NaN</td>\n",
              "      <td>NaN</td>\n",
              "      <td>NaN</td>\n",
              "      <td>NaN</td>\n",
              "    </tr>\n",
              "  </tbody>\n",
              "</table>\n",
              "<p>5 rows × 29 columns</p>\n",
              "</div>\n",
              "      <button class=\"colab-df-convert\" onclick=\"convertToInteractive('df-6b9d317f-2cdb-4fe6-84e4-7f20e4355bcf')\"\n",
              "              title=\"Convert this dataframe to an interactive table.\"\n",
              "              style=\"display:none;\">\n",
              "        \n",
              "  <svg xmlns=\"http://www.w3.org/2000/svg\" height=\"24px\"viewBox=\"0 0 24 24\"\n",
              "       width=\"24px\">\n",
              "    <path d=\"M0 0h24v24H0V0z\" fill=\"none\"/>\n",
              "    <path d=\"M18.56 5.44l.94 2.06.94-2.06 2.06-.94-2.06-.94-.94-2.06-.94 2.06-2.06.94zm-11 1L8.5 8.5l.94-2.06 2.06-.94-2.06-.94L8.5 2.5l-.94 2.06-2.06.94zm10 10l.94 2.06.94-2.06 2.06-.94-2.06-.94-.94-2.06-.94 2.06-2.06.94z\"/><path d=\"M17.41 7.96l-1.37-1.37c-.4-.4-.92-.59-1.43-.59-.52 0-1.04.2-1.43.59L10.3 9.45l-7.72 7.72c-.78.78-.78 2.05 0 2.83L4 21.41c.39.39.9.59 1.41.59.51 0 1.02-.2 1.41-.59l7.78-7.78 2.81-2.81c.8-.78.8-2.07 0-2.86zM5.41 20L4 18.59l7.72-7.72 1.47 1.35L5.41 20z\"/>\n",
              "  </svg>\n",
              "      </button>\n",
              "      \n",
              "  <style>\n",
              "    .colab-df-container {\n",
              "      display:flex;\n",
              "      flex-wrap:wrap;\n",
              "      gap: 12px;\n",
              "    }\n",
              "\n",
              "    .colab-df-convert {\n",
              "      background-color: #E8F0FE;\n",
              "      border: none;\n",
              "      border-radius: 50%;\n",
              "      cursor: pointer;\n",
              "      display: none;\n",
              "      fill: #1967D2;\n",
              "      height: 32px;\n",
              "      padding: 0 0 0 0;\n",
              "      width: 32px;\n",
              "    }\n",
              "\n",
              "    .colab-df-convert:hover {\n",
              "      background-color: #E2EBFA;\n",
              "      box-shadow: 0px 1px 2px rgba(60, 64, 67, 0.3), 0px 1px 3px 1px rgba(60, 64, 67, 0.15);\n",
              "      fill: #174EA6;\n",
              "    }\n",
              "\n",
              "    [theme=dark] .colab-df-convert {\n",
              "      background-color: #3B4455;\n",
              "      fill: #D2E3FC;\n",
              "    }\n",
              "\n",
              "    [theme=dark] .colab-df-convert:hover {\n",
              "      background-color: #434B5C;\n",
              "      box-shadow: 0px 1px 3px 1px rgba(0, 0, 0, 0.15);\n",
              "      filter: drop-shadow(0px 1px 2px rgba(0, 0, 0, 0.3));\n",
              "      fill: #FFFFFF;\n",
              "    }\n",
              "  </style>\n",
              "\n",
              "      <script>\n",
              "        const buttonEl =\n",
              "          document.querySelector('#df-6b9d317f-2cdb-4fe6-84e4-7f20e4355bcf button.colab-df-convert');\n",
              "        buttonEl.style.display =\n",
              "          google.colab.kernel.accessAllowed ? 'block' : 'none';\n",
              "\n",
              "        async function convertToInteractive(key) {\n",
              "          const element = document.querySelector('#df-6b9d317f-2cdb-4fe6-84e4-7f20e4355bcf');\n",
              "          const dataTable =\n",
              "            await google.colab.kernel.invokeFunction('convertToInteractive',\n",
              "                                                     [key], {});\n",
              "          if (!dataTable) return;\n",
              "\n",
              "          const docLinkHtml = 'Like what you see? Visit the ' +\n",
              "            '<a target=\"_blank\" href=https://colab.research.google.com/notebooks/data_table.ipynb>data table notebook</a>'\n",
              "            + ' to learn more about interactive tables.';\n",
              "          element.innerHTML = '';\n",
              "          dataTable['output_type'] = 'display_data';\n",
              "          await google.colab.output.renderOutput(dataTable, element);\n",
              "          const docLink = document.createElement('div');\n",
              "          docLink.innerHTML = docLinkHtml;\n",
              "          element.appendChild(docLink);\n",
              "        }\n",
              "      </script>\n",
              "    </div>\n",
              "  </div>\n",
              "  "
            ]
          },
          "metadata": {},
          "execution_count": 20
        }
      ]
    },
    {
      "cell_type": "code",
      "source": [
        "list(data.columns.values)"
      ],
      "metadata": {
        "colab": {
          "base_uri": "https://localhost:8080/"
        },
        "id": "ejXnv3K2YtZZ",
        "outputId": "199feed0-dbb2-425d-8619-577eb59780a3"
      },
      "execution_count": null,
      "outputs": [
        {
          "output_type": "execute_result",
          "data": {
            "text/plain": [
              "['Year',\n",
              " 'Month',\n",
              " 'DayofMonth',\n",
              " 'DayOfWeek',\n",
              " 'DepTime',\n",
              " 'CRSDepTime',\n",
              " 'ArrTime',\n",
              " 'CRSArrTime',\n",
              " 'UniqueCarrier',\n",
              " 'FlightNum',\n",
              " 'TailNum',\n",
              " 'ActualElapsedTime',\n",
              " 'CRSElapsedTime',\n",
              " 'AirTime',\n",
              " 'ArrDelay',\n",
              " 'DepDelay',\n",
              " 'Origin',\n",
              " 'Dest',\n",
              " 'Distance',\n",
              " 'TaxiIn',\n",
              " 'TaxiOut',\n",
              " 'Cancelled',\n",
              " 'CancellationCode',\n",
              " 'Diverted',\n",
              " 'CarrierDelay',\n",
              " 'WeatherDelay',\n",
              " 'NASDelay',\n",
              " 'SecurityDelay',\n",
              " 'LateAircraftDelay']"
            ]
          },
          "metadata": {},
          "execution_count": 21
        }
      ]
    },
    {
      "cell_type": "markdown",
      "source": [
        "#6\n",
        "\n",
        "Какая из причин отмены рейса (CancellationCode) была самой частой?\n",
        "(расшифровки кодов можно найти в описании данных)\n",
        "\n",
        "* A = carrier \n",
        "* B = weather \n",
        "* C = NAS\n",
        "* D = security\n"
      ],
      "metadata": {
        "id": "lN6GNtcby2ED"
      }
    },
    {
      "cell_type": "code",
      "source": [
        "cancellation_counts = data[\"CancellationCode\"].value_counts()\n",
        "print(cancellation_counts)"
      ],
      "metadata": {
        "colab": {
          "base_uri": "https://localhost:8080/"
        },
        "id": "9wWkaVnsMpfR",
        "outputId": "52aca84b-80f0-4681-99e5-1289140534bf"
      },
      "execution_count": null,
      "outputs": [
        {
          "output_type": "stream",
          "name": "stdout",
          "text": [
            "A    563\n",
            "B    549\n",
            "C    299\n",
            "Name: CancellationCode, dtype: int64\n"
          ]
        }
      ]
    },
    {
      "cell_type": "markdown",
      "source": [
        "# 7 \n",
        "Найдите среднее, минимальное и максимальное расстояние, пройденное самолетом.\n"
      ],
      "metadata": {
        "id": "U2W3xjyUzF6E"
      }
    },
    {
      "cell_type": "code",
      "source": [
        "mean_distance = data[\"Distance\"].mean()\n",
        "\n",
        "min_distance = data[\"Distance\"].min()\n",
        "\n",
        "max_distance = data[\"Distance\"].max()\n",
        "\n",
        "print(\"Среднее расстояние: \", mean_distance)\n",
        "print(\"Минимальное расстояние: \", min_distance)\n",
        "print(\"Максимальное расстояние: \", max_distance)"
      ],
      "metadata": {
        "colab": {
          "base_uri": "https://localhost:8080/"
        },
        "id": "6RjfdR_bVfLc",
        "outputId": "fce487aa-f6ab-48a6-cb63-d070614e9f18"
      },
      "execution_count": null,
      "outputs": [
        {
          "output_type": "stream",
          "name": "stdout",
          "text": [
            "Среднее расстояние:  724.5082571428571\n",
            "Минимальное расстояние:  31\n",
            "Максимальное расстояние:  4962\n"
          ]
        }
      ]
    },
    {
      "cell_type": "markdown",
      "source": [
        "#8 \n",
        "Не выглядит ли подозрительным минимальное пройденное расстояние? В\n",
        "какие дни и на каких рейсах оно было? Какое расстояние было пройдено этими же рейсами в другие дни?\n"
      ],
      "metadata": {
        "id": "2nhGftWczKSv"
      }
    },
    {
      "cell_type": "code",
      "source": [
        "# найти записи с минимальным расстоянием\n",
        "min_distance_flights = data[data[\"Distance\"] == min_distance]\n",
        "\n",
        "# вывести даты и номера рейсов, в которых было пройдено минимальное расстояние\n",
        "print(\"Рейсы с минимальным расстоянием:\")\n",
        "print(min_distance_flights[[\"Distance\", \"FlightNum\", \"Year\", \"Month\", \"DayofMonth\"]])\n",
        "\n",
        "# найти записи для тех же рейсов, которые были выполнены в другие дни\n",
        "same_flights = data[data[\"FlightNum\"].isin(min_distance_flights[\"FlightNum\"])]\n",
        "\n",
        "# вывести расстояния для тех же рейсов, которые были выполнены в другие дни\n",
        "print(\"Расстояния для тех же рейсов, которые были выполнены в другие дни:\")\n",
        "print(same_flights.groupby(\"FlightNum\")[\"Distance\"].mean())"
      ],
      "metadata": {
        "colab": {
          "base_uri": "https://localhost:8080/"
        },
        "id": "R4lus8qQWCZE",
        "outputId": "e8f610bf-29f9-4de9-8a9a-12116b5ac6f7"
      },
      "execution_count": null,
      "outputs": [
        {
          "output_type": "stream",
          "name": "stdout",
          "text": [
            "Рейсы с минимальным расстоянием:\n",
            "       Distance  FlightNum  Year  Month  DayofMonth\n",
            "1116         31         65  2008     12          30\n",
            "6958         31         65  2008     12          26\n",
            "17349        31         64  2008      8          18\n",
            "27534        31         64  2008      3          11\n",
            "46082        31         65  2008      8           9\n",
            "48112        31         64  2008      2          28\n",
            "Расстояния для тех же рейсов, которые были выполнены в другие дни:\n",
            "FlightNum\n",
            "64    748.128205\n",
            "65    783.512821\n",
            "Name: Distance, dtype: float64\n"
          ]
        }
      ]
    },
    {
      "cell_type": "markdown",
      "source": [
        "#9 \n",
        "Из какого аэропорта было произведено больше всего вылетов? В каком\n",
        "городе он находится?\n"
      ],
      "metadata": {
        "id": "2EsPVohAzPP9"
      }
    },
    {
      "cell_type": "code",
      "source": [
        "# найти количество вылетов из каждого аэропорта\n",
        "departures_count = data[\"Origin\"].value_counts()\n",
        "\n",
        "# найти аэропорт с максимальным количеством вылетов\n",
        "max_departures_airport = departures_count.idxmax()\n",
        "max_departures = departures_count.max()\n",
        "# вывести информацию о максимальном количестве вылетов и городе, в котором находится аэропорт\n",
        "print(f\"Больше всего вылетов ({max_departures}) было произведено из аэропорта {max_departures_airport}.\") #В csv нет информации о городе"
      ],
      "metadata": {
        "colab": {
          "base_uri": "https://localhost:8080/"
        },
        "id": "ciPeqgVSYL5N",
        "outputId": "155cfbcb-66b6-4ab7-97ee-666687fbbcf1"
      },
      "execution_count": null,
      "outputs": [
        {
          "output_type": "stream",
          "name": "stdout",
          "text": [
            "Больше всего вылетов (4134) было произведено из аэропорта ATL.\n"
          ]
        }
      ]
    },
    {
      "cell_type": "markdown",
      "source": [
        "# 10 \n",
        "Найдите для каждого аэропорта среднее время полета (AirTime) по всем\n",
        "вылетевшим из него рейсам. Какой аэропорт имеет наибольшее значение этого показателя?\n"
      ],
      "metadata": {
        "id": "kJjYowGvzVJV"
      }
    },
    {
      "cell_type": "code",
      "source": [
        "# найти среднее время полета для каждого аэропорта\n",
        "mean_airtime = data.groupby(\"Origin\")[\"AirTime\"].mean()\n",
        "\n",
        "# вывести аэропорт с наибольшим средним временем полета\n",
        "max_airtime_airport = mean_airtime.idxmax()\n",
        "\n",
        "# вывести информацию о наибольшем среднем времени полета и соответствующем аэропорте\n",
        "print(f\"Наибольшее среднее время полета ({mean_airtime[max_airtime_airport]:.2f} мин) имеет аэропорт {max_airtime_airport}.\")\n"
      ],
      "metadata": {
        "colab": {
          "base_uri": "https://localhost:8080/"
        },
        "id": "diZ7i2IXZ1b-",
        "outputId": "e4fdba60-4507-4a1a-9515-297650ca48be"
      },
      "execution_count": null,
      "outputs": [
        {
          "output_type": "stream",
          "name": "stdout",
          "text": [
            "Наибольшее среднее время полета (205.20 мин) имеет аэропорт SJU.\n"
          ]
        }
      ]
    },
    {
      "cell_type": "markdown",
      "source": [
        "#11 \n",
        "Найдите аэропорт, у которого наибольшая доля задержанных (DepDelay > 0) рейсов. Исключите при этом из рассмотрения аэропорты, из которых было отправлено меньше 1000 рейсов (используйте функцию filter после groupby)."
      ],
      "metadata": {
        "id": "LRvMeMinzasH"
      }
    },
    {
      "cell_type": "code",
      "source": [
        "# создать фильтр для исключения аэропортов с менее чем 1000 вылетами\n",
        "airport_filter = data.groupby(\"Origin\").filter(lambda x: len(x) >= 1000)\n",
        "\n",
        "# найти долю задержанных рейсов по каждому аэропорту\n",
        "delayed_flights = airport_filter[airport_filter[\"DepDelay\"] > 0].groupby(\"Origin\")[\"DepDelay\"].count() / airport_filter.groupby(\"Origin\")[\"DepDelay\"].count()\n",
        "\n",
        "# найти аэропорт с максимальной долей задержанных рейсов\n",
        "max_delayed_airport = delayed_flights.idxmax()\n",
        "\n",
        "# вывести информацию о максимальной доле задержанных рейсов и городе, в котором находится аэропорт\n",
        "print(f\"Наибольшая доля задержанных рейсов ({delayed_flights[max_delayed_airport]:.2%}) была в аэропорту {max_delayed_airport}.\")\n"
      ],
      "metadata": {
        "colab": {
          "base_uri": "https://localhost:8080/"
        },
        "id": "xWyAG-RSaJs_",
        "outputId": "37f6792f-8f69-4921-fc30-be6842feb987"
      },
      "execution_count": null,
      "outputs": [
        {
          "output_type": "stream",
          "name": "stdout",
          "text": [
            "Наибольшая доля задержанных рейсов (52.87%) была в аэропорту EWR.\n"
          ]
        }
      ]
    }
  ]
}