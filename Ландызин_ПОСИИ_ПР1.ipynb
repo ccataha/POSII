{
  "nbformat": 4,
  "nbformat_minor": 0,
  "metadata": {
    "colab": {
      "provenance": [],
      "authorship_tag": "ABX9TyP6SXJyL5IP8hrJvxVYGunp",
      "include_colab_link": true
    },
    "kernelspec": {
      "name": "python3",
      "display_name": "Python 3"
    },
    "language_info": {
      "name": "python"
    }
  },
  "cells": [
    {
      "cell_type": "markdown",
      "metadata": {
        "id": "view-in-github",
        "colab_type": "text"
      },
      "source": [
        "<a href=\"https://colab.research.google.com/github/koidula/POSII/blob/main/%D0%9B%D0%B0%D0%BD%D0%B4%D1%8B%D0%B7%D0%B8%D0%BD_%D0%9F%D0%9E%D0%A1%D0%98%D0%98_%D0%9F%D0%A01.ipynb\" target=\"_parent\"><img src=\"https://colab.research.google.com/assets/colab-badge.svg\" alt=\"Open In Colab\"/></a>"
      ]
    },
    {
      "cell_type": "markdown",
      "source": [
        "# **NumPy**\n",
        "\\\n",
        "Во всех заданиях данного раздела запрещено использовать циклы и list\n",
        "comprehensions. Под вектором и матрицей в данных заданиях понимается\n",
        "одномерный и двумерный numpy.array соответственно.\n",
        "\n"
      ],
      "metadata": {
        "id": "6VAcpewNANpJ"
      }
    },
    {
      "cell_type": "code",
      "execution_count": null,
      "metadata": {
        "id": "WuPwxybN9Hjq"
      },
      "outputs": [],
      "source": [
        "import numpy as np"
      ]
    },
    {
      "cell_type": "markdown",
      "source": [
        "#1 \n",
        "Реализуйте функцию, возвращающую максимальный элемент в векторе x\n",
        "среди элементов, перед которыми стоит нулевой. Для x = np.array([6, 2, 0, 3, 0,\n",
        "0, 5, 7, 0]) ответом является 5 Если нулевых элементов нет, функция должна\n",
        "возвращать None."
      ],
      "metadata": {
        "id": "4N1ieWSYIPB9"
      }
    },
    {
      "cell_type": "code",
      "source": [
        "def max_after0(arr):\n",
        "    x = arr == 0 # x - массив содержащий True для каждого нулевого элемента массива arr\n",
        "    #создаётся новый массив after_zero, который содержит все элементы arr, следующие за нулями. Для этого мы сначала берём \n",
        "    #подмассив arr[1:], содержащий все элементы arr, кроме первого, \n",
        "    #затем используем маску x[:-1], чтобы выбрать только те элементы arr[1:], которые следуют за нулевыми элементами arr.\n",
        "    after_zero = arr[1:][x[:-1]]\n",
        "    if after_zero.size > 0:\n",
        "        return after_zero.max()\n",
        "    else:\n",
        "        return None"
      ],
      "metadata": {
        "id": "Usex63CGIUwl"
      },
      "execution_count": null,
      "outputs": []
    },
    {
      "cell_type": "code",
      "source": [
        "a = np.array([6, 2, 0, 3, 0, 0, 5, 7, 0]) #5\n",
        "print(max_after0(a),\"\\n\")\n",
        "b = np.random.randint(10, size=10)\n",
        "print(max_after0(b))"
      ],
      "metadata": {
        "colab": {
          "base_uri": "https://localhost:8080/"
        },
        "id": "3UtllKreIVnk",
        "outputId": "968e7551-d365-4d41-82c1-f48c53946c8d"
      },
      "execution_count": null,
      "outputs": [
        {
          "output_type": "stream",
          "name": "stdout",
          "text": [
            "5 \n",
            "\n",
            "7\n"
          ]
        }
      ]
    },
    {
      "cell_type": "markdown",
      "source": [
        "#2 \n",
        "Реализуйте функцию, принимающую на вход матрицу и некоторое число и\n",
        "возвращающую ближайший к числу элемент матрицы. Например: для X =\n",
        "np.arange(0,10).reshape((2, 5)) и v = 3.6 ответом будет 4\n"
      ],
      "metadata": {
        "id": "I5wRp-MGAVng"
      }
    },
    {
      "cell_type": "code",
      "source": [
        "def nearest_value(matrix, v):\n",
        "    flattened_matrix = matrix.flatten()  # Превращаем матрицу в одномерный массив\n",
        "    idx = np.abs(flattened_matrix - v).argmin()  # Индекс ближайшего элемента\n",
        "    return flattened_matrix[idx]  # Возвращаем ближайший элемент"
      ],
      "metadata": {
        "id": "lyLRPB3eA_mi"
      },
      "execution_count": null,
      "outputs": []
    },
    {
      "cell_type": "code",
      "source": [
        "X = np.arange(0,10).reshape((2, 5)) \n",
        "v = 3.6\n",
        "nearest_value(X, v)"
      ],
      "metadata": {
        "colab": {
          "base_uri": "https://localhost:8080/"
        },
        "id": "k25hSOyHHpHz",
        "outputId": "6ba14de2-4fca-48b5-d4c7-7036e811fa59"
      },
      "execution_count": null,
      "outputs": [
        {
          "output_type": "execute_result",
          "data": {
            "text/plain": [
              "4"
            ]
          },
          "metadata": {},
          "execution_count": 15
        }
      ]
    },
    {
      "cell_type": "code",
      "source": [
        "A = np.arange(6).reshape(2,3) + 10\n",
        "v = 13.51\n",
        "nearest_value(A, v)"
      ],
      "metadata": {
        "colab": {
          "base_uri": "https://localhost:8080/"
        },
        "id": "LzCI-068t-9Y",
        "outputId": "234acc63-ecce-4d4d-d567-2ba4cc3311f5"
      },
      "execution_count": null,
      "outputs": [
        {
          "output_type": "execute_result",
          "data": {
            "text/plain": [
              "14"
            ]
          },
          "metadata": {},
          "execution_count": 16
        }
      ]
    },
    {
      "cell_type": "markdown",
      "source": [
        "#3\n",
        "Реализуйте функцию scale(X), которая принимает на вход матрицу и\n",
        "масштабирует каждый ее столбец (вычитает выборочное среднее и делит на\n",
        "стандартное отклонение). Убедитесь, что в функции не будет происходить\n",
        "деления на ноль. Протестируйте на случайной матрице (для её генерации\n",
        "можно использовать, например, функцию numpy.random.randint).\n"
      ],
      "metadata": {
        "id": "_gny72b8AY0w"
      }
    },
    {
      "cell_type": "code",
      "source": [
        "def scale(X):\n",
        "    # Вычисляем среднее и стандартное отклонение по каждому столбцу\n",
        "    col_mean = np.mean(X, axis=0)\n",
        "    col_std = np.std(X, axis=0)\n",
        "    \n",
        "    # Заменяем нулевые стандартные отклонения на единицу, чтобы избежать деления на ноль\n",
        "    col_std[col_std == 0] = 1\n",
        "    \n",
        "    # Масштабируем каждый столбец\n",
        "    scaled_X = (X - col_mean) / col_std\n",
        "    \n",
        "    return scaled_X"
      ],
      "metadata": {
        "id": "yABQsAVwA-si"
      },
      "execution_count": null,
      "outputs": []
    },
    {
      "cell_type": "code",
      "source": [
        "# Генерируем случайную матрицу\n",
        "X = np.random.randint(low=0, high=10, size=(5, 5))\n",
        "print(\"Matrix\")\n",
        "print(X)\n",
        "\n",
        "# Масштабируем каждый столбец матрицы\n",
        "scaled_X = scale(X)\n",
        "print(\"Scaled matrix\")\n",
        "print(scaled_X)"
      ],
      "metadata": {
        "colab": {
          "base_uri": "https://localhost:8080/"
        },
        "id": "MCVqTre6wErd",
        "outputId": "30371afb-4997-4d37-dc4e-3b6a1096c4a1"
      },
      "execution_count": null,
      "outputs": [
        {
          "output_type": "stream",
          "name": "stdout",
          "text": [
            "Matrix\n",
            "[[8 3 0 4 7]\n",
            " [3 4 5 9 6]\n",
            " [6 1 4 2 1]\n",
            " [9 9 7 9 6]\n",
            " [5 0 5 5 8]]\n",
            "Scaled matrix\n",
            "[[ 0.84292723 -0.12751534 -1.81412369 -0.64616234  0.57932412]\n",
            " [-1.4985373   0.19127301  0.34554737  1.14873305  0.16552118]\n",
            " [-0.09365858 -0.76509206 -0.08638684 -1.3641205  -1.90349354]\n",
            " [ 1.31122014  1.7852148   1.2094158   1.14873305  0.16552118]\n",
            " [-0.56195149 -1.08388041  0.34554737 -0.28718326  0.99312707]]\n"
          ]
        }
      ]
    },
    {
      "cell_type": "markdown",
      "source": [
        "#4 \n",
        "Реализуйте функцию, которая для заданной матрицы находит:\n",
        "\n",
        "*   определитель\n",
        "*   след\n",
        "*   наименьший и наибольший элементы\n",
        "*   норму Фробениуса\n",
        "*   собственные числа\n",
        "*   обратную матрицу\n",
        "\n",
        "Для тестирования сгенерируйте матрицу с элементами из нормального распределения N(10,1)"
      ],
      "metadata": {
        "id": "Yy5xd6qJAaYI"
      }
    },
    {
      "cell_type": "code",
      "source": [
        "def matrix_stats(X):\n",
        "    # Находим определитель\n",
        "    det_X = np.linalg.det(X)\n",
        "    \n",
        "    # Находим след\n",
        "    trace_X = np.trace(X)\n",
        "    \n",
        "    # Находим наименьший и наибольший элементы\n",
        "    min_X = np.min(X)\n",
        "    max_X = np.max(X)\n",
        "    \n",
        "    # Находим норму Фробениуса\n",
        "    frob_norm_X = np.linalg.norm(X, ord='fro')\n",
        "    \n",
        "    # Находим собственные числа\n",
        "    eigenvals_X = np.linalg.eigvals(X)\n",
        "    \n",
        "    # Находим обратную матрицу\n",
        "    inv_X = np.linalg.inv(X)\n",
        "    \n",
        "    # Возвращаем результаты\n",
        "    return det_X, trace_X, min_X, max_X, frob_norm_X, eigenvals_X, inv_X"
      ],
      "metadata": {
        "id": "HQXgML45wj7C"
      },
      "execution_count": null,
      "outputs": []
    },
    {
      "cell_type": "code",
      "source": [
        "# Генерируем матрицу размера 3x3 со значениями из нормального распределения N(10,1)\n",
        "X = np.random.normal(loc=10, scale=1, size=(3, 3))\n",
        "print(\"Исходная матрица:\")\n",
        "print(X)\n",
        "\n",
        "# Вычисляем статистики матрицы\n",
        "det_X, trace_X, min_X, max_X, frob_norm_X, eigenvals_X, inv_X = matrix_stats(X)\n",
        "\n",
        "# Выводим результаты на экран\n",
        "print(\"Определитель матрицы:\", det_X)\n",
        "print(\"След матрицы:\", trace_X)\n",
        "print(\"Наименьший элемент матрицы:\", min_X)\n",
        "print(\"Наибольший элемент матрицы:\", max_X)\n",
        "print(\"Норма Фробениуса матрицы:\", frob_norm_X)\n",
        "print(\"Собственные числа матрицы:\", eigenvals_X)\n",
        "print(\"Обратная матрица:\")\n",
        "print(inv_X)"
      ],
      "metadata": {
        "colab": {
          "base_uri": "https://localhost:8080/"
        },
        "id": "PBDJFiX9w25W",
        "outputId": "ec78f606-9813-4336-f5b7-09b8d76f17b1"
      },
      "execution_count": null,
      "outputs": [
        {
          "output_type": "stream",
          "name": "stdout",
          "text": [
            "Исходная матрица:\n",
            "[[10.51965592  9.12325022  9.12449412]\n",
            " [ 8.39286801 11.63950272  9.80385971]\n",
            " [ 9.2566364   9.24148047 10.49346564]]\n",
            "Определитель матрицы: 80.83007774435653\n",
            "След матрицы: 32.652624271976684\n",
            "Наименьший элемент матрицы: 8.392868012158518\n",
            "Наибольший элемент матрицы: 11.639502719157376\n",
            "Норма Фробениуса матрицы: 29.33240989343148\n",
            "Собственные числа матрицы: [29.20964677  2.16452869  1.27844881]\n",
            "Обратная матрица:\n",
            "[[ 0.39015852 -0.14116872 -0.20736722]\n",
            " [ 0.03316207  0.32074104 -0.32849846]\n",
            " [-0.37337733 -0.15794349  0.56752796]]\n"
          ]
        }
      ]
    },
    {
      "cell_type": "markdown",
      "source": [
        "#5\n",
        "Повторите 100 раз следующий эксперимент: сгенерируйте две матрицы\n",
        "размера 10×10 из стандартного нормального распределения, перемножьте их\n",
        "(как матрицы) и найдите максимальный элемент. Какое среднее значение по\n",
        "экспериментам у максимальных элементов? 95-процентная квантиль?"
      ],
      "metadata": {
        "id": "1N7YPK5_xE6z"
      }
    },
    {
      "cell_type": "markdown",
      "source": [
        "*Кванти́ль в математической статистике — значение, которое заданная случайная величина не превышает с фиксированной вероятностью. Если вероятность задана в процентах, то квантиль называется процентилем или перцентилем*\n",
        "\n",
        "*Например, фраза «90-й процентиль массы тела у новорожденных мальчиков составляет 4 кг»[1] означает, что 90 % мальчиков рождаются с весом, меньшим либо равным 4 кг, а 10 % мальчиков рождаются с весом, большим либо равным 4 кг.*"
      ],
      "metadata": {
        "id": "QPfYlZQBxlPh"
      }
    },
    {
      "cell_type": "code",
      "source": [
        "max_vals = []\n",
        "#Придется использовать циклы\n",
        "for i in range(100):\n",
        "    A = np.random.randn(10, 10)\n",
        "    B = np.random.randn(10, 10)\n",
        "    C = np.dot(A,B)\n",
        "    max_val = C.max()\n",
        "    max_vals.append(max_val)\n",
        "\n",
        "mean_max = np.mean(max_vals)\n",
        "quantile_95 = np.percentile(max_vals, 95)\n",
        "\n",
        "print(f\"Среднее значение максимальных элементов: {mean_max}\")\n",
        "print(f\"95-процентная квантиль: {quantile_95}\")"
      ],
      "metadata": {
        "colab": {
          "base_uri": "https://localhost:8080/"
        },
        "id": "vEDPoxC7xDkm",
        "outputId": "527c3f1e-7466-4d97-e237-b2f71fb8e387"
      },
      "execution_count": null,
      "outputs": [
        {
          "output_type": "stream",
          "name": "stdout",
          "text": [
            "Среднее значение максимальных элементов: 8.336163468484063\n",
            "95-процентная квантиль: 11.663774363529127\n"
          ]
        }
      ]
    },
    {
      "cell_type": "markdown",
      "source": [
        "#Часть 2"
      ],
      "metadata": {
        "id": "U1TZbBk-y_lS"
      }
    },
    {
      "cell_type": "markdown",
      "source": [
        "Ответьте на вопросы о данных по авиарейсам в США за январь-апрель\n",
        "2008 года.\n",
        "* [Данные](https://www.dropbox.com/s/dvfitn93obn0rql/2008.csv?dl=0)\n",
        "\n",
        "* [описание](http://stat-computing.org/dataexpo/2009/the-data.html)"
      ],
      "metadata": {
        "id": "RXYVWblgzuEK"
      }
    },
    {
      "cell_type": "markdown",
      "source": [
        "#6\n",
        "\n",
        "Какая из причин отмены рейса (CancellationCode) была самой частой?\n",
        "(расшифровки кодов можно найти в описании данных)\n"
      ],
      "metadata": {
        "id": "lN6GNtcby2ED"
      }
    },
    {
      "cell_type": "markdown",
      "source": [
        "# 7 \n",
        "Найдите среднее, минимальное и максимальное расстояние, пройденное самолетом.\n"
      ],
      "metadata": {
        "id": "U2W3xjyUzF6E"
      }
    },
    {
      "cell_type": "markdown",
      "source": [
        "#8 \n",
        "Не выглядит ли подозрительным минимальное пройденное расстояние? В\n",
        "какие дни и на каких рейсах оно было? Какое расстояние было пройдено этими же рейсами в другие дни?\n"
      ],
      "metadata": {
        "id": "2nhGftWczKSv"
      }
    },
    {
      "cell_type": "markdown",
      "source": [
        "#9 \n",
        "Из какого аэропорта было произведено больше всего вылетов? В каком\n",
        "городе он находится?\n"
      ],
      "metadata": {
        "id": "2EsPVohAzPP9"
      }
    },
    {
      "cell_type": "markdown",
      "source": [
        "# 10 \n",
        "Найдите для каждого аэропорта среднее время полета (AirTime) по всем\n",
        "вылетевшим из него рейсам. Какой аэропорт имеет наибольшее значение этого показателя?\n"
      ],
      "metadata": {
        "id": "kJjYowGvzVJV"
      }
    },
    {
      "cell_type": "markdown",
      "source": [
        "#11 \n",
        "Найдите аэропорт, у которого наибольшая доля задержанных (DepDelay > 0) рейсов. Исключите при этом из рассмотрения аэропорты, из которых было отправлено меньше 1000 рейсов (используйте функцию filter после groupby)."
      ],
      "metadata": {
        "id": "LRvMeMinzasH"
      }
    }
  ]
}