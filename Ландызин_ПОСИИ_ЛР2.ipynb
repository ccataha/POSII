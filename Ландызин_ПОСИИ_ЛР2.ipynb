{
  "cells": [
    {
      "cell_type": "markdown",
      "metadata": {
        "id": "view-in-github",
        "colab_type": "text"
      },
      "source": [
        "<a href=\"https://colab.research.google.com/github/koidula/POSII/blob/main/%D0%9B%D0%B0%D0%BD%D0%B4%D1%8B%D0%B7%D0%B8%D0%BD_%D0%9F%D0%9E%D0%A1%D0%98%D0%98_%D0%9B%D0%A02.ipynb\" target=\"_parent\"><img src=\"https://colab.research.google.com/assets/colab-badge.svg\" alt=\"Open In Colab\"/></a>"
      ]
    },
    {
      "cell_type": "markdown",
      "metadata": {
        "id": "gnQnJqxNqghs"
      },
      "source": [
        "\n",
        "\n",
        "### О задании\n",
        "На сайтах для поиска работы можно найти сотни тысяч объявлений, каждое из которых состоит из пространного описания вакансии и предлагаемой зарплаты. Есть ли связь между описанием и зарплатой? Существуют ли определенные слова, которые наиболее сильно характеризуют зарплату? Можно ли найти другие информативные факторы? Вам предстоит ответить на эти вопросы, проанализировав выборку объявлений о работе в Великобритании.\n",
        "\n",
        "Практическое задание 2 посвящено работе с текстовыми данными и категориальными признаками и задачам бинарной классификации. Вы научитесь:\n",
        " * работать с категориальными признаками;\n",
        " * строить вещественные представления текстовых данных;\n",
        " * обучать и строить прогнозы линейных классификаторов при помощи scikit-learn и Vowpal Wabbit;\n",
        " * тестировать модели и проводить оценку качества в задачах бинарной классификации.\n",
        "\n"
      ]
    },
    {
      "cell_type": "markdown",
      "metadata": {
        "id": "tsljvi-Qqghx"
      },
      "source": [
        "## Данные\n",
        "\n",
        "Как было упомянуто ранее, в рамках данного задания мы будем решать задачу бинарной классификации для предсказания уровня заработной платы по тексту объявления о вакансии на примере набора данных с соревнования [Adzuna - Job Salary Prediction](https://www.kaggle.com/c/job-salary-prediction). Для начала пройдите по [ссылке](https://www.kaggle.com/c/job-salary-prediction/data) и скачайте файл Train_rev1 (при необходимости, зарегистрируйтесь на Kaggle).\n",
        "\n",
        "Посмотрим на данные в файле и загрузим их в DataFrame:"
      ]
    },
    {
      "cell_type": "code",
      "execution_count": 42,
      "metadata": {
        "jupyter": {
          "outputs_hidden": false
        },
        "colab": {
          "base_uri": "https://localhost:8080/"
        },
        "id": "Ax59Q9PLqghy",
        "outputId": "88f59d6f-5472-4171-f0c2-c39e88a2bad5"
      },
      "outputs": [
        {
          "output_type": "stream",
          "name": "stdout",
          "text": [
            "Populating the interactive namespace from numpy and matplotlib\n"
          ]
        },
        {
          "output_type": "stream",
          "name": "stderr",
          "text": [
            "/usr/local/lib/python3.9/dist-packages/IPython/core/magics/pylab.py:159: UserWarning: pylab import has clobbered these variables: ['median']\n",
            "`%matplotlib` prevents importing * from pylab and numpy\n",
            "  warn(\"pylab import has clobbered these variables: %s\"  % clobbered +\n"
          ]
        }
      ],
      "source": [
        "%pylab inline\n",
        "\n",
        "import pandas as pd\n",
        "import numpy as np\n",
        "from matplotlib import pyplot as plt"
      ]
    },
    {
      "cell_type": "code",
      "execution_count": 43,
      "metadata": {
        "jupyter": {
          "outputs_hidden": false
        },
        "colab": {
          "base_uri": "https://localhost:8080/"
        },
        "id": "ZFz4jjY6qgh0",
        "outputId": "eee7af98-0d5c-4f6f-b6a0-0ed2529c629e"
      },
      "outputs": [
        {
          "output_type": "stream",
          "name": "stdout",
          "text": [
            "Drive already mounted at /content/drive/; to attempt to forcibly remount, call drive.mount(\"/content/drive/\", force_remount=True).\n"
          ]
        }
      ],
      "source": [
        "from google.colab import drive\n",
        "drive.mount('/content/drive/')\n",
        "import pandas as pd\n",
        "data = pd.read_csv('/content/drive/MyDrive/Магистратура/4 cем/ПОСИИ/ПР2/Train_rev1.csv')\n"
      ]
    },
    {
      "cell_type": "code",
      "source": [
        "data.head(2)"
      ],
      "metadata": {
        "colab": {
          "base_uri": "https://localhost:8080/",
          "height": 243
        },
        "id": "rDvlwOIxywOK",
        "outputId": "c141c777-85ad-4af7-cbae-5b6b23e67df9"
      },
      "execution_count": 44,
      "outputs": [
        {
          "output_type": "execute_result",
          "data": {
            "text/plain": [
              "         Id                        Title  \\\n",
              "0  12612628  Engineering Systems Analyst   \n",
              "1  12612830      Stress Engineer Glasgow   \n",
              "\n",
              "                                     FullDescription  \\\n",
              "0  Engineering Systems Analyst Dorking Surrey Sal...   \n",
              "1  Stress Engineer Glasgow Salary **** to **** We...   \n",
              "\n",
              "                   LocationRaw LocationNormalized ContractType ContractTime  \\\n",
              "0      Dorking, Surrey, Surrey            Dorking          NaN    permanent   \n",
              "1  Glasgow, Scotland, Scotland            Glasgow          NaN    permanent   \n",
              "\n",
              "                        Company          Category                   SalaryRaw  \\\n",
              "0  Gregory Martin International  Engineering Jobs  20000 - 30000/annum 20-30K   \n",
              "1  Gregory Martin International  Engineering Jobs  25000 - 35000/annum 25-35K   \n",
              "\n",
              "   SalaryNormalized        SourceName  \n",
              "0             25000  cv-library.co.uk  \n",
              "1             30000  cv-library.co.uk  "
            ],
            "text/html": [
              "\n",
              "  <div id=\"df-593bfe5f-54a7-4f03-a9bd-6595fa823dbe\">\n",
              "    <div class=\"colab-df-container\">\n",
              "      <div>\n",
              "<style scoped>\n",
              "    .dataframe tbody tr th:only-of-type {\n",
              "        vertical-align: middle;\n",
              "    }\n",
              "\n",
              "    .dataframe tbody tr th {\n",
              "        vertical-align: top;\n",
              "    }\n",
              "\n",
              "    .dataframe thead th {\n",
              "        text-align: right;\n",
              "    }\n",
              "</style>\n",
              "<table border=\"1\" class=\"dataframe\">\n",
              "  <thead>\n",
              "    <tr style=\"text-align: right;\">\n",
              "      <th></th>\n",
              "      <th>Id</th>\n",
              "      <th>Title</th>\n",
              "      <th>FullDescription</th>\n",
              "      <th>LocationRaw</th>\n",
              "      <th>LocationNormalized</th>\n",
              "      <th>ContractType</th>\n",
              "      <th>ContractTime</th>\n",
              "      <th>Company</th>\n",
              "      <th>Category</th>\n",
              "      <th>SalaryRaw</th>\n",
              "      <th>SalaryNormalized</th>\n",
              "      <th>SourceName</th>\n",
              "    </tr>\n",
              "  </thead>\n",
              "  <tbody>\n",
              "    <tr>\n",
              "      <th>0</th>\n",
              "      <td>12612628</td>\n",
              "      <td>Engineering Systems Analyst</td>\n",
              "      <td>Engineering Systems Analyst Dorking Surrey Sal...</td>\n",
              "      <td>Dorking, Surrey, Surrey</td>\n",
              "      <td>Dorking</td>\n",
              "      <td>NaN</td>\n",
              "      <td>permanent</td>\n",
              "      <td>Gregory Martin International</td>\n",
              "      <td>Engineering Jobs</td>\n",
              "      <td>20000 - 30000/annum 20-30K</td>\n",
              "      <td>25000</td>\n",
              "      <td>cv-library.co.uk</td>\n",
              "    </tr>\n",
              "    <tr>\n",
              "      <th>1</th>\n",
              "      <td>12612830</td>\n",
              "      <td>Stress Engineer Glasgow</td>\n",
              "      <td>Stress Engineer Glasgow Salary **** to **** We...</td>\n",
              "      <td>Glasgow, Scotland, Scotland</td>\n",
              "      <td>Glasgow</td>\n",
              "      <td>NaN</td>\n",
              "      <td>permanent</td>\n",
              "      <td>Gregory Martin International</td>\n",
              "      <td>Engineering Jobs</td>\n",
              "      <td>25000 - 35000/annum 25-35K</td>\n",
              "      <td>30000</td>\n",
              "      <td>cv-library.co.uk</td>\n",
              "    </tr>\n",
              "  </tbody>\n",
              "</table>\n",
              "</div>\n",
              "      <button class=\"colab-df-convert\" onclick=\"convertToInteractive('df-593bfe5f-54a7-4f03-a9bd-6595fa823dbe')\"\n",
              "              title=\"Convert this dataframe to an interactive table.\"\n",
              "              style=\"display:none;\">\n",
              "        \n",
              "  <svg xmlns=\"http://www.w3.org/2000/svg\" height=\"24px\"viewBox=\"0 0 24 24\"\n",
              "       width=\"24px\">\n",
              "    <path d=\"M0 0h24v24H0V0z\" fill=\"none\"/>\n",
              "    <path d=\"M18.56 5.44l.94 2.06.94-2.06 2.06-.94-2.06-.94-.94-2.06-.94 2.06-2.06.94zm-11 1L8.5 8.5l.94-2.06 2.06-.94-2.06-.94L8.5 2.5l-.94 2.06-2.06.94zm10 10l.94 2.06.94-2.06 2.06-.94-2.06-.94-.94-2.06-.94 2.06-2.06.94z\"/><path d=\"M17.41 7.96l-1.37-1.37c-.4-.4-.92-.59-1.43-.59-.52 0-1.04.2-1.43.59L10.3 9.45l-7.72 7.72c-.78.78-.78 2.05 0 2.83L4 21.41c.39.39.9.59 1.41.59.51 0 1.02-.2 1.41-.59l7.78-7.78 2.81-2.81c.8-.78.8-2.07 0-2.86zM5.41 20L4 18.59l7.72-7.72 1.47 1.35L5.41 20z\"/>\n",
              "  </svg>\n",
              "      </button>\n",
              "      \n",
              "  <style>\n",
              "    .colab-df-container {\n",
              "      display:flex;\n",
              "      flex-wrap:wrap;\n",
              "      gap: 12px;\n",
              "    }\n",
              "\n",
              "    .colab-df-convert {\n",
              "      background-color: #E8F0FE;\n",
              "      border: none;\n",
              "      border-radius: 50%;\n",
              "      cursor: pointer;\n",
              "      display: none;\n",
              "      fill: #1967D2;\n",
              "      height: 32px;\n",
              "      padding: 0 0 0 0;\n",
              "      width: 32px;\n",
              "    }\n",
              "\n",
              "    .colab-df-convert:hover {\n",
              "      background-color: #E2EBFA;\n",
              "      box-shadow: 0px 1px 2px rgba(60, 64, 67, 0.3), 0px 1px 3px 1px rgba(60, 64, 67, 0.15);\n",
              "      fill: #174EA6;\n",
              "    }\n",
              "\n",
              "    [theme=dark] .colab-df-convert {\n",
              "      background-color: #3B4455;\n",
              "      fill: #D2E3FC;\n",
              "    }\n",
              "\n",
              "    [theme=dark] .colab-df-convert:hover {\n",
              "      background-color: #434B5C;\n",
              "      box-shadow: 0px 1px 3px 1px rgba(0, 0, 0, 0.15);\n",
              "      filter: drop-shadow(0px 1px 2px rgba(0, 0, 0, 0.3));\n",
              "      fill: #FFFFFF;\n",
              "    }\n",
              "  </style>\n",
              "\n",
              "      <script>\n",
              "        const buttonEl =\n",
              "          document.querySelector('#df-593bfe5f-54a7-4f03-a9bd-6595fa823dbe button.colab-df-convert');\n",
              "        buttonEl.style.display =\n",
              "          google.colab.kernel.accessAllowed ? 'block' : 'none';\n",
              "\n",
              "        async function convertToInteractive(key) {\n",
              "          const element = document.querySelector('#df-593bfe5f-54a7-4f03-a9bd-6595fa823dbe');\n",
              "          const dataTable =\n",
              "            await google.colab.kernel.invokeFunction('convertToInteractive',\n",
              "                                                     [key], {});\n",
              "          if (!dataTable) return;\n",
              "\n",
              "          const docLinkHtml = 'Like what you see? Visit the ' +\n",
              "            '<a target=\"_blank\" href=https://colab.research.google.com/notebooks/data_table.ipynb>data table notebook</a>'\n",
              "            + ' to learn more about interactive tables.';\n",
              "          element.innerHTML = '';\n",
              "          dataTable['output_type'] = 'display_data';\n",
              "          await google.colab.output.renderOutput(dataTable, element);\n",
              "          const docLink = document.createElement('div');\n",
              "          docLink.innerHTML = docLinkHtml;\n",
              "          element.appendChild(docLink);\n",
              "        }\n",
              "      </script>\n",
              "    </div>\n",
              "  </div>\n",
              "  "
            ]
          },
          "metadata": {},
          "execution_count": 44
        }
      ]
    },
    {
      "cell_type": "code",
      "execution_count": 45,
      "metadata": {
        "jupyter": {
          "outputs_hidden": false
        },
        "colab": {
          "base_uri": "https://localhost:8080/"
        },
        "id": "mNPZBlCBqgh1",
        "outputId": "be564a90-e320-4f9b-aa30-0a972755ed24"
      },
      "outputs": [
        {
          "output_type": "stream",
          "name": "stdout",
          "text": [
            "(244768, 12)\n"
          ]
        }
      ],
      "source": [
        "print(data.shape)"
      ]
    },
    {
      "cell_type": "markdown",
      "metadata": {
        "id": "wMT1sLqiqgh2"
      },
      "source": [
        "В оригинальной постановке предлагается рассматривать признак SalaryNormalized как целевой и решать задачу регрессии, однако в рамках данного задания мы сведём её к задаче бинарной классификации, разделив объекты на 2 группы: объявления о вакансиях с низкой и высокой зарплатами соответственно.\n",
        "\n",
        "<img src = \"http://salt.uaa.alaska.edu/kath/kti/mean_median2.gif\">\n",
        "\n",
        "В качестве порога разбиения объектов на группы будем рассматривать медиану признака SalaryNormalized. Заметим, что таким образом мы автоматически получим задачу классификации со сбалансированными классами:"
      ]
    },
    {
      "cell_type": "code",
      "execution_count": 46,
      "metadata": {
        "jupyter": {
          "outputs_hidden": false
        },
        "colab": {
          "base_uri": "https://localhost:8080/",
          "height": 506
        },
        "id": "VjXQO-9_qgh2",
        "outputId": "e7652c54-6027-401b-b79f-5fe7166d9c45"
      },
      "outputs": [
        {
          "output_type": "display_data",
          "data": {
            "text/plain": [
              "<Figure size 1152x576 with 1 Axes>"
            ],
            "image/png": "[encoded data removed]"
          },
          "metadata": {
            "needs_background": "light"
          }
        }
      ],
      "source": [
        "# гистограмма зп\n",
        "median = np.median(data['SalaryNormalized'])\n",
        "\n",
        "figsize(16,8)\n",
        "plt.hist(data['SalaryNormalized'], bins=50)\n",
        "plt.axvline(median, c='r')\n",
        "plt.xlabel('salary', fontsize=20)\n",
        "plt.ylabel('count', fontsize=20)\n",
        "plt.grid()"
      ]
    },
    {
      "cell_type": "markdown",
      "metadata": {
        "id": "yNZHTHC8qgh3"
      },
      "source": [
        "Осуществим последние шаги по подготовке датасета:\n",
        "- бинаризуем признак SalaryNomalized по описанному ранее порогу;\n",
        "- исключим из выборки признак SalaryRaw, чтобы устранить утечку целевой переменной в признаки."
      ]
    },
    {
      "cell_type": "code",
      "execution_count": 47,
      "metadata": {
        "jupyter": {
          "outputs_hidden": false
        },
        "colab": {
          "base_uri": "https://localhost:8080/",
          "height": 424
        },
        "id": "JJq3N05vqgh4",
        "outputId": "1d9e4c96-2440-433c-ecb6-7cadf9c58990"
      },
      "outputs": [
        {
          "output_type": "execute_result",
          "data": {
            "text/plain": [
              "         Id                                              Title  \\\n",
              "0  12612628                        Engineering Systems Analyst   \n",
              "1  12612830                            Stress Engineer Glasgow   \n",
              "2  12612844                   Modelling and simulation analyst   \n",
              "3  12613049  Engineering Systems Analyst / Mathematical Mod...   \n",
              "4  12613647         Pioneer, Miser Engineering Systems Analyst   \n",
              "\n",
              "                                     FullDescription  \\\n",
              "0  Engineering Systems Analyst Dorking Surrey Sal...   \n",
              "1  Stress Engineer Glasgow Salary **** to **** We...   \n",
              "2  Mathematical Modeller / Simulation Analyst / O...   \n",
              "3  Engineering Systems Analyst / Mathematical Mod...   \n",
              "4  Pioneer, Miser  Engineering Systems Analyst Do...   \n",
              "\n",
              "                         LocationRaw LocationNormalized ContractType  \\\n",
              "0            Dorking, Surrey, Surrey            Dorking          NaN   \n",
              "1        Glasgow, Scotland, Scotland            Glasgow          NaN   \n",
              "2  Hampshire, South East, South East          Hampshire          NaN   \n",
              "3     Surrey, South East, South East             Surrey          NaN   \n",
              "4     Surrey, South East, South East             Surrey          NaN   \n",
              "\n",
              "  ContractTime                       Company          Category  \\\n",
              "0    permanent  Gregory Martin International  Engineering Jobs   \n",
              "1    permanent  Gregory Martin International  Engineering Jobs   \n",
              "2    permanent  Gregory Martin International  Engineering Jobs   \n",
              "3    permanent  Gregory Martin International  Engineering Jobs   \n",
              "4    permanent  Gregory Martin International  Engineering Jobs   \n",
              "\n",
              "   SalaryNormalized        SourceName  \n",
              "0                 0  cv-library.co.uk  \n",
              "1                 0  cv-library.co.uk  \n",
              "2                 0  cv-library.co.uk  \n",
              "3                 0  cv-library.co.uk  \n",
              "4                 0  cv-library.co.uk  "
            ],
            "text/html": [
              "\n",
              "  <div id=\"df-562caf8b-13b8-44a0-9552-4fce423829a7\">\n",
              "    <div class=\"colab-df-container\">\n",
              "      <div>\n",
              "<style scoped>\n",
              "    .dataframe tbody tr th:only-of-type {\n",
              "        vertical-align: middle;\n",
              "    }\n",
              "\n",
              "    .dataframe tbody tr th {\n",
              "        vertical-align: top;\n",
              "    }\n",
              "\n",
              "    .dataframe thead th {\n",
              "        text-align: right;\n",
              "    }\n",
              "</style>\n",
              "<table border=\"1\" class=\"dataframe\">\n",
              "  <thead>\n",
              "    <tr style=\"text-align: right;\">\n",
              "      <th></th>\n",
              "      <th>Id</th>\n",
              "      <th>Title</th>\n",
              "      <th>FullDescription</th>\n",
              "      <th>LocationRaw</th>\n",
              "      <th>LocationNormalized</th>\n",
              "      <th>ContractType</th>\n",
              "      <th>ContractTime</th>\n",
              "      <th>Company</th>\n",
              "      <th>Category</th>\n",
              "      <th>SalaryNormalized</th>\n",
              "      <th>SourceName</th>\n",
              "    </tr>\n",
              "  </thead>\n",
              "  <tbody>\n",
              "    <tr>\n",
              "      <th>0</th>\n",
              "      <td>12612628</td>\n",
              "      <td>Engineering Systems Analyst</td>\n",
              "      <td>Engineering Systems Analyst Dorking Surrey Sal...</td>\n",
              "      <td>Dorking, Surrey, Surrey</td>\n",
              "      <td>Dorking</td>\n",
              "      <td>NaN</td>\n",
              "      <td>permanent</td>\n",
              "      <td>Gregory Martin International</td>\n",
              "      <td>Engineering Jobs</td>\n",
              "      <td>0</td>\n",
              "      <td>cv-library.co.uk</td>\n",
              "    </tr>\n",
              "    <tr>\n",
              "      <th>1</th>\n",
              "      <td>12612830</td>\n",
              "      <td>Stress Engineer Glasgow</td>\n",
              "      <td>Stress Engineer Glasgow Salary **** to **** We...</td>\n",
              "      <td>Glasgow, Scotland, Scotland</td>\n",
              "      <td>Glasgow</td>\n",
              "      <td>NaN</td>\n",
              "      <td>permanent</td>\n",
              "      <td>Gregory Martin International</td>\n",
              "      <td>Engineering Jobs</td>\n",
              "      <td>0</td>\n",
              "      <td>cv-library.co.uk</td>\n",
              "    </tr>\n",
              "    <tr>\n",
              "      <th>2</th>\n",
              "      <td>12612844</td>\n",
              "      <td>Modelling and simulation analyst</td>\n",
              "      <td>Mathematical Modeller / Simulation Analyst / O...</td>\n",
              "      <td>Hampshire, South East, South East</td>\n",
              "      <td>Hampshire</td>\n",
              "      <td>NaN</td>\n",
              "      <td>permanent</td>\n",
              "      <td>Gregory Martin International</td>\n",
              "      <td>Engineering Jobs</td>\n",
              "      <td>0</td>\n",
              "      <td>cv-library.co.uk</td>\n",
              "    </tr>\n",
              "    <tr>\n",
              "      <th>3</th>\n",
              "      <td>12613049</td>\n",
              "      <td>Engineering Systems Analyst / Mathematical Mod...</td>\n",
              "      <td>Engineering Systems Analyst / Mathematical Mod...</td>\n",
              "      <td>Surrey, South East, South East</td>\n",
              "      <td>Surrey</td>\n",
              "      <td>NaN</td>\n",
              "      <td>permanent</td>\n",
              "      <td>Gregory Martin International</td>\n",
              "      <td>Engineering Jobs</td>\n",
              "      <td>0</td>\n",
              "      <td>cv-library.co.uk</td>\n",
              "    </tr>\n",
              "    <tr>\n",
              "      <th>4</th>\n",
              "      <td>12613647</td>\n",
              "      <td>Pioneer, Miser Engineering Systems Analyst</td>\n",
              "      <td>Pioneer, Miser  Engineering Systems Analyst Do...</td>\n",
              "      <td>Surrey, South East, South East</td>\n",
              "      <td>Surrey</td>\n",
              "      <td>NaN</td>\n",
              "      <td>permanent</td>\n",
              "      <td>Gregory Martin International</td>\n",
              "      <td>Engineering Jobs</td>\n",
              "      <td>0</td>\n",
              "      <td>cv-library.co.uk</td>\n",
              "    </tr>\n",
              "  </tbody>\n",
              "</table>\n",
              "</div>\n",
              "      <button class=\"colab-df-convert\" onclick=\"convertToInteractive('df-562caf8b-13b8-44a0-9552-4fce423829a7')\"\n",
              "              title=\"Convert this dataframe to an interactive table.\"\n",
              "              style=\"display:none;\">\n",
              "        \n",
              "  <svg xmlns=\"http://www.w3.org/2000/svg\" height=\"24px\"viewBox=\"0 0 24 24\"\n",
              "       width=\"24px\">\n",
              "    <path d=\"M0 0h24v24H0V0z\" fill=\"none\"/>\n",
              "    <path d=\"M18.56 5.44l.94 2.06.94-2.06 2.06-.94-2.06-.94-.94-2.06-.94 2.06-2.06.94zm-11 1L8.5 8.5l.94-2.06 2.06-.94-2.06-.94L8.5 2.5l-.94 2.06-2.06.94zm10 10l.94 2.06.94-2.06 2.06-.94-2.06-.94-.94-2.06-.94 2.06-2.06.94z\"/><path d=\"M17.41 7.96l-1.37-1.37c-.4-.4-.92-.59-1.43-.59-.52 0-1.04.2-1.43.59L10.3 9.45l-7.72 7.72c-.78.78-.78 2.05 0 2.83L4 21.41c.39.39.9.59 1.41.59.51 0 1.02-.2 1.41-.59l7.78-7.78 2.81-2.81c.8-.78.8-2.07 0-2.86zM5.41 20L4 18.59l7.72-7.72 1.47 1.35L5.41 20z\"/>\n",
              "  </svg>\n",
              "      </button>\n",
              "      \n",
              "  <style>\n",
              "    .colab-df-container {\n",
              "      display:flex;\n",
              "      flex-wrap:wrap;\n",
              "      gap: 12px;\n",
              "    }\n",
              "\n",
              "    .colab-df-convert {\n",
              "      background-color: #E8F0FE;\n",
              "      border: none;\n",
              "      border-radius: 50%;\n",
              "      cursor: pointer;\n",
              "      display: none;\n",
              "      fill: #1967D2;\n",
              "      height: 32px;\n",
              "      padding: 0 0 0 0;\n",
              "      width: 32px;\n",
              "    }\n",
              "\n",
              "    .colab-df-convert:hover {\n",
              "      background-color: #E2EBFA;\n",
              "      box-shadow: 0px 1px 2px rgba(60, 64, 67, 0.3), 0px 1px 3px 1px rgba(60, 64, 67, 0.15);\n",
              "      fill: #174EA6;\n",
              "    }\n",
              "\n",
              "    [theme=dark] .colab-df-convert {\n",
              "      background-color: #3B4455;\n",
              "      fill: #D2E3FC;\n",
              "    }\n",
              "\n",
              "    [theme=dark] .colab-df-convert:hover {\n",
              "      background-color: #434B5C;\n",
              "      box-shadow: 0px 1px 3px 1px rgba(0, 0, 0, 0.15);\n",
              "      filter: drop-shadow(0px 1px 2px rgba(0, 0, 0, 0.3));\n",
              "      fill: #FFFFFF;\n",
              "    }\n",
              "  </style>\n",
              "\n",
              "      <script>\n",
              "        const buttonEl =\n",
              "          document.querySelector('#df-562caf8b-13b8-44a0-9552-4fce423829a7 button.colab-df-convert');\n",
              "        buttonEl.style.display =\n",
              "          google.colab.kernel.accessAllowed ? 'block' : 'none';\n",
              "\n",
              "        async function convertToInteractive(key) {\n",
              "          const element = document.querySelector('#df-562caf8b-13b8-44a0-9552-4fce423829a7');\n",
              "          const dataTable =\n",
              "            await google.colab.kernel.invokeFunction('convertToInteractive',\n",
              "                                                     [key], {});\n",
              "          if (!dataTable) return;\n",
              "\n",
              "          const docLinkHtml = 'Like what you see? Visit the ' +\n",
              "            '<a target=\"_blank\" href=https://colab.research.google.com/notebooks/data_table.ipynb>data table notebook</a>'\n",
              "            + ' to learn more about interactive tables.';\n",
              "          element.innerHTML = '';\n",
              "          dataTable['output_type'] = 'display_data';\n",
              "          await google.colab.output.renderOutput(dataTable, element);\n",
              "          const docLink = document.createElement('div');\n",
              "          docLink.innerHTML = docLinkHtml;\n",
              "          element.appendChild(docLink);\n",
              "        }\n",
              "      </script>\n",
              "    </div>\n",
              "  </div>\n",
              "  "
            ]
          },
          "metadata": {},
          "execution_count": 47
        }
      ],
      "source": [
        "data['SalaryNormalized'] = (data['SalaryNormalized'] > median).astype(int)\n",
        "data.drop('SalaryRaw', axis=1, inplace=True)\n",
        "data.head()"
      ]
    },
    {
      "cell_type": "markdown",
      "metadata": {
        "id": "2Jbe2BLnqgh4"
      },
      "source": [
        "#### 1. Разбейте получившуюся выборку на обучающую и контрольную в соотношении 70/30 с использованием перемешивания объектов.\n",
        "\n",
        "При разбиении используйте значение параметра random_state=42."
      ]
    },
    {
      "cell_type": "code",
      "source": [
        "'''\n",
        "random_state - сид для псевдослучайного генератора\n",
        "недетерминированные операции на одних и тех же данных с одним и тем же random_state дают один и тот же результат\n",
        "'''\n",
        "\n",
        "from sklearn.model_selection import train_test_split\n",
        "\n",
        "Y = data['SalaryNormalized']\n",
        "X = data.drop('SalaryNormalized', axis=1)"
      ],
      "metadata": {
        "id": "ZwxQ2wGI-MuL"
      },
      "execution_count": 49,
      "outputs": []
    },
    {
      "cell_type": "code",
      "execution_count": 8,
      "metadata": {
        "jupyter": {
          "outputs_hidden": false
        },
        "colab": {
          "base_uri": "https://localhost:8080/"
        },
        "id": "1Hff01fwqgh4",
        "outputId": "fe81d206-6415-46f4-a940-4d8a810ea926"
      },
      "outputs": [
        {
          "output_type": "stream",
          "name": "stdout",
          "text": [
            "Размер обучающей выборки: (171337, 10)\n",
            "Размер контрольной выборки: (73431, 10)\n"
          ]
        }
      ],
      "source": [
        "X_train, X_test, y_train, y_test = train_test_split(X, Y, test_size=0.30, random_state=42)\n",
        "\n",
        "# Вывод размерностей полученных выборок\n",
        "print(\"Размер обучающей выборки:\", X_train.shape)\n",
        "print(\"Размер контрольной выборки:\", X_test.shape)"
      ]
    },
    {
      "cell_type": "code",
      "source": [
        "#Табличное представление обучающей выборки дата\n",
        "X_train.head()"
      ],
      "metadata": {
        "colab": {
          "base_uri": "https://localhost:8080/",
          "height": 424
        },
        "id": "Q_YtDcEeGtvh",
        "outputId": "69497fe9-849f-40ee-a444-987578f953d6"
      },
      "execution_count": 9,
      "outputs": [
        {
          "output_type": "execute_result",
          "data": {
            "text/plain": [
              "              Id                                             Title  \\\n",
              "241453  72676065  Business Development Executive  ****k plus bonus   \n",
              "169520  71341050                                   English Teacher   \n",
              "136661  70336585         EMEA Customer Service Project Coordinator   \n",
              "125435  69992269                      Administrator / Receptionist   \n",
              "192568  71760157        Business Analyst / Product Owner  to ****k   \n",
              "\n",
              "                                          FullDescription  \\\n",
              "241453  Business Development Executive Dudley Permanen...   \n",
              "169520  English Teacher  Permanent, Fulltime contract ...   \n",
              "136661  Excellent opportunity to join a successful glo...   \n",
              "125435  Acting as a recruitment business on behalf of ...   \n",
              "192568  Business Analyst / Product Owner This is an ex...   \n",
              "\n",
              "                                              LocationRaw LocationNormalized  \\\n",
              "241453  Dudley, West Midlands (County) West Midlands (...                 UK   \n",
              "169520                                               Avon               Avon   \n",
              "136661                                             Oxford             Oxford   \n",
              "125435                     Leeds West Yorkshire Yorkshire              Leeds   \n",
              "192568                                  London South East  South East London   \n",
              "\n",
              "       ContractType ContractTime                     Company  \\\n",
              "241453          NaN    permanent    Anderson Scott Solutions   \n",
              "169520    full_time     contract  ITN Mark Education Bristol   \n",
              "136661    full_time          NaN      Bluestream Recruitment   \n",
              "125435          NaN     contract                  Taskmaster   \n",
              "192568          NaN    permanent           The Industry Club   \n",
              "\n",
              "                      Category             SourceName  \n",
              "241453              Sales Jobs          totaljobs.com  \n",
              "169520           Teaching Jobs  jobsineducation.co.uk  \n",
              "136661  Customer Services Jobs      careerbuilder.com  \n",
              "125435              Admin Jobs          totaljobs.com  \n",
              "192568                 IT Jobs           cwjobs.co.uk  "
            ],
            "text/html": [
              "\n",
              "  <div id=\"df-9b08d102-e8f5-416c-b2b4-7c520f46dd88\">\n",
              "    <div class=\"colab-df-container\">\n",
              "      <div>\n",
              "<style scoped>\n",
              "    .dataframe tbody tr th:only-of-type {\n",
              "        vertical-align: middle;\n",
              "    }\n",
              "\n",
              "    .dataframe tbody tr th {\n",
              "        vertical-align: top;\n",
              "    }\n",
              "\n",
              "    .dataframe thead th {\n",
              "        text-align: right;\n",
              "    }\n",
              "</style>\n",
              "<table border=\"1\" class=\"dataframe\">\n",
              "  <thead>\n",
              "    <tr style=\"text-align: right;\">\n",
              "      <th></th>\n",
              "      <th>Id</th>\n",
              "      <th>Title</th>\n",
              "      <th>FullDescription</th>\n",
              "      <th>LocationRaw</th>\n",
              "      <th>LocationNormalized</th>\n",
              "      <th>ContractType</th>\n",
              "      <th>ContractTime</th>\n",
              "      <th>Company</th>\n",
              "      <th>Category</th>\n",
              "      <th>SourceName</th>\n",
              "    </tr>\n",
              "  </thead>\n",
              "  <tbody>\n",
              "    <tr>\n",
              "      <th>241453</th>\n",
              "      <td>72676065</td>\n",
              "      <td>Business Development Executive  ****k plus bonus</td>\n",
              "      <td>Business Development Executive Dudley Permanen...</td>\n",
              "      <td>Dudley, West Midlands (County) West Midlands (...</td>\n",
              "      <td>UK</td>\n",
              "      <td>NaN</td>\n",
              "      <td>permanent</td>\n",
              "      <td>Anderson Scott Solutions</td>\n",
              "      <td>Sales Jobs</td>\n",
              "      <td>totaljobs.com</td>\n",
              "    </tr>\n",
              "    <tr>\n",
              "      <th>169520</th>\n",
              "      <td>71341050</td>\n",
              "      <td>English Teacher</td>\n",
              "      <td>English Teacher  Permanent, Fulltime contract ...</td>\n",
              "      <td>Avon</td>\n",
              "      <td>Avon</td>\n",
              "      <td>full_time</td>\n",
              "      <td>contract</td>\n",
              "      <td>ITN Mark Education Bristol</td>\n",
              "      <td>Teaching Jobs</td>\n",
              "      <td>jobsineducation.co.uk</td>\n",
              "    </tr>\n",
              "    <tr>\n",
              "      <th>136661</th>\n",
              "      <td>70336585</td>\n",
              "      <td>EMEA Customer Service Project Coordinator</td>\n",
              "      <td>Excellent opportunity to join a successful glo...</td>\n",
              "      <td>Oxford</td>\n",
              "      <td>Oxford</td>\n",
              "      <td>full_time</td>\n",
              "      <td>NaN</td>\n",
              "      <td>Bluestream Recruitment</td>\n",
              "      <td>Customer Services Jobs</td>\n",
              "      <td>careerbuilder.com</td>\n",
              "    </tr>\n",
              "    <tr>\n",
              "      <th>125435</th>\n",
              "      <td>69992269</td>\n",
              "      <td>Administrator / Receptionist</td>\n",
              "      <td>Acting as a recruitment business on behalf of ...</td>\n",
              "      <td>Leeds West Yorkshire Yorkshire</td>\n",
              "      <td>Leeds</td>\n",
              "      <td>NaN</td>\n",
              "      <td>contract</td>\n",
              "      <td>Taskmaster</td>\n",
              "      <td>Admin Jobs</td>\n",
              "      <td>totaljobs.com</td>\n",
              "    </tr>\n",
              "    <tr>\n",
              "      <th>192568</th>\n",
              "      <td>71760157</td>\n",
              "      <td>Business Analyst / Product Owner  to ****k</td>\n",
              "      <td>Business Analyst / Product Owner This is an ex...</td>\n",
              "      <td>London South East</td>\n",
              "      <td>South East London</td>\n",
              "      <td>NaN</td>\n",
              "      <td>permanent</td>\n",
              "      <td>The Industry Club</td>\n",
              "      <td>IT Jobs</td>\n",
              "      <td>cwjobs.co.uk</td>\n",
              "    </tr>\n",
              "  </tbody>\n",
              "</table>\n",
              "</div>\n",
              "      <button class=\"colab-df-convert\" onclick=\"convertToInteractive('df-9b08d102-e8f5-416c-b2b4-7c520f46dd88')\"\n",
              "              title=\"Convert this dataframe to an interactive table.\"\n",
              "              style=\"display:none;\">\n",
              "        \n",
              "  <svg xmlns=\"http://www.w3.org/2000/svg\" height=\"24px\"viewBox=\"0 0 24 24\"\n",
              "       width=\"24px\">\n",
              "    <path d=\"M0 0h24v24H0V0z\" fill=\"none\"/>\n",
              "    <path d=\"M18.56 5.44l.94 2.06.94-2.06 2.06-.94-2.06-.94-.94-2.06-.94 2.06-2.06.94zm-11 1L8.5 8.5l.94-2.06 2.06-.94-2.06-.94L8.5 2.5l-.94 2.06-2.06.94zm10 10l.94 2.06.94-2.06 2.06-.94-2.06-.94-.94-2.06-.94 2.06-2.06.94z\"/><path d=\"M17.41 7.96l-1.37-1.37c-.4-.4-.92-.59-1.43-.59-.52 0-1.04.2-1.43.59L10.3 9.45l-7.72 7.72c-.78.78-.78 2.05 0 2.83L4 21.41c.39.39.9.59 1.41.59.51 0 1.02-.2 1.41-.59l7.78-7.78 2.81-2.81c.8-.78.8-2.07 0-2.86zM5.41 20L4 18.59l7.72-7.72 1.47 1.35L5.41 20z\"/>\n",
              "  </svg>\n",
              "      </button>\n",
              "      \n",
              "  <style>\n",
              "    .colab-df-container {\n",
              "      display:flex;\n",
              "      flex-wrap:wrap;\n",
              "      gap: 12px;\n",
              "    }\n",
              "\n",
              "    .colab-df-convert {\n",
              "      background-color: #E8F0FE;\n",
              "      border: none;\n",
              "      border-radius: 50%;\n",
              "      cursor: pointer;\n",
              "      display: none;\n",
              "      fill: #1967D2;\n",
              "      height: 32px;\n",
              "      padding: 0 0 0 0;\n",
              "      width: 32px;\n",
              "    }\n",
              "\n",
              "    .colab-df-convert:hover {\n",
              "      background-color: #E2EBFA;\n",
              "      box-shadow: 0px 1px 2px rgba(60, 64, 67, 0.3), 0px 1px 3px 1px rgba(60, 64, 67, 0.15);\n",
              "      fill: #174EA6;\n",
              "    }\n",
              "\n",
              "    [theme=dark] .colab-df-convert {\n",
              "      background-color: #3B4455;\n",
              "      fill: #D2E3FC;\n",
              "    }\n",
              "\n",
              "    [theme=dark] .colab-df-convert:hover {\n",
              "      background-color: #434B5C;\n",
              "      box-shadow: 0px 1px 3px 1px rgba(0, 0, 0, 0.15);\n",
              "      filter: drop-shadow(0px 1px 2px rgba(0, 0, 0, 0.3));\n",
              "      fill: #FFFFFF;\n",
              "    }\n",
              "  </style>\n",
              "\n",
              "      <script>\n",
              "        const buttonEl =\n",
              "          document.querySelector('#df-9b08d102-e8f5-416c-b2b4-7c520f46dd88 button.colab-df-convert');\n",
              "        buttonEl.style.display =\n",
              "          google.colab.kernel.accessAllowed ? 'block' : 'none';\n",
              "\n",
              "        async function convertToInteractive(key) {\n",
              "          const element = document.querySelector('#df-9b08d102-e8f5-416c-b2b4-7c520f46dd88');\n",
              "          const dataTable =\n",
              "            await google.colab.kernel.invokeFunction('convertToInteractive',\n",
              "                                                     [key], {});\n",
              "          if (!dataTable) return;\n",
              "\n",
              "          const docLinkHtml = 'Like what you see? Visit the ' +\n",
              "            '<a target=\"_blank\" href=https://colab.research.google.com/notebooks/data_table.ipynb>data table notebook</a>'\n",
              "            + ' to learn more about interactive tables.';\n",
              "          element.innerHTML = '';\n",
              "          dataTable['output_type'] = 'display_data';\n",
              "          await google.colab.output.renderOutput(dataTable, element);\n",
              "          const docLink = document.createElement('div');\n",
              "          docLink.innerHTML = docLinkHtml;\n",
              "          element.appendChild(docLink);\n",
              "        }\n",
              "      </script>\n",
              "    </div>\n",
              "  </div>\n",
              "  "
            ]
          },
          "metadata": {},
          "execution_count": 9
        }
      ]
    },
    {
      "cell_type": "code",
      "source": [
        "#Табличное представление меток\n",
        "y_train.head()"
      ],
      "metadata": {
        "colab": {
          "base_uri": "https://localhost:8080/"
        },
        "id": "6eAelRh-GuTR",
        "outputId": "41e9aa11-822f-4956-85ca-4d9bfde1778c"
      },
      "execution_count": 83,
      "outputs": [
        {
          "output_type": "execute_result",
          "data": {
            "text/plain": [
              "241453    0\n",
              "169520    0\n",
              "136661    0\n",
              "125435    0\n",
              "192568    1\n",
              "Name: SalaryNormalized, dtype: int64"
            ]
          },
          "metadata": {},
          "execution_count": 83
        }
      ]
    },
    {
      "cell_type": "markdown",
      "metadata": {
        "id": "0Up46xP1qgh5"
      },
      "source": [
        "## Векторизация\n",
        "\n",
        "Как правило, модели, используемые в машинном обучении, применяются в предположении, что матрица \"объект-признак\" является вещественнозначной. Поэтому при работе с категориальными признаками и текстами сперва их необходимо привести к вещественному виду.\n",
        "\n",
        "Заметим, что в нашей задаче есть признаки, являющиеся текстами произвольной природы (Title, FullDescription), и категориальные признаки, принимающие ограниченное число значений (ContractType, Category и др.).\n",
        "\n",
        "Самый простой и понятный способ преобразования текстовых данных — векторизация. В этом случае для каждого слова, встречающегося в некотором набре текстов мы создаём отдельный новый признак, который будет равен $1$, когда слово встречается в заданном объекте, и $0$ – в противном случае.\n",
        "\n"
      ]
    },
    {
      "cell_type": "markdown",
      "source": [
        "#### 2. Создайте текстовое описание объектов обучающей и контрольной выборок, объединив значения всех признаков каждого объекта выборки через символы пробела. После этого получите признаковое описание объектов, осуществив векторизацию получившихся текстов при помощи [CountVectorizer](http://scikit-learn.org/stable/modules/generated/sklearn.feature_extraction.text.CountVectorizer.html), обучив его на обучающей выборке и применив на контрольной."
      ],
      "metadata": {
        "id": "12ilghXiOGWn"
      }
    },
    {
      "cell_type": "code",
      "execution_count": 84,
      "metadata": {
        "collapsed": true,
        "jupyter": {
          "outputs_hidden": true
        },
        "colab": {
          "base_uri": "https://localhost:8080/"
        },
        "id": "pRENSvVmqgh5",
        "outputId": "9c2f9552-7af6-45f8-922c-b69aa683d39c"
      },
      "outputs": [
        {
          "output_type": "stream",
          "name": "stderr",
          "text": [
            "/usr/local/lib/python3.9/dist-packages/pandas/core/frame.py:5176: SettingWithCopyWarning: \n",
            "A value is trying to be set on a copy of a slice from a DataFrame\n",
            "\n",
            "See the caveats in the documentation: https://pandas.pydata.org/pandas-docs/stable/user_guide/indexing.html#returning-a-view-versus-a-copy\n",
            "  return super().fillna(\n"
          ]
        }
      ],
      "source": [
        "#функция объединяет все текстовые столбцы в один текстовый \n",
        "#столбец и заполняет пропущенные значения строковой константой \"nan\"\n",
        "def get_text_col(x):\n",
        "    cat_features_mask = (x.dtypes == \"object\").values\n",
        "    data_str = x[x.columns[cat_features_mask]]\n",
        "    data_str.fillna('nan', inplace=True)\n",
        "    text = data_str[data_str.columns[0]]\n",
        "    data_str.columns\n",
        "    for col in data_str.columns[1:]:\n",
        "        text += ' ' + data_str[col]\n",
        "    return text\n",
        "    \n",
        "text_train = get_text_col(X_train)\n",
        "text_test = get_text_col(X_test)\n",
        "\n",
        "from sklearn.feature_extraction.text import CountVectorizer\n",
        "vectorizer = CountVectorizer()\n",
        "fit_vect = vectorizer.fit(text_train)\n",
        "\n",
        "X_train = vectorizer.transform(text_train)\n",
        "X_test = vectorizer.transform(text_test)"
      ]
    },
    {
      "cell_type": "code",
      "source": [
        "print(\"Пример X_test:\")\n",
        "print(X_test[0])"
      ],
      "metadata": {
        "colab": {
          "base_uri": "https://localhost:8080/"
        },
        "id": "Z3L-KKlt2tKT",
        "outputId": "23075241-a5ca-4680-830f-11cf31eaf0f1"
      },
      "execution_count": 85,
      "outputs": [
        {
          "output_type": "stream",
          "name": "stdout",
          "text": [
            "Пример X_test:\n",
            "  (0, 1111)\t1\n",
            "  (0, 1121)\t1\n",
            "  (0, 1213)\t1\n",
            "  (0, 2236)\t1\n",
            "  (0, 2237)\t1\n",
            "  (0, 5079)\t5\n",
            "  (0, 5427)\t1\n",
            "  (0, 5764)\t1\n",
            "  (0, 8080)\t1\n",
            "  (0, 8644)\t1\n",
            "  (0, 8681)\t1\n",
            "  (0, 9091)\t1\n",
            "  (0, 9593)\t1\n",
            "  (0, 9916)\t13\n",
            "  (0, 12190)\t4\n",
            "  (0, 12192)\t1\n",
            "  (0, 12868)\t1\n",
            "  (0, 14693)\t2\n",
            "  (0, 15640)\t1\n",
            "  (0, 15834)\t1\n",
            "  (0, 16245)\t1\n",
            "  (0, 16726)\t1\n",
            "  (0, 17257)\t2\n",
            "  (0, 17409)\t1\n",
            "  (0, 17675)\t1\n",
            "  :\t:\n",
            "  (0, 155254)\t10\n",
            "  (0, 155938)\t2\n",
            "  (0, 156233)\t1\n",
            "  (0, 156620)\t1\n",
            "  (0, 156697)\t1\n",
            "  (0, 157692)\t1\n",
            "  (0, 158071)\t1\n",
            "  (0, 158654)\t1\n",
            "  (0, 159886)\t1\n",
            "  (0, 160211)\t1\n",
            "  (0, 161601)\t1\n",
            "  (0, 161898)\t1\n",
            "  (0, 162865)\t2\n",
            "  (0, 163277)\t2\n",
            "  (0, 163601)\t2\n",
            "  (0, 163986)\t1\n",
            "  (0, 164423)\t1\n",
            "  (0, 164619)\t6\n",
            "  (0, 165335)\t5\n",
            "  (0, 165475)\t1\n",
            "  (0, 165849)\t3\n",
            "  (0, 165906)\t2\n",
            "  (0, 167205)\t2\n",
            "  (0, 168150)\t5\n",
            "  (0, 168226)\t1\n"
          ]
        }
      ]
    },
    {
      "cell_type": "markdown",
      "metadata": {
        "id": "BExYvejEqgh6"
      },
      "source": [
        "#### 3. Обучите следующие модели на обучающей выборке:\n",
        " - [логистическую регрессию](http://scikit-learn.org/stable/modules/generated/sklearn.linear_model.LogisticRegression.html) из модуля sklearn с параметрами по умолчанию;\n",
        " - логистическую регрессию при помощи Vowpal Wabbit с параметрами по умолчанию."
      ]
    },
    {
      "cell_type": "code",
      "execution_count": 86,
      "metadata": {
        "collapsed": true,
        "jupyter": {
          "outputs_hidden": true
        },
        "colab": {
          "base_uri": "https://localhost:8080/",
          "height": 75
        },
        "id": "4KBlT3O9qgh6",
        "outputId": "f5b9225f-e75b-44e7-91e7-d7e6b0602bb8"
      },
      "outputs": [
        {
          "output_type": "execute_result",
          "data": {
            "text/plain": [
              "LogisticRegression()"
            ],
            "text/html": [
              "<style>#sk-container-id-6 {color: black;background-color: white;}#sk-container-id-6 pre{padding: 0;}#sk-container-id-6 div.sk-toggleable {background-color: white;}#sk-container-id-6 label.sk-toggleable__label {cursor: pointer;display: block;width: 100%;margin-bottom: 0;padding: 0.3em;box-sizing: border-box;text-align: center;}#sk-container-id-6 label.sk-toggleable__label-arrow:before {content: \"▸\";float: left;margin-right: 0.25em;color: #696969;}#sk-container-id-6 label.sk-toggleable__label-arrow:hover:before {color: black;}#sk-container-id-6 div.sk-estimator:hover label.sk-toggleable__label-arrow:before {color: black;}#sk-container-id-6 div.sk-toggleable__content {max-height: 0;max-width: 0;overflow: hidden;text-align: left;background-color: #f0f8ff;}#sk-container-id-6 div.sk-toggleable__content pre {margin: 0.2em;color: black;border-radius: 0.25em;background-color: #f0f8ff;}#sk-container-id-6 input.sk-toggleable__control:checked~div.sk-toggleable__content {max-height: 200px;max-width: 100%;overflow: auto;}#sk-container-id-6 input.sk-toggleable__control:checked~label.sk-toggleable__label-arrow:before {content: \"▾\";}#sk-container-id-6 div.sk-estimator input.sk-toggleable__control:checked~label.sk-toggleable__label {background-color: #d4ebff;}#sk-container-id-6 div.sk-label input.sk-toggleable__control:checked~label.sk-toggleable__label {background-color: #d4ebff;}#sk-container-id-6 input.sk-hidden--visually {border: 0;clip: rect(1px 1px 1px 1px);clip: rect(1px, 1px, 1px, 1px);height: 1px;margin: -1px;overflow: hidden;padding: 0;position: absolute;width: 1px;}#sk-container-id-6 div.sk-estimator {font-family: monospace;background-color: #f0f8ff;border: 1px dotted black;border-radius: 0.25em;box-sizing: border-box;margin-bottom: 0.5em;}#sk-container-id-6 div.sk-estimator:hover {background-color: #d4ebff;}#sk-container-id-6 div.sk-parallel-item::after {content: \"\";width: 100%;border-bottom: 1px solid gray;flex-grow: 1;}#sk-container-id-6 div.sk-label:hover label.sk-toggleable__label {background-color: #d4ebff;}#sk-container-id-6 div.sk-serial::before {content: \"\";position: absolute;border-left: 1px solid gray;box-sizing: border-box;top: 0;bottom: 0;left: 50%;z-index: 0;}#sk-container-id-6 div.sk-serial {display: flex;flex-direction: column;align-items: center;background-color: white;padding-right: 0.2em;padding-left: 0.2em;position: relative;}#sk-container-id-6 div.sk-item {position: relative;z-index: 1;}#sk-container-id-6 div.sk-parallel {display: flex;align-items: stretch;justify-content: center;background-color: white;position: relative;}#sk-container-id-6 div.sk-item::before, #sk-container-id-6 div.sk-parallel-item::before {content: \"\";position: absolute;border-left: 1px solid gray;box-sizing: border-box;top: 0;bottom: 0;left: 50%;z-index: -1;}#sk-container-id-6 div.sk-parallel-item {display: flex;flex-direction: column;z-index: 1;position: relative;background-color: white;}#sk-container-id-6 div.sk-parallel-item:first-child::after {align-self: flex-end;width: 50%;}#sk-container-id-6 div.sk-parallel-item:last-child::after {align-self: flex-start;width: 50%;}#sk-container-id-6 div.sk-parallel-item:only-child::after {width: 0;}#sk-container-id-6 div.sk-dashed-wrapped {border: 1px dashed gray;margin: 0 0.4em 0.5em 0.4em;box-sizing: border-box;padding-bottom: 0.4em;background-color: white;}#sk-container-id-6 div.sk-label label {font-family: monospace;font-weight: bold;display: inline-block;line-height: 1.2em;}#sk-container-id-6 div.sk-label-container {text-align: center;}#sk-container-id-6 div.sk-container {/* jupyter's `normalize.less` sets `[hidden] { display: none; }` but bootstrap.min.css set `[hidden] { display: none !important; }` so we also need the `!important` here to be able to override the default hidden behavior on the sphinx rendered scikit-learn.org. See: https://github.com/scikit-learn/scikit-learn/issues/21755 */display: inline-block !important;position: relative;}#sk-container-id-6 div.sk-text-repr-fallback {display: none;}</style><div id=\"sk-container-id-6\" class=\"sk-top-container\"><div class=\"sk-text-repr-fallback\"><pre>LogisticRegression()</pre><b>In a Jupyter environment, please rerun this cell to show the HTML representation or trust the notebook. <br />On GitHub, the HTML representation is unable to render, please try loading this page with nbviewer.org.</b></div><div class=\"sk-container\" hidden><div class=\"sk-item\"><div class=\"sk-estimator sk-toggleable\"><input class=\"sk-toggleable__control sk-hidden--visually\" id=\"sk-estimator-id-6\" type=\"checkbox\" checked><label for=\"sk-estimator-id-6\" class=\"sk-toggleable__label sk-toggleable__label-arrow\">LogisticRegression</label><div class=\"sk-toggleable__content\"><pre>LogisticRegression()</pre></div></div></div></div></div>"
            ]
          },
          "metadata": {},
          "execution_count": 86
        }
      ],
      "source": [
        "from sklearn.linear_model import LogisticRegression\n",
        "\n",
        "# создание объекта LogisticRegression с параметрами по умолчанию\n",
        "lr = LogisticRegression()\n",
        "\n",
        "# обучение модели на обучающей выборке\n",
        "lr.fit(X_train, y_train)\n"
      ]
    },
    {
      "cell_type": "code",
      "source": [
        "!pip install vowpalwabbit"
      ],
      "metadata": {
        "colab": {
          "base_uri": "https://localhost:8080/"
        },
        "id": "Q9NAZyS2J7FS",
        "outputId": "1e314c7a-5d57-4e41-8986-e08aed80cea2"
      },
      "execution_count": 87,
      "outputs": [
        {
          "output_type": "stream",
          "name": "stdout",
          "text": [
            "Looking in indexes: https://pypi.org/simple, https://us-python.pkg.dev/colab-wheels/public/simple/\n",
            "Requirement already satisfied: vowpalwabbit in /usr/local/lib/python3.9/dist-packages (9.7.0)\n"
          ]
        }
      ]
    },
    {
      "cell_type": "code",
      "source": [
        "#придется использовать vw обернутый в Python и совместимый с sklearn, чтобы вызывать было проще в рамках ipynb"
      ],
      "metadata": {
        "id": "NOlVI0Gvslq_"
      },
      "execution_count": 88,
      "outputs": []
    },
    {
      "cell_type": "code",
      "source": [
        "from vowpalwabbit.sklearn import VWClassifier\n",
        "logreg_vw = VWClassifier(loss_function='logistic', invert_hash = '/content/readable_model.vw')\n",
        "logreg_vw.fit(X_train, y_train)\n",
        "logreg_vw.save('/content/readable_model.vw')"
      ],
      "metadata": {
        "id": "gPV4kt25oyXV"
      },
      "execution_count": 89,
      "outputs": []
    },
    {
      "cell_type": "markdown",
      "metadata": {
        "id": "amwpxQAAqgh6"
      },
      "source": [
        "#### 4. Вычислите значения ROC-AUC, [F-меры](http://scikit-learn.org/stable/modules/generated/sklearn.metrics.f1_score.html), а также постройте [матрицу ошибок](http://scikit-learn.org/stable/modules/generated/sklearn.metrics.confusion_matrix.html) для каждой из построенных в п. 3 моделей на контрольной выборке. Сравните построенные модели по качеству их работы."
      ]
    },
    {
      "cell_type": "code",
      "execution_count": 90,
      "metadata": {
        "collapsed": true,
        "jupyter": {
          "outputs_hidden": true
        },
        "id": "9622RILRqgh7"
      },
      "outputs": [],
      "source": [
        "#Предикты VW и SKL\n",
        "y_pred_sklearn = lr.predict(X_test)\n",
        "y_pred_vw = logreg_vw.predict(X_test)"
      ]
    },
    {
      "cell_type": "code",
      "source": [
        "from sklearn.metrics import roc_auc_score, f1_score, confusion_matrix\n",
        "\n",
        "#Метрики SKL\n",
        "roc_auc_sklearn = roc_auc_score(y_test, y_pred_sklearn)\n",
        "f1_sklearn = f1_score(y_test, y_pred_sklearn)\n",
        "cm_sklearn = confusion_matrix(y_test, y_pred_sklearn)\n",
        "\n",
        "#Метрики VW\n",
        "roc_auc_vw = roc_auc_score(y_test, y_pred_vw)\n",
        "f1_vw = f1_score(y_test, y_pred_vw)\n",
        "cm_vw = confusion_matrix(y_test, y_pred_vw)\n",
        "\n",
        "print('Модель из sklearn:')\n",
        "print('ROC-AUC:', roc_auc_sklearn)\n",
        "print('F-мера:', f1_sklearn)\n",
        "print('Матрица ошибок:\\n', cm_sklearn)\n",
        "print('-------------------------------------')\n",
        "print('Модель из Vowpal Wabbit:')\n",
        "print('ROC-AUC:', roc_auc_vw)\n",
        "print('F-мера:', f1_vw)\n",
        "print('Матрица ошибок:\\n', cm_vw)"
      ],
      "metadata": {
        "colab": {
          "base_uri": "https://localhost:8080/"
        },
        "id": "4Bj1CR-6LH68",
        "outputId": "0e236179-33d1-4b50-9fa0-a6681159ac92"
      },
      "execution_count": 91,
      "outputs": [
        {
          "output_type": "stream",
          "name": "stdout",
          "text": [
            "Модель из sklearn:\n",
            "ROC-AUC: 0.8594788280536557\n",
            "F-мера: 0.8548332582244255\n",
            "Матрица ошибок:\n",
            " [[32773  5167]\n",
            " [ 5141 30350]]\n",
            "-------------------------------------\n",
            "Модель из Vowpal Wabbit:\n",
            "ROC-AUC: 0.8678451542512422\n",
            "F-мера: 0.8632862101075086\n",
            "Матрица ошибок:\n",
            " [[33147  4793]\n",
            " [ 4897 30594]]\n"
          ]
        }
      ]
    },
    {
      "cell_type": "markdown",
      "metadata": {
        "id": "ZOh--TUoqgh7"
      },
      "source": [
        "#### 5. Отсортируйте веса признаков для модели логистической регрессии из scikit-learn, полученной в п. 2. Какие слова из встречающихся в выборке имеют наибольшее/наименьшее влияние на значение целевой переменной? Проинтерпретируйте полученный результат."
      ]
    },
    {
      "cell_type": "code",
      "execution_count": 111,
      "metadata": {
        "collapsed": true,
        "jupyter": {
          "outputs_hidden": true
        },
        "colab": {
          "base_uri": "https://localhost:8080/"
        },
        "id": "p2LhjGS2qgh7",
        "outputId": "cccde210-b874-4941-bb15-5905cbd8eeb6"
      },
      "outputs": [
        {
          "output_type": "stream",
          "name": "stdout",
          "text": [
            "Слова с наименьшим влиянием на значение целевой переменной:\n",
            "ashfordhodges -1.4451620713508236e-08\n",
            "competantly 2.3195926266796202e-07\n",
            "toclients 2.339989180121781e-07\n",
            "assi 4.826808914210177e-07\n",
            "yourcv 5.372624691151287e-07\n",
            "infobase 5.883579342860437e-07\n",
            "synch -6.716897969382083e-07\n",
            "contractural -1.0038475593765138e-06\n",
            "wd6 1.213484712176121e-06\n",
            "barod -1.2309208835702082e-06\n",
            "\n",
            "\n",
            "Слова с наибольшим влиянием на значение целевой переменной:\n",
            "principal 0.563950931535959\n",
            "graduate -0.5660215352676077\n",
            "myukjobs -0.5981614519080241\n",
            "theladders 0.6008334899072282\n",
            "technojobs 0.6401648211234885\n",
            "assistant -0.6596243272072834\n",
            "locum 0.771574218959991\n",
            "nvq -0.7938502548698207\n",
            "jobcentre -1.0837234373900189\n",
            "optometrist 1.2180182196628153\n"
          ]
        }
      ],
      "source": [
        "#Отсортируем коэффициенты в модели lr (SKL)\n",
        "indexes = np.argsort([abs(i) for i in lr.coef_])[0]  #168740\n",
        "\n",
        "#Вызов слов из векторайзера\n",
        "columns = vectorizer.get_feature_names_out() #168740\n",
        "\n",
        "#Размер ТОПа\n",
        "top_size = 10\n",
        "\n",
        "print('Слова с наименьшим влиянием на значение целевой переменной:')\n",
        "for i in range(0,top_size):\n",
        "    print(columns[indexes[i]], lr.coef_[0][indexes[i]])\n",
        "print(f'\\n')     \n",
        "print('Слова с наибольшим влиянием на значение целевой переменной:')\n",
        "for i in range(len(indexes) - top_size,len(indexes)):\n",
        "    print(columns[indexes[i]], lr.coef_[0][indexes[i]])\n"
      ]
    },
    {
      "cell_type": "markdown",
      "metadata": {
        "id": "6SpGwoixqgh7"
      },
      "source": [
        "#### 6. Отсортируйте веса признаков для модели логистической регрессии, полученной в п. 2 при помощи Vowpal Wabbit. Какие слова из встречающихся в выборке имеют наибольшее/наименьшее влияние на значение целевой переменной? Проинтерпретирйте полученный результат."
      ]
    },
    {
      "cell_type": "code",
      "source": [
        "vwarr = feature_weights #1,262144 shape\n",
        "skl = lr.coef_ #1,168740 shape"
      ],
      "metadata": {
        "id": "Mgj0V0VOYVY2"
      },
      "execution_count": 105,
      "outputs": []
    },
    {
      "cell_type": "code",
      "execution_count": 124,
      "metadata": {
        "collapsed": true,
        "jupyter": {
          "outputs_hidden": true
        },
        "colab": {
          "base_uri": "https://localhost:8080/"
        },
        "id": "QIldq314qgh8",
        "outputId": "276b78de-dd27-44d4-c4be-7e7a21fa6162"
      },
      "outputs": [
        {
          "output_type": "stream",
          "name": "stdout",
          "text": [
            "Слова с наименьшим влиянием на значение целевой переменной:\n",
            "dormitories 0.0\n",
            "unplugging 0.0\n",
            "occurances 0.0\n",
            "splashbacks 0.0\n",
            "freshners 0.0\n",
            "supe 0.0\n",
            "shampoodry 0.0\n",
            "taffs -1.169741153717041e-06\n",
            "advantageousall -5.446374416351318e-06\n",
            "gloucestershire -5.734144451707834e-06\n",
            "\n",
            "\n",
            "Слова с наибольшим влиянием на значение целевой переменной:\n",
            "administrator_job -0.9777079820632935\n",
            "ryanh 0.9842252135276794\n",
            "infochasemedical 0.9971089959144592\n",
            "assistantaccountant_job -1.0120567083358765\n",
            "findababysitter -1.0203423500061035\n",
            "nijobfinder -1.071933627128601\n",
            "jobsitnmark -1.0733424425125122\n",
            "efinancialcareers 1.1133224964141846\n",
            "oilandgasjobsearch 1.2838788032531738\n",
            "theladders 2.5484402179718018\n"
          ]
        }
      ],
      "source": [
        "feature_weights_raw = logreg_vw.get_coefs()\n",
        "feature_weights = feature_weights_raw.toarray() # фишка, тк get_coefs() отдает csr_matrix, пуляем ее в numpy array\n",
        "feature_weights = feature_weights[:,0:168740] #еще одна фишка, тк sklearn реализация возвращает массив размерностью 1,262144\n",
        "\n",
        "indexes = np.argsort([abs(i) for i in feature_weights[0]]) #262144\n",
        "\n",
        "\n",
        "#Вызов слов из векторайзера\n",
        "columns = vectorizer.get_feature_names_out() #168740\n",
        "\n",
        "#Размер ТОПа\n",
        "top_size = 10\n",
        "\n",
        "print('Слова с наименьшим влиянием на значение целевой переменной:')\n",
        "for i in range(0,top_size):\n",
        "    print(columns[indexes[i]], feature_weights[0][indexes[i]])\n",
        "print(f'\\n')     \n",
        "print('Слова с наибольшим влиянием на значение целевой переменной:')\n",
        "for i in range(len(indexes) - top_size,len(indexes)):\n",
        "    print(columns[indexes[i]], feature_weights[0][indexes[i]])\n",
        "\n"
      ]
    },
    {
      "cell_type": "markdown",
      "metadata": {
        "id": "ROfqcru9qgh8"
      },
      "source": [
        "## TF-IDF\n",
        "\n",
        "Ещё один способ работы с текстовыми данными — [TF-IDF](https://en.wikipedia.org/wiki/Tf–idf) (**T**erm **F**requency–**I**nverse **D**ocument **F**requency). Рассмотрим коллекцию текстов $D$.  Для каждого уникального слова $t$ из документа $d \\in D$ вычислим следующие величины:\n",
        "\n",
        "1. Term Frequency – количество вхождений слова в отношении к общему числу слов в тексте:\n",
        "$$\\text{tf}(t, d) = \\frac{n_{td}}{\\sum_{t \\in d} n_{td}},$$\n",
        "где $n_{td}$ — количество вхождений слова $t$ в текст $d$.\n",
        "1. Inverse Document Frequency\n",
        "$$\\text{idf}(t, D) = \\log \\frac{\\left| D \\right|}{\\left| \\{d\\in D: t \\in d\\} \\right|},$$\n",
        "где $\\left| \\{d\\in D: t \\in d\\} \\right|$ – количество текстов в коллекции, содержащих слово $t$.\n",
        "\n",
        "Тогда для каждой пары (слово, текст) $(t, d)$ вычислим величину:\n",
        "$$\\text{tf-idf}(t,d, D) = \\text{tf}(t, d)\\cdot \\text{idf}(t, D).$$\n",
        "\n",
        "Отметим, что значение $\\text{tf}(t, d)$ корректируется для часто встречающихся общеупотребимых слов при помощи значения $\\text{idf}(t, D).$\n",
        "\n",
        "Признаковым описанием одного объекта $d \\in D$ будет вектор $\\bigg(\\text{tf-idf}(t,d, D)\\bigg)_{t\\in V}$, где $V$ – словарь всех слов, встречающихся в коллекции $D$.\n",
        "\n"
      ]
    },
    {
      "cell_type": "markdown",
      "source": [
        "#### 7. Создайте текстовое описание объектов обучающей и контрольной выборок, объединив значения всех признаков каждого объекта выборки через символы пробела. После этого получите признаковое описание объектов, вычислив вектор tf-idf для каждого объекта помощи [TfidfVectorizer](http://scikit-learn.org/stable/modules/generated/sklearn.feature_extraction.text.TfidfVectorizer.html), обучив его на обучающей выборке и применив на контрольной."
      ],
      "metadata": {
        "id": "Vujy9qI7wIZ3"
      }
    },
    {
      "cell_type": "markdown",
      "source": [
        "TF (term frequency — частота слова) — отношение числа вхождений некоторого слова к общему числу слов документа. Таким образом, оценивается важность слова ti  в пределах отдельного документа.\n",
        "\n",
        "IDF (inverse document frequency — обратная частота документа) — инверсия частоты, с которой некоторое слово встречается в документах коллекции. Учёт IDF уменьшает вес широкоупотребительных слов. Для каждого уникального слова в пределах конкретной коллекции документов существует только одно значение IDF.\n"
      ],
      "metadata": {
        "id": "o0Meipmrognq"
      }
    },
    {
      "cell_type": "code",
      "execution_count": 129,
      "metadata": {
        "collapsed": true,
        "jupyter": {
          "outputs_hidden": true
        },
        "id": "l4eDwA_0qgh8"
      },
      "outputs": [],
      "source": [
        "#text_train\n",
        "#text_test\n",
        "from sklearn.feature_extraction.text import TfidfVectorizer\n",
        "vectorizer2 = TfidfVectorizer()\n",
        "_ = vectorizer2.fit(text_train)\n",
        "\n",
        "X_train2 = vectorizer2.transform(text_train)\n",
        "X_test2 = vectorizer2.transform(text_test)"
      ]
    },
    {
      "cell_type": "markdown",
      "metadata": {
        "id": "O4y6Dzt4qgh8"
      },
      "source": [
        "#### 8.  Обучите следующие модели на обучающей выборке:\n",
        "- [логистическую регрессию](http://scikit-learn.org/stable/modules/generated/sklearn.linear_model.LogisticRegression.html) из модуля sklearn с параметрами по умолчанию;\n",
        "- логистическую регрессию при помощи Vowpal Wabbit с параметрами по умолчанию."
      ]
    },
    {
      "cell_type": "code",
      "execution_count": 130,
      "metadata": {
        "collapsed": true,
        "jupyter": {
          "outputs_hidden": true
        },
        "colab": {
          "base_uri": "https://localhost:8080/",
          "height": 214
        },
        "id": "VKoIhYq4qgh9",
        "outputId": "6860fc29-e14c-4fe7-9d45-4d93ade5b7c9"
      },
      "outputs": [
        {
          "output_type": "stream",
          "name": "stderr",
          "text": [
            "/usr/local/lib/python3.9/dist-packages/sklearn/linear_model/_logistic.py:450: ConvergenceWarning: lbfgs failed to converge (status=1):\n",
            "STOP: TOTAL NO. of ITERATIONS REACHED LIMIT.\n",
            "\n",
            "Increase the number of iterations (max_iter) or scale the data as shown in:\n",
            "    https://scikit-learn.org/stable/modules/preprocessing.html\n",
            "Please also refer to the documentation for alternative solver options:\n",
            "    https://scikit-learn.org/stable/modules/linear_model.html#logistic-regression\n",
            "  opt_res = optimize.minimize(\n"
          ]
        },
        {
          "output_type": "execute_result",
          "data": {
            "text/plain": [
              "LogisticRegression()"
            ],
            "text/html": [
              "<style>#sk-container-id-9 {color: black;background-color: white;}#sk-container-id-9 pre{padding: 0;}#sk-container-id-9 div.sk-toggleable {background-color: white;}#sk-container-id-9 label.sk-toggleable__label {cursor: pointer;display: block;width: 100%;margin-bottom: 0;padding: 0.3em;box-sizing: border-box;text-align: center;}#sk-container-id-9 label.sk-toggleable__label-arrow:before {content: \"▸\";float: left;margin-right: 0.25em;color: #696969;}#sk-container-id-9 label.sk-toggleable__label-arrow:hover:before {color: black;}#sk-container-id-9 div.sk-estimator:hover label.sk-toggleable__label-arrow:before {color: black;}#sk-container-id-9 div.sk-toggleable__content {max-height: 0;max-width: 0;overflow: hidden;text-align: left;background-color: #f0f8ff;}#sk-container-id-9 div.sk-toggleable__content pre {margin: 0.2em;color: black;border-radius: 0.25em;background-color: #f0f8ff;}#sk-container-id-9 input.sk-toggleable__control:checked~div.sk-toggleable__content {max-height: 200px;max-width: 100%;overflow: auto;}#sk-container-id-9 input.sk-toggleable__control:checked~label.sk-toggleable__label-arrow:before {content: \"▾\";}#sk-container-id-9 div.sk-estimator input.sk-toggleable__control:checked~label.sk-toggleable__label {background-color: #d4ebff;}#sk-container-id-9 div.sk-label input.sk-toggleable__control:checked~label.sk-toggleable__label {background-color: #d4ebff;}#sk-container-id-9 input.sk-hidden--visually {border: 0;clip: rect(1px 1px 1px 1px);clip: rect(1px, 1px, 1px, 1px);height: 1px;margin: -1px;overflow: hidden;padding: 0;position: absolute;width: 1px;}#sk-container-id-9 div.sk-estimator {font-family: monospace;background-color: #f0f8ff;border: 1px dotted black;border-radius: 0.25em;box-sizing: border-box;margin-bottom: 0.5em;}#sk-container-id-9 div.sk-estimator:hover {background-color: #d4ebff;}#sk-container-id-9 div.sk-parallel-item::after {content: \"\";width: 100%;border-bottom: 1px solid gray;flex-grow: 1;}#sk-container-id-9 div.sk-label:hover label.sk-toggleable__label {background-color: #d4ebff;}#sk-container-id-9 div.sk-serial::before {content: \"\";position: absolute;border-left: 1px solid gray;box-sizing: border-box;top: 0;bottom: 0;left: 50%;z-index: 0;}#sk-container-id-9 div.sk-serial {display: flex;flex-direction: column;align-items: center;background-color: white;padding-right: 0.2em;padding-left: 0.2em;position: relative;}#sk-container-id-9 div.sk-item {position: relative;z-index: 1;}#sk-container-id-9 div.sk-parallel {display: flex;align-items: stretch;justify-content: center;background-color: white;position: relative;}#sk-container-id-9 div.sk-item::before, #sk-container-id-9 div.sk-parallel-item::before {content: \"\";position: absolute;border-left: 1px solid gray;box-sizing: border-box;top: 0;bottom: 0;left: 50%;z-index: -1;}#sk-container-id-9 div.sk-parallel-item {display: flex;flex-direction: column;z-index: 1;position: relative;background-color: white;}#sk-container-id-9 div.sk-parallel-item:first-child::after {align-self: flex-end;width: 50%;}#sk-container-id-9 div.sk-parallel-item:last-child::after {align-self: flex-start;width: 50%;}#sk-container-id-9 div.sk-parallel-item:only-child::after {width: 0;}#sk-container-id-9 div.sk-dashed-wrapped {border: 1px dashed gray;margin: 0 0.4em 0.5em 0.4em;box-sizing: border-box;padding-bottom: 0.4em;background-color: white;}#sk-container-id-9 div.sk-label label {font-family: monospace;font-weight: bold;display: inline-block;line-height: 1.2em;}#sk-container-id-9 div.sk-label-container {text-align: center;}#sk-container-id-9 div.sk-container {/* jupyter's `normalize.less` sets `[hidden] { display: none; }` but bootstrap.min.css set `[hidden] { display: none !important; }` so we also need the `!important` here to be able to override the default hidden behavior on the sphinx rendered scikit-learn.org. See: https://github.com/scikit-learn/scikit-learn/issues/21755 */display: inline-block !important;position: relative;}#sk-container-id-9 div.sk-text-repr-fallback {display: none;}</style><div id=\"sk-container-id-9\" class=\"sk-top-container\"><div class=\"sk-text-repr-fallback\"><pre>LogisticRegression()</pre><b>In a Jupyter environment, please rerun this cell to show the HTML representation or trust the notebook. <br />On GitHub, the HTML representation is unable to render, please try loading this page with nbviewer.org.</b></div><div class=\"sk-container\" hidden><div class=\"sk-item\"><div class=\"sk-estimator sk-toggleable\"><input class=\"sk-toggleable__control sk-hidden--visually\" id=\"sk-estimator-id-9\" type=\"checkbox\" checked><label for=\"sk-estimator-id-9\" class=\"sk-toggleable__label sk-toggleable__label-arrow\">LogisticRegression</label><div class=\"sk-toggleable__content\"><pre>LogisticRegression()</pre></div></div></div></div></div>"
            ]
          },
          "metadata": {},
          "execution_count": 130
        }
      ],
      "source": [
        "lr2 = linear_model.LogisticRegression()\n",
        "lr2.fit(X_train2, y_train)"
      ]
    },
    {
      "cell_type": "code",
      "source": [
        "logreg_vw2 = VWClassifier(loss_function='logistic', invert_hash = '/content/readable_model2.vw')\n",
        "logreg_vw2.fit(X_train2, y_train)\n",
        "logreg_vw2.save('/content/readable_model2.vw')"
      ],
      "metadata": {
        "id": "cbi4RFFbqqxq"
      },
      "execution_count": 132,
      "outputs": []
    },
    {
      "cell_type": "code",
      "source": [
        "#Предикты VW и SKL\n",
        "y_pred_sklearn2 = lr2.predict(X_test2)\n",
        "y_pred_vw2 = logreg_vw2.predict(X_test2)"
      ],
      "metadata": {
        "id": "1c2y_qx8q8XG"
      },
      "execution_count": 133,
      "outputs": []
    },
    {
      "cell_type": "markdown",
      "metadata": {
        "id": "cvCHI6wDqgh9"
      },
      "source": [
        "#### 9. Вычислите значения ROC-AUC, [F-меры](http://scikit-learn.org/stable/modules/generated/sklearn.metrics.f1_score.html), а также постройте [матрицу ошибок](http://scikit-learn.org/stable/modules/generated/sklearn.metrics.confusion_matrix.html) для каждой из построенных в п. 8 моделей на контрольной выборке. Сравните построенные модели по качеству их работы."
      ]
    },
    {
      "cell_type": "code",
      "execution_count": 135,
      "metadata": {
        "collapsed": true,
        "jupyter": {
          "outputs_hidden": true
        },
        "colab": {
          "base_uri": "https://localhost:8080/"
        },
        "id": "cA0zkf4_qgh9",
        "outputId": "ff7650ad-8334-4678-828b-187f4bd728a5"
      },
      "outputs": [
        {
          "output_type": "stream",
          "name": "stdout",
          "text": [
            "Модель из sklearn:\n",
            "ROC-AUC: 0.8692054046622733\n",
            "F-мера: 0.8652418573974544\n",
            "Матрица ошибок:\n",
            " [[32999  4941]\n",
            " [ 4662 30829]]\n",
            "-------------------------------------\n",
            "Модель из Vowpal Wabbit:\n",
            "ROC-AUC: 0.8733090770582553\n",
            "F-мера: 0.8695883729730487\n",
            "Матрица ошибок:\n",
            " [[33103  4837]\n",
            " [ 4468 31023]]\n"
          ]
        }
      ],
      "source": [
        "#Метрики SKL\n",
        "roc_auc_sklearn2 = roc_auc_score(y_test, y_pred_sklearn2)\n",
        "f1_sklearn2 = f1_score(y_test, y_pred_sklearn2)\n",
        "cm_sklearn2 = confusion_matrix(y_test, y_pred_sklearn2)\n",
        "\n",
        "#Метрики VW\n",
        "roc_auc_vw2 = roc_auc_score(y_test, y_pred_vw2)\n",
        "f1_vw2 = f1_score(y_test, y_pred_vw2)\n",
        "cm_vw2 = confusion_matrix(y_test, y_pred_vw2)\n",
        "\n",
        "print('Модель из sklearn:')\n",
        "print('ROC-AUC:', roc_auc_sklearn2)\n",
        "print('F-мера:', f1_sklearn2)\n",
        "print('Матрица ошибок:\\n', cm_sklearn2)\n",
        "print('-------------------------------------')\n",
        "print('Модель из Vowpal Wabbit:')\n",
        "print('ROC-AUC:', roc_auc_vw2)\n",
        "print('F-мера:', f1_vw2)\n",
        "print('Матрица ошибок:\\n', cm_vw2)"
      ]
    },
    {
      "cell_type": "markdown",
      "metadata": {
        "id": "Dp_mhe4Vqgh9"
      },
      "source": [
        "#### 10. Сравните значения метрик из п. 9 со значениями, полученными в п. 5, и сравните соответствующие модели по качеству из работы.\n",
        "\n",
        "**Ответ**:\n",
        "В случае логистической регрессии значение auc-roc и f1_score уменьшилось, что может говорить о том, что в данном конкретном примере применение TFIDF векторизатора ухудшило результаты модели"
      ]
    },
    {
      "cell_type": "code",
      "source": [
        "print(\"Разница моделей sklearn:\", roc_auc_sklearn - roc_auc_sklearn2, f1_sklearn - f1_sklearn2)\n",
        "print(\"Разница моделей vw:\", roc_auc_vw - roc_auc_vw2, f1_vw - f1_vw2)"
      ],
      "metadata": {
        "colab": {
          "base_uri": "https://localhost:8080/"
        },
        "id": "N-ebiJXfu0F2",
        "outputId": "dc7246b9-c822-4a61-fa56-4b0674b58be5"
      },
      "execution_count": 137,
      "outputs": [
        {
          "output_type": "stream",
          "name": "stdout",
          "text": [
            "Разница моделей sklearn: -0.009726576608617532 -0.010408599173028943\n",
            "Разница моделей vw: -0.005463922807013133 -0.006302162865540084\n"
          ]
        }
      ]
    },
    {
      "cell_type": "markdown",
      "metadata": {
        "id": "91Ec_rvmqgh9"
      },
      "source": [
        "#### 11.  Отсортируйте веса признаков для модели логистической регрессии из scikit-learn, полученной в п. 8. Какие слова из встречающихся в выборке имеют наибольшее/наименьшее влияние на значение целевой переменной? Проинтерпретирйте полученный результат."
      ]
    },
    {
      "cell_type": "code",
      "execution_count": 138,
      "metadata": {
        "collapsed": true,
        "jupyter": {
          "outputs_hidden": true
        },
        "colab": {
          "base_uri": "https://localhost:8080/"
        },
        "id": "Quelr4T0qgh9",
        "outputId": "345e142c-6381-42a5-f3f8-b1b8cdbe2594"
      },
      "outputs": [
        {
          "output_type": "stream",
          "name": "stdout",
          "text": [
            "Слова с наименьшим влиянием на значение целевой переменной:\n",
            "outoftown -4.613197753759758e-06\n",
            "mauborgne -5.039494865954669e-06\n",
            "disbursed -6.235861973338256e-06\n",
            "wellmannered 8.333949760180864e-06\n",
            "goodfellow 1.1332445223555825e-05\n",
            "2billion 1.433404153760922e-05\n",
            "petaid 1.4811995213718294e-05\n",
            "broke 1.6583110707396077e-05\n",
            "suppor -1.8878621966325012e-05\n",
            "seafield 2.1462396950882936e-05\n",
            "\n",
            "\n",
            "Слова с наибольшим влиянием на значение целевой переменной:\n",
            "london 6.429007296222638\n",
            "head 7.17295238250566\n",
            "senior 7.482500676219683\n",
            "jobcentre -7.52372297096958\n",
            "junior -7.842554325055648\n",
            "director 7.907590030527782\n",
            "manager 7.921845287553211\n",
            "optometrist 8.904035758889725\n",
            "graduate -10.151277442552884\n",
            "assistant -11.032236903307236\n"
          ]
        }
      ],
      "source": [
        "#Отсортируем коэффициенты в модели lr (SKL)\n",
        "indexes = np.argsort([abs(i) for i in lr2.coef_])[0]  #168740\n",
        "\n",
        "#Вызов слов из векторайзера\n",
        "columns = vectorizer2.get_feature_names_out() #168740\n",
        "\n",
        "#Размер ТОПа\n",
        "top_size = 10\n",
        "\n",
        "print('Слова с наименьшим влиянием на значение целевой переменной:')\n",
        "for i in range(0,top_size):\n",
        "    print(columns[indexes[i]], lr2.coef_[0][indexes[i]])\n",
        "print(f'\\n')     \n",
        "print('Слова с наибольшим влиянием на значение целевой переменной:')\n",
        "for i in range(len(indexes) - top_size,len(indexes)):\n",
        "    print(columns[indexes[i]], lr2.coef_[0][indexes[i]])"
      ]
    },
    {
      "cell_type": "markdown",
      "metadata": {
        "id": "1iF_o8F1qgh-"
      },
      "source": [
        "#### 12. Отсортируйте веса признаков для модели логистической регрессии, полученной в п. 8 при помощи Vowpal Wabbit. Какие слова из встречающихся в выборке имеют наибольшее/наименьшее влияние на значение целевой переменной? Проинтерпретирйте полученный результат."
      ]
    },
    {
      "cell_type": "code",
      "execution_count": 139,
      "metadata": {
        "collapsed": true,
        "jupyter": {
          "outputs_hidden": true
        },
        "colab": {
          "base_uri": "https://localhost:8080/"
        },
        "id": "Ad9sITo8qgh-",
        "outputId": "68e63c5d-2f66-453f-eb8a-53e738af8392"
      },
      "outputs": [
        {
          "output_type": "stream",
          "name": "stdout",
          "text": [
            "Слова с наименьшим влиянием на значение целевой переменной:\n",
            "judd -4.678964614868164e-06\n",
            "kk -5.844980478286743e-06\n",
            "arndale 5.310773849487305e-05\n",
            "readman 5.4717063903808594e-05\n",
            "readmanrobertwalters 5.4717063903808594e-05\n",
            "andrewmra -5.84721565246582e-05\n",
            "coordinators 8.13901424407959e-05\n",
            "jjfox 0.0001501869410276413\n",
            "paining -0.00015741586685180664\n",
            "holidaysare 0.00023001432418823242\n",
            "\n",
            "\n",
            "Слова с наибольшим влиянием на значение целевой переменной:\n",
            "spoton -8.52326488494873\n",
            "spkcfl -8.625574111938477\n",
            "_6 -8.625574111938477\n",
            "hearingcareflamehealth -8.706862449645996\n",
            "m883221 -8.859704971313477\n",
            "_8 -8.859704971313477\n",
            "navisionjobs 9.178306579589844\n",
            "drenched 11.778279304504395\n",
            "yearscoring -12.776012420654297\n",
            "theladders 15.840387344360352\n"
          ]
        }
      ],
      "source": [
        "feature_weights_raw2 = logreg_vw2.get_coefs()\n",
        "feature_weights2 = feature_weights_raw2.toarray() # фишка, тк get_coefs() отдает csr_matrix, пуляем ее в numpy array\n",
        "feature_weights2 = feature_weights2[:,0:168740] #еще одна фишка, тк sklearn реализация возвращает массив размерностью 1,262144\n",
        "\n",
        "indexes2 = np.argsort([abs(i) for i in feature_weights2[0]]) #262144\n",
        "\n",
        "\n",
        "#Вызов слов из векторайзера\n",
        "columns = vectorizer2.get_feature_names_out() #168740\n",
        "\n",
        "#Размер ТОПа\n",
        "top_size = 10\n",
        "\n",
        "print('Слова с наименьшим влиянием на значение целевой переменной:')\n",
        "for i in range(0,top_size):\n",
        "    print(columns[indexes2[i]], feature_weights2[0][indexes2[i]])\n",
        "print(f'\\n')     \n",
        "print('Слова с наибольшим влиянием на значение целевой переменной:')\n",
        "for i in range(len(indexes2) - top_size,len(indexes2)):\n",
        "    print(columns[indexes2[i]], feature_weights2[0][indexes2[i]])"
      ]
    },
    {
      "cell_type": "markdown",
      "metadata": {
        "id": "5V7oXII8qgh-"
      },
      "source": [
        "## Счётчики\n",
        "\n",
        "Ранее в рамках данного задания при построении моделей мы объединяли значения всех признаков в единую строку, что предполагает равноправность всех признаков. Однако заметим, что в этом случае мы допускаем потерю информации: слово \"Glasgow\" может по-разному влиять на зарплату, если оно находится в названии объявления и в геолокации. Чтобы устранить этот недостаток, при создании текстового описания объекта будем объединять только значения признаков Title и FullDescription, а остальные будем рассматривать как категориальные. При этом с полученным текстовым описанием объекта будем работать, как раньше (при помощи векторизации или tf-idf), а для кодирования категориальных признаков используем **счётчики**.\n",
        "\n",
        "Идея этого метода состоит в том, чтобы заменить значение категориального признака на вероятность того, что объект с данным значением признака относится к положительному классу. Опишем эту идею более формально. Пусть у нас есть выборка $X = \\{ (x_i, y_i) \\}_{i=1}^l,$ и $j$-ый признак принимает значения из множества $U_j = \\{ u_{jn}\\}_{n=1}^{N_j},$ где $N_j$ — количество различных значений $j$-ого признака. Пусть $x_{ij} = u_{jn},$ тогда заменим значения $j$-ого категориального признака объекта $x_i$ на следующую оценку: \n",
        "$$\\hat{P}(y_i=+1|x_{ij}=u_{jn}) = \\frac{\\sum_{m=1}^l \\left[ x_{mj} = u_{jn} \\right] \\left[ y_m = +1 \\right]}{\\sum_{m=1}^l \\left[ x_{mj} = u_{jn} \\right]}.$$\n",
        "\n",
        "Однако заметим, что при таком способе формирования счётчиков мы учитываем в формуле для объекта $x_i$ его метку $y_i$, тем самым вносим информацию об ответе в признаки. Чтобы устранить этот недостаток, при вычислении счётчика будем исключать из рассмотрения текущий объект, т.е. рассматривать следующую оценку:\n",
        "$$\\hat{P}(y_i=+1|X_{ij}=u_{jn}) = \\frac{\\sum_{m=1, \\\\ m \\ne i}^l \\left[ x_{mj} = u_{jn} \\right] \\left[ y_m = +1 \\right]}{\\sum_{m=1, \\\\ m \\ne i}^l \\left[ x_{mj} = u_{jn} \\right]},$$\n",
        "\n",
        "#### 13. Создайте текстовое описание объектов обучающей и контрольной выборок, объединив значения признаков Title и FullDescription каждого объекта выборки через символ пробела, после чего перейдите к признаковому описанию объектов, вычислив вектор tf-idf аналогично п. 7."
      ]
    },
    {
      "cell_type": "code",
      "source": [
        "# вычисляем количество строк в датафрейме\n",
        "X_rows = len(X)\n",
        "Y_rows = len(Y)\n",
        "# вычисляем индекс строки, после которой нужно отделить часть датафрейма\n",
        "split_index_X = X_rows // 25 #10 дропается, 50 плохие результаты |||||||| \n",
        "split_index_Y = Y_rows // 25\n",
        "# отделяем первую половину строк в отдельный датафрейм\n",
        "X = X.loc[:split_index_X-1]\n",
        "Y = Y.loc[:split_index_Y-1]\n",
        "\n",
        "\n",
        "# проверяем размеры полученных датафреймов\n",
        "print(f\"Размер тренировочного датафрейма: {X.shape}\")\n",
        "print(f\"Размер тестового датафрейма: {Y.shape}\")\n"
      ],
      "metadata": {
        "colab": {
          "base_uri": "https://localhost:8080/"
        },
        "id": "Ui5DTAqT9IfG",
        "outputId": "2934661a-f4ab-47c3-c7b9-285aeb3c39d5"
      },
      "execution_count": 50,
      "outputs": [
        {
          "output_type": "stream",
          "name": "stdout",
          "text": [
            "Размер тренировочного датафрейма: (9790, 10)\n",
            "Размер тестового датафрейма: (9790,)\n"
          ]
        }
      ]
    },
    {
      "cell_type": "code",
      "execution_count": 60,
      "metadata": {
        "collapsed": true,
        "jupyter": {
          "outputs_hidden": true
        },
        "id": "H8dIXp4rqgh-"
      },
      "outputs": [],
      "source": [
        "X_train3, X_test3, y_train3, y_test3 = train_test_split(X, Y, test_size=0.30, random_state=42)\n",
        "\n",
        "# Заполнение пропущенных значений строкой \" \"\n",
        "X_train3['Title'].fillna(\" \", inplace=True)\n",
        "X_train3['FullDescription'].fillna(\" \", inplace=True)\n",
        "X_test3['Title'].fillna(\" \", inplace=True)\n",
        "X_test3['FullDescription'].fillna(\" \", inplace=True)\n",
        "\n",
        "#Объединим признаки\n",
        "X_train3['text'] = X_train3['Title'] + ' ' + X_train3['FullDescription']\n",
        "X_test3['text'] = X_test3['Title'] + ' ' + X_test3['FullDescription']\n",
        "\n",
        "#Отбросим ненужные уже столбцы\n",
        "X_train3 = X_train3.drop(['Title', 'FullDescription'], axis = 1)\n",
        "X_test3 = X_test3.drop(['Title', 'FullDescription'], axis = 1)\n",
        "\n",
        "from sklearn.feature_extraction.text import TfidfVectorizer\n",
        "\n",
        "# Создаем экземпляр TfidfVectorizer\n",
        "vectorizer = TfidfVectorizer()\n",
        "\n",
        "# Применяем векторизацию на контрольной и на обучающей выборке\n",
        "train_tfidf = vectorizer.fit_transform(X_train3['text'])\n",
        "test_tfidf = vectorizer.transform(X_test3['text'])\n",
        "\n",
        "X_train3 = X_train3.drop(['text'], axis=1)\n",
        "X_test3 = X_test3.drop(['text'], axis=1)"
      ]
    },
    {
      "cell_type": "code",
      "source": [
        "print(X_train3.columns)"
      ],
      "metadata": {
        "colab": {
          "base_uri": "https://localhost:8080/"
        },
        "id": "KNVc4Hcv72TX",
        "outputId": "8c819944-56d8-48e9-85c3-e4d46a8d92f4"
      },
      "execution_count": 52,
      "outputs": [
        {
          "output_type": "stream",
          "name": "stdout",
          "text": [
            "Index(['Id', 'LocationRaw', 'LocationNormalized', 'ContractType',\n",
            "       'ContractTime', 'Company', 'Category', 'SourceName'],\n",
            "      dtype='object')\n"
          ]
        }
      ]
    },
    {
      "cell_type": "markdown",
      "metadata": {
        "id": "kJn1RPVNqgh-"
      },
      "source": [
        "#### 14. Закодируйте категориальные признаки (все, кроме Title и FullDescription) при помощи [one-hot encoding](http://scikit-learn.org/stable/modules/generated/sklearn.preprocessing.OneHotEncoder.html), после чего обучите логистическую регрессию (при помощи scikit-learn или Vowpal Wabbit) на обучающей выборке. Вычислите значения ROC-AUC, [F-меры](http://scikit-learn.org/stable/modules/generated/sklearn.metrics.f1_score.html), а также постройте [матрицу ошибок](http://scikit-learn.org/stable/modules/generated/sklearn.metrics.confusion_matrix.html) для полученной модели на контрольной выборке. "
      ]
    },
    {
      "cell_type": "code",
      "execution_count": 53,
      "metadata": {
        "collapsed": true,
        "jupyter": {
          "outputs_hidden": true
        },
        "colab": {
          "base_uri": "https://localhost:8080/",
          "height": 206
        },
        "id": "G8erAdwnqgh_",
        "outputId": "563cbf16-fab6-47f9-9f02-05ab7cb00532"
      },
      "outputs": [
        {
          "output_type": "execute_result",
          "data": {
            "text/plain": [
              "        Id  LocationRaw  LocationNormalized  ContractType  ContractTime  \\\n",
              "4635  3229         1756                 714             2             2   \n",
              "3777  2636         1667                 694             2             1   \n",
              "7018  4916          979                 397             2             0   \n",
              "1152   793          842                 694             0             2   \n",
              "5137  3574         1032                 419             2             2   \n",
              "\n",
              "      Company  Category  SourceName  \n",
              "4635      695         5           4  \n",
              "3777       41        12          15  \n",
              "7018      963        19           3  \n",
              "1152      965        11          12  \n",
              "5137      436        22           4  "
            ],
            "text/html": [
              "\n",
              "  <div id=\"df-483cf56c-bea3-49c4-9103-85b13eb12432\">\n",
              "    <div class=\"colab-df-container\">\n",
              "      <div>\n",
              "<style scoped>\n",
              "    .dataframe tbody tr th:only-of-type {\n",
              "        vertical-align: middle;\n",
              "    }\n",
              "\n",
              "    .dataframe tbody tr th {\n",
              "        vertical-align: top;\n",
              "    }\n",
              "\n",
              "    .dataframe thead th {\n",
              "        text-align: right;\n",
              "    }\n",
              "</style>\n",
              "<table border=\"1\" class=\"dataframe\">\n",
              "  <thead>\n",
              "    <tr style=\"text-align: right;\">\n",
              "      <th></th>\n",
              "      <th>Id</th>\n",
              "      <th>LocationRaw</th>\n",
              "      <th>LocationNormalized</th>\n",
              "      <th>ContractType</th>\n",
              "      <th>ContractTime</th>\n",
              "      <th>Company</th>\n",
              "      <th>Category</th>\n",
              "      <th>SourceName</th>\n",
              "    </tr>\n",
              "  </thead>\n",
              "  <tbody>\n",
              "    <tr>\n",
              "      <th>4635</th>\n",
              "      <td>3229</td>\n",
              "      <td>1756</td>\n",
              "      <td>714</td>\n",
              "      <td>2</td>\n",
              "      <td>2</td>\n",
              "      <td>695</td>\n",
              "      <td>5</td>\n",
              "      <td>4</td>\n",
              "    </tr>\n",
              "    <tr>\n",
              "      <th>3777</th>\n",
              "      <td>2636</td>\n",
              "      <td>1667</td>\n",
              "      <td>694</td>\n",
              "      <td>2</td>\n",
              "      <td>1</td>\n",
              "      <td>41</td>\n",
              "      <td>12</td>\n",
              "      <td>15</td>\n",
              "    </tr>\n",
              "    <tr>\n",
              "      <th>7018</th>\n",
              "      <td>4916</td>\n",
              "      <td>979</td>\n",
              "      <td>397</td>\n",
              "      <td>2</td>\n",
              "      <td>0</td>\n",
              "      <td>963</td>\n",
              "      <td>19</td>\n",
              "      <td>3</td>\n",
              "    </tr>\n",
              "    <tr>\n",
              "      <th>1152</th>\n",
              "      <td>793</td>\n",
              "      <td>842</td>\n",
              "      <td>694</td>\n",
              "      <td>0</td>\n",
              "      <td>2</td>\n",
              "      <td>965</td>\n",
              "      <td>11</td>\n",
              "      <td>12</td>\n",
              "    </tr>\n",
              "    <tr>\n",
              "      <th>5137</th>\n",
              "      <td>3574</td>\n",
              "      <td>1032</td>\n",
              "      <td>419</td>\n",
              "      <td>2</td>\n",
              "      <td>2</td>\n",
              "      <td>436</td>\n",
              "      <td>22</td>\n",
              "      <td>4</td>\n",
              "    </tr>\n",
              "  </tbody>\n",
              "</table>\n",
              "</div>\n",
              "      <button class=\"colab-df-convert\" onclick=\"convertToInteractive('df-483cf56c-bea3-49c4-9103-85b13eb12432')\"\n",
              "              title=\"Convert this dataframe to an interactive table.\"\n",
              "              style=\"display:none;\">\n",
              "        \n",
              "  <svg xmlns=\"http://www.w3.org/2000/svg\" height=\"24px\"viewBox=\"0 0 24 24\"\n",
              "       width=\"24px\">\n",
              "    <path d=\"M0 0h24v24H0V0z\" fill=\"none\"/>\n",
              "    <path d=\"M18.56 5.44l.94 2.06.94-2.06 2.06-.94-2.06-.94-.94-2.06-.94 2.06-2.06.94zm-11 1L8.5 8.5l.94-2.06 2.06-.94-2.06-.94L8.5 2.5l-.94 2.06-2.06.94zm10 10l.94 2.06.94-2.06 2.06-.94-2.06-.94-.94-2.06-.94 2.06-2.06.94z\"/><path d=\"M17.41 7.96l-1.37-1.37c-.4-.4-.92-.59-1.43-.59-.52 0-1.04.2-1.43.59L10.3 9.45l-7.72 7.72c-.78.78-.78 2.05 0 2.83L4 21.41c.39.39.9.59 1.41.59.51 0 1.02-.2 1.41-.59l7.78-7.78 2.81-2.81c.8-.78.8-2.07 0-2.86zM5.41 20L4 18.59l7.72-7.72 1.47 1.35L5.41 20z\"/>\n",
              "  </svg>\n",
              "      </button>\n",
              "      \n",
              "  <style>\n",
              "    .colab-df-container {\n",
              "      display:flex;\n",
              "      flex-wrap:wrap;\n",
              "      gap: 12px;\n",
              "    }\n",
              "\n",
              "    .colab-df-convert {\n",
              "      background-color: #E8F0FE;\n",
              "      border: none;\n",
              "      border-radius: 50%;\n",
              "      cursor: pointer;\n",
              "      display: none;\n",
              "      fill: #1967D2;\n",
              "      height: 32px;\n",
              "      padding: 0 0 0 0;\n",
              "      width: 32px;\n",
              "    }\n",
              "\n",
              "    .colab-df-convert:hover {\n",
              "      background-color: #E2EBFA;\n",
              "      box-shadow: 0px 1px 2px rgba(60, 64, 67, 0.3), 0px 1px 3px 1px rgba(60, 64, 67, 0.15);\n",
              "      fill: #174EA6;\n",
              "    }\n",
              "\n",
              "    [theme=dark] .colab-df-convert {\n",
              "      background-color: #3B4455;\n",
              "      fill: #D2E3FC;\n",
              "    }\n",
              "\n",
              "    [theme=dark] .colab-df-convert:hover {\n",
              "      background-color: #434B5C;\n",
              "      box-shadow: 0px 1px 3px 1px rgba(0, 0, 0, 0.15);\n",
              "      filter: drop-shadow(0px 1px 2px rgba(0, 0, 0, 0.3));\n",
              "      fill: #FFFFFF;\n",
              "    }\n",
              "  </style>\n",
              "\n",
              "      <script>\n",
              "        const buttonEl =\n",
              "          document.querySelector('#df-483cf56c-bea3-49c4-9103-85b13eb12432 button.colab-df-convert');\n",
              "        buttonEl.style.display =\n",
              "          google.colab.kernel.accessAllowed ? 'block' : 'none';\n",
              "\n",
              "        async function convertToInteractive(key) {\n",
              "          const element = document.querySelector('#df-483cf56c-bea3-49c4-9103-85b13eb12432');\n",
              "          const dataTable =\n",
              "            await google.colab.kernel.invokeFunction('convertToInteractive',\n",
              "                                                     [key], {});\n",
              "          if (!dataTable) return;\n",
              "\n",
              "          const docLinkHtml = 'Like what you see? Visit the ' +\n",
              "            '<a target=\"_blank\" href=https://colab.research.google.com/notebooks/data_table.ipynb>data table notebook</a>'\n",
              "            + ' to learn more about interactive tables.';\n",
              "          element.innerHTML = '';\n",
              "          dataTable['output_type'] = 'display_data';\n",
              "          await google.colab.output.renderOutput(dataTable, element);\n",
              "          const docLink = document.createElement('div');\n",
              "          docLink.innerHTML = docLinkHtml;\n",
              "          element.appendChild(docLink);\n",
              "        }\n",
              "      </script>\n",
              "    </div>\n",
              "  </div>\n",
              "  "
            ]
          },
          "metadata": {},
          "execution_count": 53
        }
      ],
      "source": [
        "# выбрать только те столбцы, которые нужно закодировать\n",
        "cols_to_encode = X_train3.columns.difference(['text'])\n",
        "\n",
        "from sklearn.preprocessing import LabelEncoder as le\n",
        "\n",
        "enc = le()\n",
        "for col in cols_to_encode:\n",
        "    X_train3[col] = enc.fit_transform(X_train3[col])\n",
        "\n",
        "#Аналогично для test\n",
        "for col in cols_to_encode:\n",
        "    X_test3[col] = enc.fit_transform(X_test3[col])\n",
        "\n",
        "\n",
        "X_train3.head()"
      ]
    },
    {
      "cell_type": "code",
      "source": [
        "del data"
      ],
      "metadata": {
        "id": "5Y6zUZsNcwiJ"
      },
      "execution_count": 54,
      "outputs": []
    },
    {
      "cell_type": "code",
      "source": [
        "import gc\n",
        "gc.collect()"
      ],
      "metadata": {
        "colab": {
          "base_uri": "https://localhost:8080/"
        },
        "id": "xIfFppPfc4Yz",
        "outputId": "0582ec6d-7bbd-439a-9b6c-173468a1307f"
      },
      "execution_count": 55,
      "outputs": [
        {
          "output_type": "execute_result",
          "data": {
            "text/plain": [
              "6244"
            ]
          },
          "metadata": {},
          "execution_count": 55
        }
      ]
    },
    {
      "cell_type": "code",
      "source": [
        "#print(X_train3.shape)\n",
        "train_tfidf = pd.DataFrame(train_tfidf.toarray())\n",
        "#print(train_tfidf.shape)\n",
        "# Пришлось дропнуть индексы, иначе размер растет\n",
        "X_train3 = pd.concat([X_train3.reset_index(drop=True), train_tfidf.reset_index(drop=True)], axis = 1) \n",
        "#print(X_train3.shape)\n",
        "gc.collect()\n",
        "test_tfidf = pd.DataFrame(test_tfidf.toarray())\n",
        "X_test3 = pd.concat([X_test3.reset_index(drop=True), test_tfidf.reset_index(drop=True)], axis = 1)"
      ],
      "metadata": {
        "id": "qrMzBxy7N_As"
      },
      "execution_count": 56,
      "outputs": []
    },
    {
      "cell_type": "code",
      "source": [
        "X_train3.head()"
      ],
      "metadata": {
        "colab": {
          "base_uri": "https://localhost:8080/",
          "height": 300
        },
        "id": "6MmbmUkoPI3Z",
        "outputId": "8905421e-a906-477e-8765-b38bf023eb3e"
      },
      "execution_count": 57,
      "outputs": [
        {
          "output_type": "execute_result",
          "data": {
            "text/plain": [
              "     Id  LocationRaw  LocationNormalized  ContractType  ContractTime  Company  \\\n",
              "0  3229         1756                 714             2             2      695   \n",
              "1  2636         1667                 694             2             1       41   \n",
              "2  4916          979                 397             2             0      963   \n",
              "3   793          842                 694             0             2      965   \n",
              "4  3574         1032                 419             2             2      436   \n",
              "\n",
              "   Category  SourceName    0    1  ...  23597  23598  23599  23600  23601  \\\n",
              "0         5           4  0.0  0.0  ...    0.0    0.0    0.0    0.0    0.0   \n",
              "1        12          15  0.0  0.0  ...    0.0    0.0    0.0    0.0    0.0   \n",
              "2        19           3  0.0  0.0  ...    0.0    0.0    0.0    0.0    0.0   \n",
              "3        11          12  0.0  0.0  ...    0.0    0.0    0.0    0.0    0.0   \n",
              "4        22           4  0.0  0.0  ...    0.0    0.0    0.0    0.0    0.0   \n",
              "\n",
              "   23602  23603  23604  23605  23606  \n",
              "0    0.0    0.0    0.0    0.0    0.0  \n",
              "1    0.0    0.0    0.0    0.0    0.0  \n",
              "2    0.0    0.0    0.0    0.0    0.0  \n",
              "3    0.0    0.0    0.0    0.0    0.0  \n",
              "4    0.0    0.0    0.0    0.0    0.0  \n",
              "\n",
              "[5 rows x 23615 columns]"
            ],
            "text/html": [
              "\n",
              "  <div id=\"df-44f55394-924c-4ce7-ae27-cf9b1105efc5\">\n",
              "    <div class=\"colab-df-container\">\n",
              "      <div>\n",
              "<style scoped>\n",
              "    .dataframe tbody tr th:only-of-type {\n",
              "        vertical-align: middle;\n",
              "    }\n",
              "\n",
              "    .dataframe tbody tr th {\n",
              "        vertical-align: top;\n",
              "    }\n",
              "\n",
              "    .dataframe thead th {\n",
              "        text-align: right;\n",
              "    }\n",
              "</style>\n",
              "<table border=\"1\" class=\"dataframe\">\n",
              "  <thead>\n",
              "    <tr style=\"text-align: right;\">\n",
              "      <th></th>\n",
              "      <th>Id</th>\n",
              "      <th>LocationRaw</th>\n",
              "      <th>LocationNormalized</th>\n",
              "      <th>ContractType</th>\n",
              "      <th>ContractTime</th>\n",
              "      <th>Company</th>\n",
              "      <th>Category</th>\n",
              "      <th>SourceName</th>\n",
              "      <th>0</th>\n",
              "      <th>1</th>\n",
              "      <th>...</th>\n",
              "      <th>23597</th>\n",
              "      <th>23598</th>\n",
              "      <th>23599</th>\n",
              "      <th>23600</th>\n",
              "      <th>23601</th>\n",
              "      <th>23602</th>\n",
              "      <th>23603</th>\n",
              "      <th>23604</th>\n",
              "      <th>23605</th>\n",
              "      <th>23606</th>\n",
              "    </tr>\n",
              "  </thead>\n",
              "  <tbody>\n",
              "    <tr>\n",
              "      <th>0</th>\n",
              "      <td>3229</td>\n",
              "      <td>1756</td>\n",
              "      <td>714</td>\n",
              "      <td>2</td>\n",
              "      <td>2</td>\n",
              "      <td>695</td>\n",
              "      <td>5</td>\n",
              "      <td>4</td>\n",
              "      <td>0.0</td>\n",
              "      <td>0.0</td>\n",
              "      <td>...</td>\n",
              "      <td>0.0</td>\n",
              "      <td>0.0</td>\n",
              "      <td>0.0</td>\n",
              "      <td>0.0</td>\n",
              "      <td>0.0</td>\n",
              "      <td>0.0</td>\n",
              "      <td>0.0</td>\n",
              "      <td>0.0</td>\n",
              "      <td>0.0</td>\n",
              "      <td>0.0</td>\n",
              "    </tr>\n",
              "    <tr>\n",
              "      <th>1</th>\n",
              "      <td>2636</td>\n",
              "      <td>1667</td>\n",
              "      <td>694</td>\n",
              "      <td>2</td>\n",
              "      <td>1</td>\n",
              "      <td>41</td>\n",
              "      <td>12</td>\n",
              "      <td>15</td>\n",
              "      <td>0.0</td>\n",
              "      <td>0.0</td>\n",
              "      <td>...</td>\n",
              "      <td>0.0</td>\n",
              "      <td>0.0</td>\n",
              "      <td>0.0</td>\n",
              "      <td>0.0</td>\n",
              "      <td>0.0</td>\n",
              "      <td>0.0</td>\n",
              "      <td>0.0</td>\n",
              "      <td>0.0</td>\n",
              "      <td>0.0</td>\n",
              "      <td>0.0</td>\n",
              "    </tr>\n",
              "    <tr>\n",
              "      <th>2</th>\n",
              "      <td>4916</td>\n",
              "      <td>979</td>\n",
              "      <td>397</td>\n",
              "      <td>2</td>\n",
              "      <td>0</td>\n",
              "      <td>963</td>\n",
              "      <td>19</td>\n",
              "      <td>3</td>\n",
              "      <td>0.0</td>\n",
              "      <td>0.0</td>\n",
              "      <td>...</td>\n",
              "      <td>0.0</td>\n",
              "      <td>0.0</td>\n",
              "      <td>0.0</td>\n",
              "      <td>0.0</td>\n",
              "      <td>0.0</td>\n",
              "      <td>0.0</td>\n",
              "      <td>0.0</td>\n",
              "      <td>0.0</td>\n",
              "      <td>0.0</td>\n",
              "      <td>0.0</td>\n",
              "    </tr>\n",
              "    <tr>\n",
              "      <th>3</th>\n",
              "      <td>793</td>\n",
              "      <td>842</td>\n",
              "      <td>694</td>\n",
              "      <td>0</td>\n",
              "      <td>2</td>\n",
              "      <td>965</td>\n",
              "      <td>11</td>\n",
              "      <td>12</td>\n",
              "      <td>0.0</td>\n",
              "      <td>0.0</td>\n",
              "      <td>...</td>\n",
              "      <td>0.0</td>\n",
              "      <td>0.0</td>\n",
              "      <td>0.0</td>\n",
              "      <td>0.0</td>\n",
              "      <td>0.0</td>\n",
              "      <td>0.0</td>\n",
              "      <td>0.0</td>\n",
              "      <td>0.0</td>\n",
              "      <td>0.0</td>\n",
              "      <td>0.0</td>\n",
              "    </tr>\n",
              "    <tr>\n",
              "      <th>4</th>\n",
              "      <td>3574</td>\n",
              "      <td>1032</td>\n",
              "      <td>419</td>\n",
              "      <td>2</td>\n",
              "      <td>2</td>\n",
              "      <td>436</td>\n",
              "      <td>22</td>\n",
              "      <td>4</td>\n",
              "      <td>0.0</td>\n",
              "      <td>0.0</td>\n",
              "      <td>...</td>\n",
              "      <td>0.0</td>\n",
              "      <td>0.0</td>\n",
              "      <td>0.0</td>\n",
              "      <td>0.0</td>\n",
              "      <td>0.0</td>\n",
              "      <td>0.0</td>\n",
              "      <td>0.0</td>\n",
              "      <td>0.0</td>\n",
              "      <td>0.0</td>\n",
              "      <td>0.0</td>\n",
              "    </tr>\n",
              "  </tbody>\n",
              "</table>\n",
              "<p>5 rows × 23615 columns</p>\n",
              "</div>\n",
              "      <button class=\"colab-df-convert\" onclick=\"convertToInteractive('df-44f55394-924c-4ce7-ae27-cf9b1105efc5')\"\n",
              "              title=\"Convert this dataframe to an interactive table.\"\n",
              "              style=\"display:none;\">\n",
              "        \n",
              "  <svg xmlns=\"http://www.w3.org/2000/svg\" height=\"24px\"viewBox=\"0 0 24 24\"\n",
              "       width=\"24px\">\n",
              "    <path d=\"M0 0h24v24H0V0z\" fill=\"none\"/>\n",
              "    <path d=\"M18.56 5.44l.94 2.06.94-2.06 2.06-.94-2.06-.94-.94-2.06-.94 2.06-2.06.94zm-11 1L8.5 8.5l.94-2.06 2.06-.94-2.06-.94L8.5 2.5l-.94 2.06-2.06.94zm10 10l.94 2.06.94-2.06 2.06-.94-2.06-.94-.94-2.06-.94 2.06-2.06.94z\"/><path d=\"M17.41 7.96l-1.37-1.37c-.4-.4-.92-.59-1.43-.59-.52 0-1.04.2-1.43.59L10.3 9.45l-7.72 7.72c-.78.78-.78 2.05 0 2.83L4 21.41c.39.39.9.59 1.41.59.51 0 1.02-.2 1.41-.59l7.78-7.78 2.81-2.81c.8-.78.8-2.07 0-2.86zM5.41 20L4 18.59l7.72-7.72 1.47 1.35L5.41 20z\"/>\n",
              "  </svg>\n",
              "      </button>\n",
              "      \n",
              "  <style>\n",
              "    .colab-df-container {\n",
              "      display:flex;\n",
              "      flex-wrap:wrap;\n",
              "      gap: 12px;\n",
              "    }\n",
              "\n",
              "    .colab-df-convert {\n",
              "      background-color: #E8F0FE;\n",
              "      border: none;\n",
              "      border-radius: 50%;\n",
              "      cursor: pointer;\n",
              "      display: none;\n",
              "      fill: #1967D2;\n",
              "      height: 32px;\n",
              "      padding: 0 0 0 0;\n",
              "      width: 32px;\n",
              "    }\n",
              "\n",
              "    .colab-df-convert:hover {\n",
              "      background-color: #E2EBFA;\n",
              "      box-shadow: 0px 1px 2px rgba(60, 64, 67, 0.3), 0px 1px 3px 1px rgba(60, 64, 67, 0.15);\n",
              "      fill: #174EA6;\n",
              "    }\n",
              "\n",
              "    [theme=dark] .colab-df-convert {\n",
              "      background-color: #3B4455;\n",
              "      fill: #D2E3FC;\n",
              "    }\n",
              "\n",
              "    [theme=dark] .colab-df-convert:hover {\n",
              "      background-color: #434B5C;\n",
              "      box-shadow: 0px 1px 3px 1px rgba(0, 0, 0, 0.15);\n",
              "      filter: drop-shadow(0px 1px 2px rgba(0, 0, 0, 0.3));\n",
              "      fill: #FFFFFF;\n",
              "    }\n",
              "  </style>\n",
              "\n",
              "      <script>\n",
              "        const buttonEl =\n",
              "          document.querySelector('#df-44f55394-924c-4ce7-ae27-cf9b1105efc5 button.colab-df-convert');\n",
              "        buttonEl.style.display =\n",
              "          google.colab.kernel.accessAllowed ? 'block' : 'none';\n",
              "\n",
              "        async function convertToInteractive(key) {\n",
              "          const element = document.querySelector('#df-44f55394-924c-4ce7-ae27-cf9b1105efc5');\n",
              "          const dataTable =\n",
              "            await google.colab.kernel.invokeFunction('convertToInteractive',\n",
              "                                                     [key], {});\n",
              "          if (!dataTable) return;\n",
              "\n",
              "          const docLinkHtml = 'Like what you see? Visit the ' +\n",
              "            '<a target=\"_blank\" href=https://colab.research.google.com/notebooks/data_table.ipynb>data table notebook</a>'\n",
              "            + ' to learn more about interactive tables.';\n",
              "          element.innerHTML = '';\n",
              "          dataTable['output_type'] = 'display_data';\n",
              "          await google.colab.output.renderOutput(dataTable, element);\n",
              "          const docLink = document.createElement('div');\n",
              "          docLink.innerHTML = docLinkHtml;\n",
              "          element.appendChild(docLink);\n",
              "        }\n",
              "      </script>\n",
              "    </div>\n",
              "  </div>\n",
              "  "
            ]
          },
          "metadata": {},
          "execution_count": 57
        }
      ]
    },
    {
      "cell_type": "code",
      "source": [
        "from sklearn.linear_model import LogisticRegression\n",
        "from sklearn.impute import SimpleImputer\n",
        "from sklearn.metrics import roc_auc_score, f1_score, confusion_matrix\n",
        "\n",
        "X_train3.columns = X_train3.columns.astype(str)\n",
        "# Создание экземпляра преобразователя\n",
        "imputer = SimpleImputer(strategy='mean')\n",
        "# Применение преобразователя к данным\n",
        "X_train3_learn_imp = imputer.fit_transform(X_train3)\n",
        "\n",
        "#Обучение\n",
        "lr3 = LogisticRegression()\n",
        "lr3.fit(X_train3_learn_imp, y_train3)\n",
        "\n",
        "\n",
        "\n",
        "''''''\n",
        "X_test3.columns = X_test3.columns.astype(str)\n",
        "# Применение преобразователя к данным\n",
        "X_test3_learn_imp = imputer.fit_transform(X_test3)\n",
        "\n",
        "\n",
        "#Предикты SKL\n",
        "y_pred_sklearn3 = lr3.predict(X_test3_learn_imp)\n",
        "\n",
        "#Метрики SKL\n",
        "roc_auc_sklearn3 = roc_auc_score(y_test3, y_pred_sklearn3)\n",
        "f1_sklearn3 = f1_score(y_test3, y_pred_sklearn3)\n",
        "cm_sklearn3 = confusion_matrix(y_test3, y_pred_sklearn3)\n",
        "\n",
        "print('Модель из sklearn:')\n",
        "print('ROC-AUC:', roc_auc_sklearn3)\n",
        "print('F-мера:', f1_sklearn3)\n",
        "print('Матрица ошибок:\\n', cm_sklearn3)"
      ],
      "metadata": {
        "colab": {
          "base_uri": "https://localhost:8080/"
        },
        "id": "EFnF7yyQOiLQ",
        "outputId": "a3761525-a240-4ae7-ac5a-76b675460c00"
      },
      "execution_count": 58,
      "outputs": [
        {
          "output_type": "stream",
          "name": "stdout",
          "text": [
            "Модель из sklearn:\n",
            "ROC-AUC: 0.5919414268470873\n",
            "F-мера: 0.39717978848413626\n",
            "Матрица ошибок:\n",
            " [[1573  176]\n",
            " [ 850  338]]\n"
          ]
        }
      ]
    },
    {
      "cell_type": "code",
      "source": [
        "del X_train3, X_test3"
      ],
      "metadata": {
        "id": "w9mnZKBcpbqy"
      },
      "execution_count": 59,
      "outputs": []
    },
    {
      "cell_type": "markdown",
      "source": [
        "#### One-Hot Encoder не получился"
      ],
      "metadata": {
        "id": "Q0EPNfMEOLP3"
      }
    },
    {
      "cell_type": "code",
      "source": [
        "from sklearn.preprocessing import OneHotEncoder as ohe\n",
        "\n",
        "# Отбираем столбцы для кодирования\n",
        "cols_to_encode = X_train3.columns.difference(['text'])\n",
        "\n",
        "# Создаем объект OneHotEncoder\n",
        "enc = ohe(handle_unknown='ignore', sparse=False)\n",
        "\n",
        "# Обучаем OneHotEncoder и кодируем столбцы\n",
        "encoded_cols = enc.fit_transform(X_train3[cols_to_encode])\n",
        "indicies = encoded_cols.argmax(axis=1)\n",
        "\n",
        "# Создаем dataframe из закодированных столбцов\n",
        "encoded_df = pd.DataFrame(encoded_cols, columns=X_train3[cols_to_encode].columns)\n",
        "\n",
        "# Объединяем закодированные столбцы с исходным dataframe\n",
        "df_encoded = pd.concat([X_train3.drop(cols_to_encode, axis=1), encoded_df], axis=1)"
      ],
      "metadata": {
        "colab": {
          "base_uri": "https://localhost:8080/",
          "height": 380
        },
        "id": "EHqjyNvJHVms",
        "outputId": "3e932f49-2692-4e91-97a9-bb7f965a5d02"
      },
      "execution_count": 15,
      "outputs": [
        {
          "output_type": "error",
          "ename": "ValueError",
          "evalue": "ignored",
          "traceback": [
            "\u001b[0;31m---------------------------------------------------------------------------\u001b[0m",
            "\u001b[0;31mValueError\u001b[0m                                Traceback (most recent call last)",
            "\u001b[0;32m<ipython-input-15-240ccc49caed>\u001b[0m in \u001b[0;36m<module>\u001b[0;34m\u001b[0m\n\u001b[1;32m     12\u001b[0m \u001b[0;34m\u001b[0m\u001b[0m\n\u001b[1;32m     13\u001b[0m \u001b[0;31m# Создаем dataframe из закодированных столбцов\u001b[0m\u001b[0;34m\u001b[0m\u001b[0;34m\u001b[0m\u001b[0m\n\u001b[0;32m---> 14\u001b[0;31m \u001b[0mencoded_df\u001b[0m \u001b[0;34m=\u001b[0m \u001b[0mpd\u001b[0m\u001b[0;34m.\u001b[0m\u001b[0mDataFrame\u001b[0m\u001b[0;34m(\u001b[0m\u001b[0mencoded_cols\u001b[0m\u001b[0;34m,\u001b[0m \u001b[0mcolumns\u001b[0m\u001b[0;34m=\u001b[0m\u001b[0mX_train3\u001b[0m\u001b[0;34m[\u001b[0m\u001b[0mcols_to_encode\u001b[0m\u001b[0;34m]\u001b[0m\u001b[0;34m.\u001b[0m\u001b[0mcolumns\u001b[0m\u001b[0;34m)\u001b[0m\u001b[0;34m\u001b[0m\u001b[0;34m\u001b[0m\u001b[0m\n\u001b[0m\u001b[1;32m     15\u001b[0m \u001b[0;34m\u001b[0m\u001b[0m\n\u001b[1;32m     16\u001b[0m \u001b[0;31m# Объединяем закодированные столбцы с исходным dataframe\u001b[0m\u001b[0;34m\u001b[0m\u001b[0;34m\u001b[0m\u001b[0m\n",
            "\u001b[0;32m/usr/local/lib/python3.9/dist-packages/pandas/core/frame.py\u001b[0m in \u001b[0;36m__init__\u001b[0;34m(self, data, index, columns, dtype, copy)\u001b[0m\n\u001b[1;32m    670\u001b[0m                 )\n\u001b[1;32m    671\u001b[0m             \u001b[0;32melse\u001b[0m\u001b[0;34m:\u001b[0m\u001b[0;34m\u001b[0m\u001b[0;34m\u001b[0m\u001b[0m\n\u001b[0;32m--> 672\u001b[0;31m                 mgr = ndarray_to_mgr(\n\u001b[0m\u001b[1;32m    673\u001b[0m                     \u001b[0mdata\u001b[0m\u001b[0;34m,\u001b[0m\u001b[0;34m\u001b[0m\u001b[0;34m\u001b[0m\u001b[0m\n\u001b[1;32m    674\u001b[0m                     \u001b[0mindex\u001b[0m\u001b[0;34m,\u001b[0m\u001b[0;34m\u001b[0m\u001b[0;34m\u001b[0m\u001b[0m\n",
            "\u001b[0;32m/usr/local/lib/python3.9/dist-packages/pandas/core/internals/construction.py\u001b[0m in \u001b[0;36mndarray_to_mgr\u001b[0;34m(values, index, columns, dtype, copy, typ)\u001b[0m\n\u001b[1;32m    322\u001b[0m     )\n\u001b[1;32m    323\u001b[0m \u001b[0;34m\u001b[0m\u001b[0m\n\u001b[0;32m--> 324\u001b[0;31m     \u001b[0m_check_values_indices_shape_match\u001b[0m\u001b[0;34m(\u001b[0m\u001b[0mvalues\u001b[0m\u001b[0;34m,\u001b[0m \u001b[0mindex\u001b[0m\u001b[0;34m,\u001b[0m \u001b[0mcolumns\u001b[0m\u001b[0;34m)\u001b[0m\u001b[0;34m\u001b[0m\u001b[0;34m\u001b[0m\u001b[0m\n\u001b[0m\u001b[1;32m    325\u001b[0m \u001b[0;34m\u001b[0m\u001b[0m\n\u001b[1;32m    326\u001b[0m     \u001b[0;32mif\u001b[0m \u001b[0mtyp\u001b[0m \u001b[0;34m==\u001b[0m \u001b[0;34m\"array\"\u001b[0m\u001b[0;34m:\u001b[0m\u001b[0;34m\u001b[0m\u001b[0;34m\u001b[0m\u001b[0m\n",
            "\u001b[0;32m/usr/local/lib/python3.9/dist-packages/pandas/core/internals/construction.py\u001b[0m in \u001b[0;36m_check_values_indices_shape_match\u001b[0;34m(values, index, columns)\u001b[0m\n\u001b[1;32m    391\u001b[0m         \u001b[0mpassed\u001b[0m \u001b[0;34m=\u001b[0m \u001b[0mvalues\u001b[0m\u001b[0;34m.\u001b[0m\u001b[0mshape\u001b[0m\u001b[0;34m\u001b[0m\u001b[0;34m\u001b[0m\u001b[0m\n\u001b[1;32m    392\u001b[0m         \u001b[0mimplied\u001b[0m \u001b[0;34m=\u001b[0m \u001b[0;34m(\u001b[0m\u001b[0mlen\u001b[0m\u001b[0;34m(\u001b[0m\u001b[0mindex\u001b[0m\u001b[0;34m)\u001b[0m\u001b[0;34m,\u001b[0m \u001b[0mlen\u001b[0m\u001b[0;34m(\u001b[0m\u001b[0mcolumns\u001b[0m\u001b[0;34m)\u001b[0m\u001b[0;34m)\u001b[0m\u001b[0;34m\u001b[0m\u001b[0;34m\u001b[0m\u001b[0m\n\u001b[0;32m--> 393\u001b[0;31m         \u001b[0;32mraise\u001b[0m \u001b[0mValueError\u001b[0m\u001b[0;34m(\u001b[0m\u001b[0;34mf\"Shape of passed values is {passed}, indices imply {implied}\"\u001b[0m\u001b[0;34m)\u001b[0m\u001b[0;34m\u001b[0m\u001b[0;34m\u001b[0m\u001b[0m\n\u001b[0m\u001b[1;32m    394\u001b[0m \u001b[0;34m\u001b[0m\u001b[0m\n\u001b[1;32m    395\u001b[0m \u001b[0;34m\u001b[0m\u001b[0m\n",
            "\u001b[0;31mValueError\u001b[0m: Shape of passed values is (17133, 26495), indices imply (17133, 8)"
          ]
        }
      ]
    },
    {
      "cell_type": "code",
      "source": [
        "df_encoded.head(1)"
      ],
      "metadata": {
        "colab": {
          "base_uri": "https://localhost:8080/",
          "height": 278
        },
        "id": "WfbNP4d3_q1d",
        "outputId": "4c55517a-5fa6-45b4-f807-503192d36994"
      },
      "execution_count": 11,
      "outputs": [
        {
          "output_type": "execute_result",
          "data": {
            "text/plain": [
              "                                                text  \\\n",
              "0  Engineering Systems Analyst Engineering System...   \n",
              "\n",
              "   Category_Accounting & Finance Jobs  Category_Admin Jobs  \\\n",
              "0                                 0.0                  0.0   \n",
              "\n",
              "   Category_Charity & Voluntary Jobs  Category_Consultancy Jobs  \\\n",
              "0                                0.0                        0.0   \n",
              "\n",
              "   Category_Creative & Design Jobs  Category_Customer Services Jobs  \\\n",
              "0                              0.0                              0.0   \n",
              "\n",
              "   Category_Domestic help & Cleaning Jobs  Category_Energy, Oil & Gas Jobs  \\\n",
              "0                                     0.0                              0.0   \n",
              "\n",
              "   Category_Engineering Jobs  ...  SourceName_theitjobboard.co.uk  \\\n",
              "0                        0.0  ...                             0.0   \n",
              "\n",
              "   SourceName_theladders.co.uk  SourceName_tntjobs.co.uk  \\\n",
              "0                          0.0                       0.0   \n",
              "\n",
              "   SourceName_totaljobs.com  SourceName_traveljobsearch.com  \\\n",
              "0                       0.0                             0.0   \n",
              "\n",
              "   SourceName_uksport.gov.uk  SourceName_ukstaffsearch.com  \\\n",
              "0                        0.0                           0.0   \n",
              "\n",
              "   SourceName_wileyjobnetwork.com  SourceName_workthing.com  \\\n",
              "0                             0.0                       0.0   \n",
              "\n",
              "   SourceName_zartis.com  \n",
              "0                    0.0  \n",
              "\n",
              "[1 rows x 26496 columns]"
            ],
            "text/html": [
              "\n",
              "  <div id=\"df-3077638e-443e-49ac-8e69-98df3cd2384a\">\n",
              "    <div class=\"colab-df-container\">\n",
              "      <div>\n",
              "<style scoped>\n",
              "    .dataframe tbody tr th:only-of-type {\n",
              "        vertical-align: middle;\n",
              "    }\n",
              "\n",
              "    .dataframe tbody tr th {\n",
              "        vertical-align: top;\n",
              "    }\n",
              "\n",
              "    .dataframe thead th {\n",
              "        text-align: right;\n",
              "    }\n",
              "</style>\n",
              "<table border=\"1\" class=\"dataframe\">\n",
              "  <thead>\n",
              "    <tr style=\"text-align: right;\">\n",
              "      <th></th>\n",
              "      <th>text</th>\n",
              "      <th>Category_Accounting &amp; Finance Jobs</th>\n",
              "      <th>Category_Admin Jobs</th>\n",
              "      <th>Category_Charity &amp; Voluntary Jobs</th>\n",
              "      <th>Category_Consultancy Jobs</th>\n",
              "      <th>Category_Creative &amp; Design Jobs</th>\n",
              "      <th>Category_Customer Services Jobs</th>\n",
              "      <th>Category_Domestic help &amp; Cleaning Jobs</th>\n",
              "      <th>Category_Energy, Oil &amp; Gas Jobs</th>\n",
              "      <th>Category_Engineering Jobs</th>\n",
              "      <th>...</th>\n",
              "      <th>SourceName_theitjobboard.co.uk</th>\n",
              "      <th>SourceName_theladders.co.uk</th>\n",
              "      <th>SourceName_tntjobs.co.uk</th>\n",
              "      <th>SourceName_totaljobs.com</th>\n",
              "      <th>SourceName_traveljobsearch.com</th>\n",
              "      <th>SourceName_uksport.gov.uk</th>\n",
              "      <th>SourceName_ukstaffsearch.com</th>\n",
              "      <th>SourceName_wileyjobnetwork.com</th>\n",
              "      <th>SourceName_workthing.com</th>\n",
              "      <th>SourceName_zartis.com</th>\n",
              "    </tr>\n",
              "  </thead>\n",
              "  <tbody>\n",
              "    <tr>\n",
              "      <th>0</th>\n",
              "      <td>Engineering Systems Analyst Engineering System...</td>\n",
              "      <td>0.0</td>\n",
              "      <td>0.0</td>\n",
              "      <td>0.0</td>\n",
              "      <td>0.0</td>\n",
              "      <td>0.0</td>\n",
              "      <td>0.0</td>\n",
              "      <td>0.0</td>\n",
              "      <td>0.0</td>\n",
              "      <td>0.0</td>\n",
              "      <td>...</td>\n",
              "      <td>0.0</td>\n",
              "      <td>0.0</td>\n",
              "      <td>0.0</td>\n",
              "      <td>0.0</td>\n",
              "      <td>0.0</td>\n",
              "      <td>0.0</td>\n",
              "      <td>0.0</td>\n",
              "      <td>0.0</td>\n",
              "      <td>0.0</td>\n",
              "      <td>0.0</td>\n",
              "    </tr>\n",
              "  </tbody>\n",
              "</table>\n",
              "<p>1 rows × 26496 columns</p>\n",
              "</div>\n",
              "      <button class=\"colab-df-convert\" onclick=\"convertToInteractive('df-3077638e-443e-49ac-8e69-98df3cd2384a')\"\n",
              "              title=\"Convert this dataframe to an interactive table.\"\n",
              "              style=\"display:none;\">\n",
              "        \n",
              "  <svg xmlns=\"http://www.w3.org/2000/svg\" height=\"24px\"viewBox=\"0 0 24 24\"\n",
              "       width=\"24px\">\n",
              "    <path d=\"M0 0h24v24H0V0z\" fill=\"none\"/>\n",
              "    <path d=\"M18.56 5.44l.94 2.06.94-2.06 2.06-.94-2.06-.94-.94-2.06-.94 2.06-2.06.94zm-11 1L8.5 8.5l.94-2.06 2.06-.94-2.06-.94L8.5 2.5l-.94 2.06-2.06.94zm10 10l.94 2.06.94-2.06 2.06-.94-2.06-.94-.94-2.06-.94 2.06-2.06.94z\"/><path d=\"M17.41 7.96l-1.37-1.37c-.4-.4-.92-.59-1.43-.59-.52 0-1.04.2-1.43.59L10.3 9.45l-7.72 7.72c-.78.78-.78 2.05 0 2.83L4 21.41c.39.39.9.59 1.41.59.51 0 1.02-.2 1.41-.59l7.78-7.78 2.81-2.81c.8-.78.8-2.07 0-2.86zM5.41 20L4 18.59l7.72-7.72 1.47 1.35L5.41 20z\"/>\n",
              "  </svg>\n",
              "      </button>\n",
              "      \n",
              "  <style>\n",
              "    .colab-df-container {\n",
              "      display:flex;\n",
              "      flex-wrap:wrap;\n",
              "      gap: 12px;\n",
              "    }\n",
              "\n",
              "    .colab-df-convert {\n",
              "      background-color: #E8F0FE;\n",
              "      border: none;\n",
              "      border-radius: 50%;\n",
              "      cursor: pointer;\n",
              "      display: none;\n",
              "      fill: #1967D2;\n",
              "      height: 32px;\n",
              "      padding: 0 0 0 0;\n",
              "      width: 32px;\n",
              "    }\n",
              "\n",
              "    .colab-df-convert:hover {\n",
              "      background-color: #E2EBFA;\n",
              "      box-shadow: 0px 1px 2px rgba(60, 64, 67, 0.3), 0px 1px 3px 1px rgba(60, 64, 67, 0.15);\n",
              "      fill: #174EA6;\n",
              "    }\n",
              "\n",
              "    [theme=dark] .colab-df-convert {\n",
              "      background-color: #3B4455;\n",
              "      fill: #D2E3FC;\n",
              "    }\n",
              "\n",
              "    [theme=dark] .colab-df-convert:hover {\n",
              "      background-color: #434B5C;\n",
              "      box-shadow: 0px 1px 3px 1px rgba(0, 0, 0, 0.15);\n",
              "      filter: drop-shadow(0px 1px 2px rgba(0, 0, 0, 0.3));\n",
              "      fill: #FFFFFF;\n",
              "    }\n",
              "  </style>\n",
              "\n",
              "      <script>\n",
              "        const buttonEl =\n",
              "          document.querySelector('#df-3077638e-443e-49ac-8e69-98df3cd2384a button.colab-df-convert');\n",
              "        buttonEl.style.display =\n",
              "          google.colab.kernel.accessAllowed ? 'block' : 'none';\n",
              "\n",
              "        async function convertToInteractive(key) {\n",
              "          const element = document.querySelector('#df-3077638e-443e-49ac-8e69-98df3cd2384a');\n",
              "          const dataTable =\n",
              "            await google.colab.kernel.invokeFunction('convertToInteractive',\n",
              "                                                     [key], {});\n",
              "          if (!dataTable) return;\n",
              "\n",
              "          const docLinkHtml = 'Like what you see? Visit the ' +\n",
              "            '<a target=\"_blank\" href=https://colab.research.google.com/notebooks/data_table.ipynb>data table notebook</a>'\n",
              "            + ' to learn more about interactive tables.';\n",
              "          element.innerHTML = '';\n",
              "          dataTable['output_type'] = 'display_data';\n",
              "          await google.colab.output.renderOutput(dataTable, element);\n",
              "          const docLink = document.createElement('div');\n",
              "          docLink.innerHTML = docLinkHtml;\n",
              "          element.appendChild(docLink);\n",
              "        }\n",
              "      </script>\n",
              "    </div>\n",
              "  </div>\n",
              "  "
            ]
          },
          "metadata": {},
          "execution_count": 11
        }
      ]
    },
    {
      "cell_type": "markdown",
      "metadata": {
        "id": "O4dbeTRuqgh_"
      },
      "source": [
        "#### 15. Для выборки, полученной в п. 13, закодируйте категориальные признаки (все, кроме Title и FullDescription) при помощи счётчиков, после чего обучите логистическую регрессию (при помощи scikit-learn или Vowpal Wabbit) на обучающей выборке. Вычислите значения ROC-AUC, [F-меры](http://scikit-learn.org/stable/modules/generated/sklearn.metrics.f1_score.html), а также постройте [матрицу ошибок](http://scikit-learn.org/stable/modules/generated/sklearn.metrics.confusion_matrix.html) для полученной модели на контрольной выборке. \n",
        "\n",
        "Уделите внимание оптимальности вычисления счётчиков!"
      ]
    },
    {
      "cell_type": "code",
      "source": [
        "del X, Y,"
      ],
      "metadata": {
        "id": "0Ap_dDuLqigE"
      },
      "execution_count": 66,
      "outputs": []
    },
    {
      "cell_type": "code",
      "source": [
        "# выбрать только те столбцы, которые нужно закодировать\n",
        "cols_to_encode = X_train3.columns.difference(['text'])\n",
        "\n",
        "from sklearn.feature_extraction.text import CountVectorizer \n",
        "\n",
        "# Создаем объект CountVectorizer и кодируем столбцы\n",
        "cv = CountVectorizer()\n",
        "encoded_cols = cv.fit_transform(X_train3[cols_to_encode])\n",
        "\n",
        "# Создаем dataframe из закодированных столбцов\n",
        "encoded_df = pd.DataFrame(encoded_cols.toarray(), columns=cv.get_feature_names_out())\n",
        "del encoded_cols\n",
        "\n",
        "# Объединяем закодированные столбцы с исходным dataframe\n",
        "X_train3 = pd.concat([X_train3.drop(cols_to_encode, axis=1).reset_index(drop=True), encoded_df.reset_index(drop=True)], axis=1)\n",
        "del encoded_df\n",
        "\n",
        "#Аналог для X_test3\n",
        "encoded_cols = cv.fit_transform(X_test3[cols_to_encode])\n",
        "encoded_df = pd.DataFrame(encoded_cols.toarray(), columns=cv.get_feature_names_out())\n",
        "del encoded_cols\n",
        "X_test3 = pd.concat([X_test3.drop(cols_to_encode, axis=1).reset_index(drop=True), encoded_df.reset_index(drop=True)], axis=1)\n",
        "del encoded_df\n",
        "\n",
        "X_train3.head()"
      ],
      "metadata": {
        "colab": {
          "base_uri": "https://localhost:8080/",
          "height": 206
        },
        "id": "s9OOG_K6d8ii",
        "outputId": "eba5c62c-7160-4b3b-d956-1fa4c13b96d5"
      },
      "execution_count": 67,
      "outputs": [
        {
          "output_type": "execute_result",
          "data": {
            "text/plain": [
              "   category  company  contracttime  contracttype   id  locationnormalized  \\\n",
              "0       1.0      0.0           0.0           0.0  0.0                 0.0   \n",
              "1       0.0      1.0           0.0           0.0  0.0                 0.0   \n",
              "2       0.0      0.0           1.0           0.0  0.0                 0.0   \n",
              "3       0.0      0.0           0.0           1.0  0.0                 0.0   \n",
              "4       0.0      0.0           0.0           0.0  1.0                 0.0   \n",
              "\n",
              "   locationraw  sourcename  \n",
              "0          0.0         0.0  \n",
              "1          0.0         0.0  \n",
              "2          0.0         0.0  \n",
              "3          0.0         0.0  \n",
              "4          0.0         0.0  "
            ],
            "text/html": [
              "\n",
              "  <div id=\"df-758bff8d-e64c-4935-baa5-f9304e0ec2d3\">\n",
              "    <div class=\"colab-df-container\">\n",
              "      <div>\n",
              "<style scoped>\n",
              "    .dataframe tbody tr th:only-of-type {\n",
              "        vertical-align: middle;\n",
              "    }\n",
              "\n",
              "    .dataframe tbody tr th {\n",
              "        vertical-align: top;\n",
              "    }\n",
              "\n",
              "    .dataframe thead th {\n",
              "        text-align: right;\n",
              "    }\n",
              "</style>\n",
              "<table border=\"1\" class=\"dataframe\">\n",
              "  <thead>\n",
              "    <tr style=\"text-align: right;\">\n",
              "      <th></th>\n",
              "      <th>category</th>\n",
              "      <th>company</th>\n",
              "      <th>contracttime</th>\n",
              "      <th>contracttype</th>\n",
              "      <th>id</th>\n",
              "      <th>locationnormalized</th>\n",
              "      <th>locationraw</th>\n",
              "      <th>sourcename</th>\n",
              "    </tr>\n",
              "  </thead>\n",
              "  <tbody>\n",
              "    <tr>\n",
              "      <th>0</th>\n",
              "      <td>1.0</td>\n",
              "      <td>0.0</td>\n",
              "      <td>0.0</td>\n",
              "      <td>0.0</td>\n",
              "      <td>0.0</td>\n",
              "      <td>0.0</td>\n",
              "      <td>0.0</td>\n",
              "      <td>0.0</td>\n",
              "    </tr>\n",
              "    <tr>\n",
              "      <th>1</th>\n",
              "      <td>0.0</td>\n",
              "      <td>1.0</td>\n",
              "      <td>0.0</td>\n",
              "      <td>0.0</td>\n",
              "      <td>0.0</td>\n",
              "      <td>0.0</td>\n",
              "      <td>0.0</td>\n",
              "      <td>0.0</td>\n",
              "    </tr>\n",
              "    <tr>\n",
              "      <th>2</th>\n",
              "      <td>0.0</td>\n",
              "      <td>0.0</td>\n",
              "      <td>1.0</td>\n",
              "      <td>0.0</td>\n",
              "      <td>0.0</td>\n",
              "      <td>0.0</td>\n",
              "      <td>0.0</td>\n",
              "      <td>0.0</td>\n",
              "    </tr>\n",
              "    <tr>\n",
              "      <th>3</th>\n",
              "      <td>0.0</td>\n",
              "      <td>0.0</td>\n",
              "      <td>0.0</td>\n",
              "      <td>1.0</td>\n",
              "      <td>0.0</td>\n",
              "      <td>0.0</td>\n",
              "      <td>0.0</td>\n",
              "      <td>0.0</td>\n",
              "    </tr>\n",
              "    <tr>\n",
              "      <th>4</th>\n",
              "      <td>0.0</td>\n",
              "      <td>0.0</td>\n",
              "      <td>0.0</td>\n",
              "      <td>0.0</td>\n",
              "      <td>1.0</td>\n",
              "      <td>0.0</td>\n",
              "      <td>0.0</td>\n",
              "      <td>0.0</td>\n",
              "    </tr>\n",
              "  </tbody>\n",
              "</table>\n",
              "</div>\n",
              "      <button class=\"colab-df-convert\" onclick=\"convertToInteractive('df-758bff8d-e64c-4935-baa5-f9304e0ec2d3')\"\n",
              "              title=\"Convert this dataframe to an interactive table.\"\n",
              "              style=\"display:none;\">\n",
              "        \n",
              "  <svg xmlns=\"http://www.w3.org/2000/svg\" height=\"24px\"viewBox=\"0 0 24 24\"\n",
              "       width=\"24px\">\n",
              "    <path d=\"M0 0h24v24H0V0z\" fill=\"none\"/>\n",
              "    <path d=\"M18.56 5.44l.94 2.06.94-2.06 2.06-.94-2.06-.94-.94-2.06-.94 2.06-2.06.94zm-11 1L8.5 8.5l.94-2.06 2.06-.94-2.06-.94L8.5 2.5l-.94 2.06-2.06.94zm10 10l.94 2.06.94-2.06 2.06-.94-2.06-.94-.94-2.06-.94 2.06-2.06.94z\"/><path d=\"M17.41 7.96l-1.37-1.37c-.4-.4-.92-.59-1.43-.59-.52 0-1.04.2-1.43.59L10.3 9.45l-7.72 7.72c-.78.78-.78 2.05 0 2.83L4 21.41c.39.39.9.59 1.41.59.51 0 1.02-.2 1.41-.59l7.78-7.78 2.81-2.81c.8-.78.8-2.07 0-2.86zM5.41 20L4 18.59l7.72-7.72 1.47 1.35L5.41 20z\"/>\n",
              "  </svg>\n",
              "      </button>\n",
              "      \n",
              "  <style>\n",
              "    .colab-df-container {\n",
              "      display:flex;\n",
              "      flex-wrap:wrap;\n",
              "      gap: 12px;\n",
              "    }\n",
              "\n",
              "    .colab-df-convert {\n",
              "      background-color: #E8F0FE;\n",
              "      border: none;\n",
              "      border-radius: 50%;\n",
              "      cursor: pointer;\n",
              "      display: none;\n",
              "      fill: #1967D2;\n",
              "      height: 32px;\n",
              "      padding: 0 0 0 0;\n",
              "      width: 32px;\n",
              "    }\n",
              "\n",
              "    .colab-df-convert:hover {\n",
              "      background-color: #E2EBFA;\n",
              "      box-shadow: 0px 1px 2px rgba(60, 64, 67, 0.3), 0px 1px 3px 1px rgba(60, 64, 67, 0.15);\n",
              "      fill: #174EA6;\n",
              "    }\n",
              "\n",
              "    [theme=dark] .colab-df-convert {\n",
              "      background-color: #3B4455;\n",
              "      fill: #D2E3FC;\n",
              "    }\n",
              "\n",
              "    [theme=dark] .colab-df-convert:hover {\n",
              "      background-color: #434B5C;\n",
              "      box-shadow: 0px 1px 3px 1px rgba(0, 0, 0, 0.15);\n",
              "      filter: drop-shadow(0px 1px 2px rgba(0, 0, 0, 0.3));\n",
              "      fill: #FFFFFF;\n",
              "    }\n",
              "  </style>\n",
              "\n",
              "      <script>\n",
              "        const buttonEl =\n",
              "          document.querySelector('#df-758bff8d-e64c-4935-baa5-f9304e0ec2d3 button.colab-df-convert');\n",
              "        buttonEl.style.display =\n",
              "          google.colab.kernel.accessAllowed ? 'block' : 'none';\n",
              "\n",
              "        async function convertToInteractive(key) {\n",
              "          const element = document.querySelector('#df-758bff8d-e64c-4935-baa5-f9304e0ec2d3');\n",
              "          const dataTable =\n",
              "            await google.colab.kernel.invokeFunction('convertToInteractive',\n",
              "                                                     [key], {});\n",
              "          if (!dataTable) return;\n",
              "\n",
              "          const docLinkHtml = 'Like what you see? Visit the ' +\n",
              "            '<a target=\"_blank\" href=https://colab.research.google.com/notebooks/data_table.ipynb>data table notebook</a>'\n",
              "            + ' to learn more about interactive tables.';\n",
              "          element.innerHTML = '';\n",
              "          dataTable['output_type'] = 'display_data';\n",
              "          await google.colab.output.renderOutput(dataTable, element);\n",
              "          const docLink = document.createElement('div');\n",
              "          docLink.innerHTML = docLinkHtml;\n",
              "          element.appendChild(docLink);\n",
              "        }\n",
              "      </script>\n",
              "    </div>\n",
              "  </div>\n",
              "  "
            ]
          },
          "metadata": {},
          "execution_count": 67
        }
      ]
    },
    {
      "cell_type": "code",
      "source": [
        "#print(X_train3.shape)\n",
        "train_tfidf = pd.DataFrame(train_tfidf.toarray())\n",
        "#print(train_tfidf.shape)\n",
        "# Пришлось дропнуть индексы, иначе размер растет\n",
        "X_train3 = pd.concat([X_train3.reset_index(drop=True), train_tfidf.reset_index(drop=True)], axis = 1) \n",
        "#print(X_train3.shape)\n",
        "test_tfidf = pd.DataFrame(test_tfidf.toarray())\n",
        "X_test3 = pd.concat([X_test3.reset_index(drop=True), test_tfidf.reset_index(drop=True)], axis = 1)\n"
      ],
      "metadata": {
        "id": "HfM334MJg2Ld"
      },
      "execution_count": 68,
      "outputs": []
    },
    {
      "cell_type": "code",
      "source": [
        "del test_tfidf, train_tfidf"
      ],
      "metadata": {
        "id": "gNz0TFuqknXR"
      },
      "execution_count": 71,
      "outputs": []
    },
    {
      "cell_type": "code",
      "source": [
        "import gc\n",
        "gc.collect()"
      ],
      "metadata": {
        "colab": {
          "base_uri": "https://localhost:8080/"
        },
        "id": "uLU8LS2ek5cd",
        "outputId": "d9ffd825-0d4d-4b89-ad20-71878f7556c0"
      },
      "execution_count": 72,
      "outputs": [
        {
          "output_type": "execute_result",
          "data": {
            "text/plain": [
              "25"
            ]
          },
          "metadata": {},
          "execution_count": 72
        }
      ]
    },
    {
      "cell_type": "code",
      "source": [
        "from sklearn.linear_model import LogisticRegression\n",
        "from sklearn.metrics import roc_auc_score, f1_score, confusion_matrix\n",
        "\n",
        "X_train3.columns = X_train3.columns.astype(str)\n",
        "#Тут стратегия с импутером не получилась\n",
        "X_train3.fillna(0, inplace=True)\n",
        "\n",
        "#Обучение\n",
        "lr3 = LogisticRegression()\n",
        "lr3.fit(X_train3, y_train3)\n",
        "\n"
      ],
      "metadata": {
        "colab": {
          "base_uri": "https://localhost:8080/",
          "height": 75
        },
        "id": "n8_-RzUGfv5x",
        "outputId": "81669249-5896-43be-8c74-74c57d9cf1e8"
      },
      "execution_count": 73,
      "outputs": [
        {
          "output_type": "execute_result",
          "data": {
            "text/plain": [
              "LogisticRegression()"
            ],
            "text/html": [
              "<style>#sk-container-id-1 {color: black;background-color: white;}#sk-container-id-1 pre{padding: 0;}#sk-container-id-1 div.sk-toggleable {background-color: white;}#sk-container-id-1 label.sk-toggleable__label {cursor: pointer;display: block;width: 100%;margin-bottom: 0;padding: 0.3em;box-sizing: border-box;text-align: center;}#sk-container-id-1 label.sk-toggleable__label-arrow:before {content: \"▸\";float: left;margin-right: 0.25em;color: #696969;}#sk-container-id-1 label.sk-toggleable__label-arrow:hover:before {color: black;}#sk-container-id-1 div.sk-estimator:hover label.sk-toggleable__label-arrow:before {color: black;}#sk-container-id-1 div.sk-toggleable__content {max-height: 0;max-width: 0;overflow: hidden;text-align: left;background-color: #f0f8ff;}#sk-container-id-1 div.sk-toggleable__content pre {margin: 0.2em;color: black;border-radius: 0.25em;background-color: #f0f8ff;}#sk-container-id-1 input.sk-toggleable__control:checked~div.sk-toggleable__content {max-height: 200px;max-width: 100%;overflow: auto;}#sk-container-id-1 input.sk-toggleable__control:checked~label.sk-toggleable__label-arrow:before {content: \"▾\";}#sk-container-id-1 div.sk-estimator input.sk-toggleable__control:checked~label.sk-toggleable__label {background-color: #d4ebff;}#sk-container-id-1 div.sk-label input.sk-toggleable__control:checked~label.sk-toggleable__label {background-color: #d4ebff;}#sk-container-id-1 input.sk-hidden--visually {border: 0;clip: rect(1px 1px 1px 1px);clip: rect(1px, 1px, 1px, 1px);height: 1px;margin: -1px;overflow: hidden;padding: 0;position: absolute;width: 1px;}#sk-container-id-1 div.sk-estimator {font-family: monospace;background-color: #f0f8ff;border: 1px dotted black;border-radius: 0.25em;box-sizing: border-box;margin-bottom: 0.5em;}#sk-container-id-1 div.sk-estimator:hover {background-color: #d4ebff;}#sk-container-id-1 div.sk-parallel-item::after {content: \"\";width: 100%;border-bottom: 1px solid gray;flex-grow: 1;}#sk-container-id-1 div.sk-label:hover label.sk-toggleable__label {background-color: #d4ebff;}#sk-container-id-1 div.sk-serial::before {content: \"\";position: absolute;border-left: 1px solid gray;box-sizing: border-box;top: 0;bottom: 0;left: 50%;z-index: 0;}#sk-container-id-1 div.sk-serial {display: flex;flex-direction: column;align-items: center;background-color: white;padding-right: 0.2em;padding-left: 0.2em;position: relative;}#sk-container-id-1 div.sk-item {position: relative;z-index: 1;}#sk-container-id-1 div.sk-parallel {display: flex;align-items: stretch;justify-content: center;background-color: white;position: relative;}#sk-container-id-1 div.sk-item::before, #sk-container-id-1 div.sk-parallel-item::before {content: \"\";position: absolute;border-left: 1px solid gray;box-sizing: border-box;top: 0;bottom: 0;left: 50%;z-index: -1;}#sk-container-id-1 div.sk-parallel-item {display: flex;flex-direction: column;z-index: 1;position: relative;background-color: white;}#sk-container-id-1 div.sk-parallel-item:first-child::after {align-self: flex-end;width: 50%;}#sk-container-id-1 div.sk-parallel-item:last-child::after {align-self: flex-start;width: 50%;}#sk-container-id-1 div.sk-parallel-item:only-child::after {width: 0;}#sk-container-id-1 div.sk-dashed-wrapped {border: 1px dashed gray;margin: 0 0.4em 0.5em 0.4em;box-sizing: border-box;padding-bottom: 0.4em;background-color: white;}#sk-container-id-1 div.sk-label label {font-family: monospace;font-weight: bold;display: inline-block;line-height: 1.2em;}#sk-container-id-1 div.sk-label-container {text-align: center;}#sk-container-id-1 div.sk-container {/* jupyter's `normalize.less` sets `[hidden] { display: none; }` but bootstrap.min.css set `[hidden] { display: none !important; }` so we also need the `!important` here to be able to override the default hidden behavior on the sphinx rendered scikit-learn.org. See: https://github.com/scikit-learn/scikit-learn/issues/21755 */display: inline-block !important;position: relative;}#sk-container-id-1 div.sk-text-repr-fallback {display: none;}</style><div id=\"sk-container-id-1\" class=\"sk-top-container\"><div class=\"sk-text-repr-fallback\"><pre>LogisticRegression()</pre><b>In a Jupyter environment, please rerun this cell to show the HTML representation or trust the notebook. <br />On GitHub, the HTML representation is unable to render, please try loading this page with nbviewer.org.</b></div><div class=\"sk-container\" hidden><div class=\"sk-item\"><div class=\"sk-estimator sk-toggleable\"><input class=\"sk-toggleable__control sk-hidden--visually\" id=\"sk-estimator-id-1\" type=\"checkbox\" checked><label for=\"sk-estimator-id-1\" class=\"sk-toggleable__label sk-toggleable__label-arrow\">LogisticRegression</label><div class=\"sk-toggleable__content\"><pre>LogisticRegression()</pre></div></div></div></div></div>"
            ]
          },
          "metadata": {},
          "execution_count": 73
        }
      ]
    },
    {
      "cell_type": "code",
      "source": [
        "X_test3.columns = X_test3.columns.astype(str)\n",
        "# Применение преобразователя к данным\n",
        "X_test3.fillna(0, inplace=True)\n",
        "\n",
        "\n",
        "#Предикты SKL\n",
        "y_pred_sklearn3 = lr3.predict(X_test3)\n",
        "\n",
        "#Метрики SKL\n",
        "roc_auc_sklearn3_2 = roc_auc_score(y_test3, y_pred_sklearn3)\n",
        "f1_sklearn3_2 = f1_score(y_test3, y_pred_sklearn3)\n",
        "cm_sklearn3_2 = confusion_matrix(y_test3, y_pred_sklearn3)\n",
        "\n",
        "print('Модель из sklearn:')\n",
        "print('ROC-AUC:', roc_auc_sklearn3_2)\n",
        "print('F-мера:', f1_sklearn3_2)\n",
        "print('Матрица ошибок:\\n', cm_sklearn3_2)"
      ],
      "metadata": {
        "colab": {
          "base_uri": "https://localhost:8080/"
        },
        "id": "WlV_I-WTo8rr",
        "outputId": "e9f0dd4e-ee8f-4f85-8f7f-58a4b3169574"
      },
      "execution_count": 74,
      "outputs": [
        {
          "output_type": "stream",
          "name": "stdout",
          "text": [
            "Модель из sklearn:\n",
            "ROC-AUC: 0.8331427482370878\n",
            "F-мера: 0.8010403120936281\n",
            "Матрица ошибок:\n",
            " [[1554  195]\n",
            " [ 264  924]]\n"
          ]
        }
      ]
    },
    {
      "cell_type": "markdown",
      "metadata": {
        "id": "NKtrKNqoqgiA"
      },
      "source": [
        "#### 16.  Сравните значения метрик из п. 15 со значениями, полученными в п. 14, и сделайте вывод о качестве классификации для каждого из методов кодирования категориальных признаков.\n",
        "\n",
        "**Ответ:**\n",
        "В связи с тем, что вместо One-Hot Encoding использовался LE, а также с тем, что выборка значительно сокращается по сравнению с исходной, результаты модели, обученной на наборе с примененным кодированием заметно лучше."
      ]
    },
    {
      "cell_type": "code",
      "source": [
        "print(\"Разница моделей sklearn:\", roc_auc_sklearn3 - roc_auc_sklearn3_2, f1_sklearn3 - f1_sklearn3_2)\n"
      ],
      "metadata": {
        "colab": {
          "base_uri": "https://localhost:8080/"
        },
        "id": "_VasXAw2ownh",
        "outputId": "056a71a9-622a-4ec5-eadf-5644f73fa5fc"
      },
      "execution_count": 75,
      "outputs": [
        {
          "output_type": "stream",
          "name": "stdout",
          "text": [
            "Разница моделей sklearn: -0.2412013213900005 -0.4038605236094919\n"
          ]
        }
      ]
    },
    {
      "cell_type": "markdown",
      "metadata": {
        "id": "iuVBV427qgiA"
      },
      "source": [
        "## Подбор гиперпараметров\n",
        "\n",
        "#### 17. Разбейте обучающую выборку, полученную в п. 13, на обучающую и валидационную в отношении 80/20, после чего подберите оптимальное количество фолдов, используемое при кодировании категориальных признаков (всех, кроме Title и FullDescription), путём оптимизации значения accuracy на валидационной выборке. Используйте следующие модели, аналогично также подобрав оптимальные значения указанных гиперпараметров:\n",
        "- логистическую регрессию из модуля sklearn с подбором коэффициента регуляризации;\n",
        "- логистическую регрессию при помощи Vowpal Wabbit с подбором следующих гиперпараметров:\n",
        "    - коэффициент регуляризации (--l2);\n",
        "    - количество эпох (--passes);\n",
        "    - длина градиентного шага (-l);\n",
        "    - длина N-грамм (--ngram)."
      ]
    },
    {
      "cell_type": "code",
      "execution_count": null,
      "metadata": {
        "collapsed": true,
        "jupyter": {
          "outputs_hidden": true
        },
        "id": "N_J_50cBqgiA"
      },
      "outputs": [],
      "source": [
        "# Your code here"
      ]
    },
    {
      "cell_type": "markdown",
      "metadata": {
        "id": "AZSOvybPqgiA"
      },
      "source": [
        "#### 18. Обучите указанные выше модели на обучающей выборке для оптимальных значений гиперпараметров, найденных в п. 17, после чего для каждой из моделей вычислите значения ROC-AUC, F-меры, а также постройте матрицу ошибок на контрольной выборке. Как качество классификации при помощи полученных в данном разделе моделей соотносится с моделями, полученными в предыдущих разделах?"
      ]
    },
    {
      "cell_type": "code",
      "execution_count": null,
      "metadata": {
        "collapsed": true,
        "jupyter": {
          "outputs_hidden": true
        },
        "id": "WLH3BG-0qgiB"
      },
      "outputs": [],
      "source": [
        "# Your code here"
      ]
    }
  ],
  "metadata": {
    "kernelspec": {
      "display_name": "Python 3 (ipykernel)",
      "language": "python",
      "name": "python3"
    },
    "language_info": {
      "codemirror_mode": {
        "name": "ipython",
        "version": 3
      },
      "file_extension": ".py",
      "mimetype": "text/x-python",
      "name": "python",
      "nbconvert_exporter": "python",
      "pygments_lexer": "ipython3",
      "version": "3.10.9"
    },
    "colab": {
      "provenance": [],
      "include_colab_link": true
    }
  },
  "nbformat": 4,
  "nbformat_minor": 0
}